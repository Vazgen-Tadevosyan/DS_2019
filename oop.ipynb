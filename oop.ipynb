{
 "cells": [
  {
   "cell_type": "markdown",
   "metadata": {},
   "source": [
    "## Introduction to OOP"
   ]
  },
  {
   "cell_type": "code",
   "execution_count": 1,
   "metadata": {},
   "outputs": [],
   "source": [
    "class Dog:\n",
    "    \"\"\"The following class has attributes such as color, tail and size.\n",
    "    Besides it has 2 methods-barking and fighting\"\"\"\n",
    "    legs = 4\n",
    "    def __init__(self,color,tail,size):\n",
    "        self.color = color\n",
    "        self.tail = tail\n",
    "        self.size = size\n",
    "    def bark(self):\n",
    "        return \"Haf, Haf!\"\n",
    "    def fight(self):\n",
    "        if self.tail== \"No\":\n",
    "            return \"The dog is fighting\"\n",
    "        else:\n",
    "            return \"The dog does not want to fight\""
   ]
  },
  {
   "cell_type": "code",
   "execution_count": 2,
   "metadata": {},
   "outputs": [],
   "source": [
    "bob = Dog(color=\"white\", tail=\"No\",size=\"M\")"
   ]
  },
  {
   "cell_type": "code",
   "execution_count": 3,
   "metadata": {},
   "outputs": [
    {
     "data": {
      "text/plain": [
       "'The dog is fighting'"
      ]
     },
     "execution_count": 3,
     "metadata": {},
     "output_type": "execute_result"
    }
   ],
   "source": [
    "bob.fight()"
   ]
  },
  {
   "cell_type": "code",
   "execution_count": 4,
   "metadata": {},
   "outputs": [
    {
     "name": "stdout",
     "output_type": "stream",
     "text": [
      "The dog has 4 and size is M\n"
     ]
    }
   ],
   "source": [
    "print(\"The dog has\", bob.legs,\"and size is\",bob.size)"
   ]
  }
 ],
 "metadata": {
  "kernelspec": {
   "display_name": "Python 3",
   "language": "python",
   "name": "python3"
  },
  "language_info": {
   "codemirror_mode": {
    "name": "ipython",
    "version": 3
   },
   "file_extension": ".py",
   "mimetype": "text/x-python",
   "name": "python",
   "nbconvert_exporter": "python",
   "pygments_lexer": "ipython3",
   "version": "3.7.3"
  }
 },
 "nbformat": 4,
 "nbformat_minor": 2
}
