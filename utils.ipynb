{
 "cells": [
  {
   "cell_type": "code",
   "execution_count": null,
   "metadata": {},
   "outputs": [],
   "source": [
    "import pandas as pd\n",
    "import requests\n",
    "from scrapy.http import TextResponse\n",
    "from sklearn.feature_extraction.text import TfidfVectorizer\n",
    "\n",
    "def get_response(url):\n",
    "    # function for getting Scrapy response\n",
    "    page = requests.get(url)\n",
    "    response = TextResponse(url=page.url,body=page.text,encoding=\"utf-8\")\n",
    "    return response\n",
    "\n",
    "\n",
    "def text_to_df(text):\n",
    "    # takes text as a list an input\n",
    "    # and conducts TF-IDF vectorization\n",
    "    # outputs a DataFrame\n",
    "    tf_idf = TfidfVectorizer()\n",
    "    tfidf_matrix = tf_idf.fit_transform(text)\n",
    "    words = tf_idf.get_feature_names()\n",
    "    data = tfidf_matrix.toarray()\n",
    "    df = pd.DataFrame(data,columns=words)\n",
    "    return df"
   ]
  }
 ],
 "metadata": {
  "kernelspec": {
   "display_name": "Python 3",
   "language": "python",
   "name": "python3"
  },
  "language_info": {
   "codemirror_mode": {
    "name": "ipython",
    "version": 3
   },
   "file_extension": ".py",
   "mimetype": "text/x-python",
   "name": "python",
   "nbconvert_exporter": "python",
   "pygments_lexer": "ipython3",
   "version": "3.7.3"
  }
 },
 "nbformat": 4,
 "nbformat_minor": 2
}
