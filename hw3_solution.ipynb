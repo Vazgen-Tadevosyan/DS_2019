{
 "cells": [
  {
   "cell_type": "code",
   "execution_count": 3,
   "metadata": {},
   "outputs": [],
   "source": [
    "import re\n",
    "import nltk\n",
    "import time\n",
    "import requests\n",
    "import scrapy\n",
    "import numpy as np\n",
    "import pandas as pd\n",
    "from textblob import TextBlob, Word\n",
    "from scrapy.http import TextResponse\n",
    "from nltk.corpus import stopwords, wordnet"
   ]
  },
  {
   "cell_type": "markdown",
   "metadata": {},
   "source": [
    "### 1) Scrape all the latest news headings (and publication time) from https://www.tert.am/en\n",
    "and answer the following questions:<br>\n",
    "- What are the top most frequent words? (not stopword),<br>\n",
    "- How many typical Armenian surnames can be counted in titles? (assume surname in\n",
    "any word starting with an uppercase and ending with “yan”),<br>\n",
    "- In what part of the day are most of the articles published? (you may provide some\n",
    "range such as from 10am to 11am)."
   ]
  },
  {
   "cell_type": "code",
   "execution_count": 4,
   "metadata": {},
   "outputs": [
    {
     "name": "stdout",
     "output_type": "stream",
     "text": [
      "True\n"
     ]
    }
   ],
   "source": [
    "url = \"https://www.tert.am/en\"\n",
    "response = requests.get(url)\n",
    "response = TextResponse(url = response.url, body = response.text, encoding = \"utf-8\")\n",
    "headings=response.css(\"ul[class='list list--with-scroll scroller-block show-link-visited']>li>div>a>span[class='list__title db']::text\").extract()\n",
    "publication_time=response.css(\"span[class='list__date db fb fs14']::text\").extract()\n",
    "print(len(headings)==len(publication_time))##checking whether we scraped correctly\n"
   ]
  },
  {
   "cell_type": "code",
   "execution_count": 5,
   "metadata": {},
   "outputs": [
    {
     "name": "stdout",
     "output_type": "stream",
     "text": [
      "                                                News           Time\n",
      "0      South Korea warns Japan of security pact risk  14:59 • 03/08\n",
      "1  Angelina Jolie shows off her extensive tattoos...  14:36 • 03/08\n",
      "2  Nagorno-Karabakh reports 900 Azerbaijani cease...  14:17 • 03/08\n",
      "3  Google lets rivals bid to power Android search...  14:04 • 03/08\n",
      "4  Armenian tourism official calls for developing...  13:37 • 03/08\n"
     ]
    }
   ],
   "source": [
    "data=pd.DataFrame({\"News\":headings,\"Time\":publication_time})##\n",
    "print(data.head())"
   ]
  },
  {
   "cell_type": "code",
   "execution_count": 6,
   "metadata": {},
   "outputs": [],
   "source": [
    "text=TextBlob(\" \".join(data.News.tolist()))\n",
    "sw = stopwords.words('english') #stopwords in english"
   ]
  },
  {
   "cell_type": "code",
   "execution_count": 7,
   "metadata": {},
   "outputs": [],
   "source": [
    "cleaned=[i for i in text.words if i.lower() not in sw and len(i)>1] ##cleaning stopwords and nonwords"
   ]
  },
  {
   "cell_type": "code",
   "execution_count": 9,
   "metadata": {},
   "outputs": [
    {
     "data": {
      "image/png": "[encoded data removed]",
      "text/plain": [
       "<Figure size 432x288 with 1 Axes>"
      ]
     },
     "metadata": {
      "needs_background": "light"
     },
     "output_type": "display_data"
    }
   ],
   "source": [
    "freq=nltk.FreqDist(cleaned)\n",
    "freq.plot(25)"
   ]
  },
  {
   "cell_type": "markdown",
   "metadata": {},
   "source": [
    "b) How many typical Armenian surnames can be counted in titles? (assume surname in\n",
    "any word starting with an uppercase and ending with “yan”),"
   ]
  },
  {
   "cell_type": "code",
   "execution_count": 11,
   "metadata": {},
   "outputs": [
    {
     "name": "stdout",
     "output_type": "stream",
     "text": [
      "['Davtyan', 'Kocharyan', 'Soghoyan', 'Ghazanchyan', 'Kocharyan', 'Kocharyan']\n"
     ]
    }
   ],
   "source": [
    "surnames=re.findall(\"[A-Z][a-z]+yan\",text.string)\n",
    "print(surnames)\n",
    "##the answer is 6"
   ]
  },
  {
   "cell_type": "markdown",
   "metadata": {},
   "source": [
    "c) In what part of the day are most of the articles published? (you may provide some\n",
    "range such as from 10am to 11am)."
   ]
  },
  {
   "cell_type": "code",
   "execution_count": 12,
   "metadata": {},
   "outputs": [
    {
     "data": {
      "text/plain": [
       "12:    13\n",
       "14:    12\n",
       "11:    12\n",
       "10:    12\n",
       "15:    11\n",
       "09:    10\n",
       "17:    10\n",
       "13:     9\n",
       "16:     7\n",
       "18:     4\n",
       "Name: Time, dtype: int64"
      ]
     },
     "execution_count": 12,
     "metadata": {},
     "output_type": "execute_result"
    }
   ],
   "source": [
    "data.Time.apply(lambda x:x[:3]).value_counts()\n",
    "## as you see most(13) articles are published from 12:00 to 13:00"
   ]
  },
  {
   "cell_type": "markdown",
   "metadata": {},
   "source": [
    "### 2) Scrape all jobs and companies from https://staff.am/en/jobs and answer the following\n",
    "questions:<br>\n",
    "- Which company has the highest number of job postings?<br>\n",
    "- How many postings does this company have?<br>\n",
    "- Which company has the highest number of “developer” (or related) job postings?<br>"
   ]
  },
  {
   "cell_type": "code",
   "execution_count": 13,
   "metadata": {},
   "outputs": [],
   "source": [
    "def get_data(url):\n",
    "    response = requests.get(url)\n",
    "    response = TextResponse(url = response.url, body = response.text, encoding = \"utf-8\")\n",
    "    company=response.css(\"p.job_list_company_title::text\").extract()\n",
    "    job=response.css(\"p.font_bold::text\").extract()\n",
    "    return company,job"
   ]
  },
  {
   "cell_type": "code",
   "execution_count": 14,
   "metadata": {},
   "outputs": [],
   "source": [
    "links=[\"https://staff.am/en/jobs?page={}&per-page=50\".format(i) for i in range(1,13)]"
   ]
  },
  {
   "cell_type": "code",
   "execution_count": 15,
   "metadata": {},
   "outputs": [],
   "source": [
    "companies=[]\n",
    "jobs=[]\n",
    "for i in links:\n",
    "    company,job=get_data(i)\n",
    "    companies.extend(company)\n",
    "    jobs.extend(job)"
   ]
  },
  {
   "cell_type": "code",
   "execution_count": 16,
   "metadata": {},
   "outputs": [
    {
     "name": "stdout",
     "output_type": "stream",
     "text": [
      "                                Company                    Job\n",
      "0            Kidoo Fun and Smart Garden                   Cook\n",
      "1            Kidoo Fun and Smart Garden                Teacher\n",
      "2                         InterTech LLC  Poker Product Manager\n",
      "3                         InterTech LLC     Promotions Manager\n",
      "4  Web Apricot Internet Services Agency      Laravel developer\n"
     ]
    }
   ],
   "source": [
    "data=pd.DataFrame({\"Company\":companies,\"Job\":jobs})\n",
    "print(data.head())"
   ]
  },
  {
   "cell_type": "code",
   "execution_count": 18,
   "metadata": {},
   "outputs": [
    {
     "data": {
      "text/plain": [
       "ՀՀ կրթության, գիտության, մշակույթի և սպորտի նախարարություն    34\n",
       "Synopsys Armenia                                              33\n",
       "Digitain                                                      22\n",
       "PicsArt                                                       16\n",
       "BetConstruct                                                  15\n",
       "Name: Company, dtype: int64"
      ]
     },
     "execution_count": 18,
     "metadata": {},
     "output_type": "execute_result"
    }
   ],
   "source": [
    "data.Company.value_counts()[:5]\n",
    "##this answers to the questions a) and b)"
   ]
  },
  {
   "cell_type": "markdown",
   "metadata": {},
   "source": [
    "Which company has the highest number of “developer” (or related) job postings?"
   ]
  },
  {
   "cell_type": "code",
   "execution_count": 22,
   "metadata": {},
   "outputs": [
    {
     "data": {
      "text/plain": [
       "HelpSystems Armenia                     5\n",
       "Web Apricot Internet Services Agency    4\n",
       "BetConstruct                            4\n",
       "Alternative Creative Network            3\n",
       "Simonian Educational Foundation         3\n",
       "Name: Company, dtype: int64"
      ]
     },
     "execution_count": 22,
     "metadata": {},
     "output_type": "execute_result"
    }
   ],
   "source": [
    "data[data.Job.str.lower().str.contains(\"developer\")][\"Company\"].value_counts()[:5]"
   ]
  },
  {
   "cell_type": "markdown",
   "metadata": {},
   "source": [
    "### 3) Scrape the table with exchange rates from rates.am for the first 2 weeks of July (can be\n",
    "done both with and without Selenium).\n",
    "- What is the average USD rate for this duration?\n",
    "- Plot the average daily USD rate over time."
   ]
  },
  {
   "cell_type": "code",
   "execution_count": 23,
   "metadata": {},
   "outputs": [],
   "source": [
    "url=\"http://www.rate.am/am/armenian-dram-exchange-rates/banks/non-cash/2019/07/02/20-00\""
   ]
  },
  {
   "cell_type": "code",
   "execution_count": 24,
   "metadata": {},
   "outputs": [],
   "source": [
    "def get_table(url):\n",
    "    \"\"\"The following function get the data anc remove unnecessary columns and rows\"\"\"\n",
    "    lst=pd.read_html(url)\n",
    "    time.sleep(3)\n",
    "    table=lst[3]\n",
    "    table.drop(table.columns[[0, 2,13,14]], axis=1, inplace=True)\n",
    "    data=table[1:19]\n",
    "    final_data=data.rename(columns=data.iloc[0])[1:]\n",
    "    final_data.reset_index(drop=True,inplace=True)\n",
    "    return final_data"
   ]
  },
  {
   "cell_type": "code",
   "execution_count": 25,
   "metadata": {},
   "outputs": [],
   "source": [
    "links=[\"http://www.rate.am/am/armenian-dram-exchange-rates/banks/non-cash/2019/07/{0:02d}/20-00\".format(i) for i in range(1,15)]"
   ]
  },
  {
   "cell_type": "code",
   "execution_count": 26,
   "metadata": {},
   "outputs": [],
   "source": [
    "alltables=[]\n",
    "for i in links:\n",
    "    alltables.append(get_table(i))"
   ]
  },
  {
   "cell_type": "code",
   "execution_count": 27,
   "metadata": {},
   "outputs": [
    {
     "data": {
      "text/html": [
       "<div>\n",
       "<style scoped>\n",
       "    .dataframe tbody tr th:only-of-type {\n",
       "        vertical-align: middle;\n",
       "    }\n",
       "\n",
       "    .dataframe tbody tr th {\n",
       "        vertical-align: top;\n",
       "    }\n",
       "\n",
       "    .dataframe thead th {\n",
       "        text-align: right;\n",
       "    }\n",
       "</style>\n",
       "<table border=\"1\" class=\"dataframe\">\n",
       "  <thead>\n",
       "    <tr style=\"text-align: right;\">\n",
       "      <th></th>\n",
       "      <th>Բանկ</th>\n",
       "      <th>Մասնաճյուղեր</th>\n",
       "      <th>Ամսաթիվ</th>\n",
       "      <th>Առք</th>\n",
       "      <th>Վաճ.</th>\n",
       "      <th>Առք</th>\n",
       "      <th>Վաճ.</th>\n",
       "      <th>Առք</th>\n",
       "      <th>Վաճ.</th>\n",
       "      <th>Առք</th>\n",
       "      <th>Վաճ.</th>\n",
       "    </tr>\n",
       "  </thead>\n",
       "  <tbody>\n",
       "    <tr>\n",
       "      <th>0</th>\n",
       "      <td>ԱԿԲԱ-ԿՐԵԴԻՏ ԱԳՐԻԿՈԼ ..</td>\n",
       "      <td>59</td>\n",
       "      <td>01 Հլս, 20:01</td>\n",
       "      <td>475</td>\n",
       "      <td>478.50</td>\n",
       "      <td>536</td>\n",
       "      <td>545</td>\n",
       "      <td>7.51</td>\n",
       "      <td>7.65</td>\n",
       "      <td>596</td>\n",
       "      <td>610</td>\n",
       "    </tr>\n",
       "    <tr>\n",
       "      <th>1</th>\n",
       "      <td>Էյչ-Էս-Բի-Սի Բանկ</td>\n",
       "      <td>9</td>\n",
       "      <td>01 Հլս, 20:01</td>\n",
       "      <td>475.50</td>\n",
       "      <td>478.50</td>\n",
       "      <td>537</td>\n",
       "      <td>544</td>\n",
       "      <td>7.47</td>\n",
       "      <td>7.64</td>\n",
       "      <td>599</td>\n",
       "      <td>607</td>\n",
       "    </tr>\n",
       "    <tr>\n",
       "      <th>2</th>\n",
       "      <td>Բիբլոս Բանկ Արմենիա</td>\n",
       "      <td>5</td>\n",
       "      <td>01 Հլս, 20:01</td>\n",
       "      <td>475</td>\n",
       "      <td>479</td>\n",
       "      <td>536</td>\n",
       "      <td>545</td>\n",
       "      <td>7.42</td>\n",
       "      <td>7.72</td>\n",
       "      <td>600</td>\n",
       "      <td>611</td>\n",
       "    </tr>\n",
       "    <tr>\n",
       "      <th>3</th>\n",
       "      <td>ՀԱՅԷԿՈՆՈՄԲԱՆԿ</td>\n",
       "      <td>51</td>\n",
       "      <td>01 Հլս, 20:01</td>\n",
       "      <td>475</td>\n",
       "      <td>478.50</td>\n",
       "      <td>536</td>\n",
       "      <td>544</td>\n",
       "      <td>7.51</td>\n",
       "      <td>7.70</td>\n",
       "      <td>597</td>\n",
       "      <td>613</td>\n",
       "    </tr>\n",
       "    <tr>\n",
       "      <th>4</th>\n",
       "      <td>Արմսվիսբանկ</td>\n",
       "      <td>1</td>\n",
       "      <td>01 Հլս, 20:01</td>\n",
       "      <td>476</td>\n",
       "      <td>478</td>\n",
       "      <td>539</td>\n",
       "      <td>544</td>\n",
       "      <td>7.52</td>\n",
       "      <td>7.67</td>\n",
       "      <td>603</td>\n",
       "      <td>609</td>\n",
       "    </tr>\n",
       "  </tbody>\n",
       "</table>\n",
       "</div>"
      ],
      "text/plain": [
       "                     Բանկ Մասնաճյուղեր        Ամսաթիվ     Առք    Վաճ.  Առք  \\\n",
       "0  ԱԿԲԱ-ԿՐԵԴԻՏ ԱԳՐԻԿՈԼ ..           59  01 Հլս, 20:01     475  478.50  536   \n",
       "1       Էյչ-Էս-Բի-Սի Բանկ            9  01 Հլս, 20:01  475.50  478.50  537   \n",
       "2     Բիբլոս Բանկ Արմենիա            5  01 Հլս, 20:01     475     479  536   \n",
       "3           ՀԱՅԷԿՈՆՈՄԲԱՆԿ           51  01 Հլս, 20:01     475  478.50  536   \n",
       "4             Արմսվիսբանկ            1  01 Հլս, 20:01     476     478  539   \n",
       "\n",
       "  Վաճ.   Առք  Վաճ.  Առք Վաճ.  \n",
       "0  545  7.51  7.65  596  610  \n",
       "1  544  7.47  7.64  599  607  \n",
       "2  545  7.42  7.72  600  611  \n",
       "3  544  7.51  7.70  597  613  \n",
       "4  544  7.52  7.67  603  609  "
      ]
     },
     "execution_count": 27,
     "metadata": {},
     "output_type": "execute_result"
    }
   ],
   "source": [
    "data=pd.concat(alltables,ignore_index=True) ## this command concates all tables\n",
    "data.head()"
   ]
  },
  {
   "cell_type": "code",
   "execution_count": 29,
   "metadata": {},
   "outputs": [],
   "source": [
    "data=data.iloc[:,:5].copy()## getting neccessary columns"
   ]
  },
  {
   "cell_type": "code",
   "execution_count": 31,
   "metadata": {
    "scrolled": true
   },
   "outputs": [],
   "source": [
    "data[\"Ամսաթիվ\"]=data[\"Ամսաթիվ\"].apply(lambda x :x[:6])"
   ]
  },
  {
   "cell_type": "code",
   "execution_count": 32,
   "metadata": {},
   "outputs": [],
   "source": [
    "data[\"Վաճ.\"]=pd.to_numeric(data[\"Վաճ.\"])"
   ]
  },
  {
   "cell_type": "code",
   "execution_count": 34,
   "metadata": {},
   "outputs": [
    {
     "name": "stdout",
     "output_type": "stream",
     "text": [
      "478.45063025210084\n"
     ]
    }
   ],
   "source": [
    "print(data[\"Վաճ.\"].mean())"
   ]
  },
  {
   "cell_type": "code",
   "execution_count": 33,
   "metadata": {},
   "outputs": [
    {
     "data": {
      "text/plain": [
       "<matplotlib.axes._subplots.AxesSubplot at 0x1e28ad47710>"
      ]
     },
     "execution_count": 33,
     "metadata": {},
     "output_type": "execute_result"
    },
    {
     "data": {
      "image/png": "[encoded data removed]",
      "text/plain": [
       "<Figure size 432x288 with 1 Axes>"
      ]
     },
     "metadata": {
      "needs_background": "light"
     },
     "output_type": "display_data"
    }
   ],
   "source": [
    "data.groupby(\"Ամսաթիվ\")[\"Վաճ.\"].mean().plot(title=\"USD rate over time\")"
   ]
  }
 ],
 "metadata": {
  "kernelspec": {
   "display_name": "Python 3",
   "language": "python",
   "name": "python3"
  },
  "language_info": {
   "codemirror_mode": {
    "name": "ipython",
    "version": 3
   },
   "file_extension": ".py",
   "mimetype": "text/x-python",
   "name": "python",
   "nbconvert_exporter": "python",
   "pygments_lexer": "ipython3",
   "version": "3.7.3"
  }
 },
 "nbformat": 4,
 "nbformat_minor": 2
}
