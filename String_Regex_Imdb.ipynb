{
 "cells": [
  {
   "cell_type": "markdown",
   "metadata": {},
   "source": [
    "## Python Regular Expressions\n",
    "Regular expressions are a powerful tool for various kinds of string manipulation.\n",
    "<br>Regular expressions in Python can be accessed using the **re** module, which is part of the standard library.  \n"
   ]
  },
  {
   "cell_type": "code",
   "execution_count": 4,
   "metadata": {
    "colab": {},
    "colab_type": "code",
    "id": "csql53ugy3Ac"
   },
   "outputs": [],
   "source": [
    "import re"
   ]
  },
  {
   "cell_type": "code",
   "execution_count": 35,
   "metadata": {},
   "outputs": [],
   "source": [
    "import time\n",
    "import requests\n",
    "import numpy as np\n",
    "import pandas as pd\n",
    "from textblob import TextBlob, Word\n",
    "from scrapy.http import TextResponse"
   ]
  },
  {
   "cell_type": "code",
   "execution_count": 5,
   "metadata": {
    "colab": {},
    "colab_type": "code",
    "id": "aGF6T5keq_Gu"
   },
   "outputs": [],
   "source": [
    "name = \"Hrant Davtyan\""
   ]
  },
  {
   "cell_type": "code",
   "execution_count": 6,
   "metadata": {
    "colab": {
     "base_uri": "https://localhost:8080/",
     "height": 34
    },
    "colab_type": "code",
    "id": "h7zEpNbYvbcE",
    "outputId": "8d9fa046-85df-49ba-bd1c-588629ed2343"
   },
   "outputs": [
    {
     "data": {
      "text/plain": [
       "str"
      ]
     },
     "execution_count": 6,
     "metadata": {},
     "output_type": "execute_result"
    }
   ],
   "source": [
    "type(name)"
   ]
  },
  {
   "cell_type": "code",
   "execution_count": 7,
   "metadata": {
    "colab": {
     "base_uri": "https://localhost:8080/",
     "height": 34
    },
    "colab_type": "code",
    "id": "7P48sBdbvcqo",
    "outputId": "101e1d40-db98-45ef-b9b4-d9be52e58717"
   },
   "outputs": [
    {
     "name": "stdout",
     "output_type": "stream",
     "text": [
      "Hrant davtyan\n",
      "HRANT DAVTYAN\n",
      "hrant davtyan\n"
     ]
    }
   ],
   "source": [
    "print(name.capitalize())\n",
    "print(name.upper())\n",
    "print(name.lower())"
   ]
  },
  {
   "cell_type": "code",
   "execution_count": 8,
   "metadata": {
    "colab": {
     "base_uri": "https://localhost:8080/",
     "height": 34
    },
    "colab_type": "code",
    "id": "fKDAuWdrvwNH",
    "outputId": "9cda11a8-e8f8-4385-8a04-a4c00da512b9"
   },
   "outputs": [
    {
     "name": "stdout",
     "output_type": "stream",
     "text": [
      "0\n",
      "6\n",
      "10\n",
      "H D y\n"
     ]
    }
   ],
   "source": [
    "# get an index of a given string\n",
    "print(name.find(\"H\"))\n",
    "print(name.find(\"D\"))\n",
    "print(name.find(\"y\"))\n",
    "print(name[0],name[6],name[10])#just checking"
   ]
  },
  {
   "cell_type": "code",
   "execution_count": 9,
   "metadata": {
    "colab": {
     "base_uri": "https://localhost:8080/",
     "height": 34
    },
    "colab_type": "code",
    "id": "oB9lmy0SwJ2l",
    "outputId": "b52dccd3-5970-4eb6-d1c0-3bb5083d15e1"
   },
   "outputs": [
    {
     "data": {
      "text/plain": [
       "True"
      ]
     },
     "execution_count": 9,
     "metadata": {},
     "output_type": "execute_result"
    }
   ],
   "source": [
    "\"D\" in name"
   ]
  },
  {
   "cell_type": "code",
   "execution_count": 10,
   "metadata": {
    "colab": {
     "base_uri": "https://localhost:8080/",
     "height": 34
    },
    "colab_type": "code",
    "id": "0GBEKz1RwVza",
    "outputId": "94f4bc55-ff70-4fb3-a224-2df9431422d9"
   },
   "outputs": [
    {
     "data": {
      "text/plain": [
       "False"
      ]
     },
     "execution_count": 10,
     "metadata": {},
     "output_type": "execute_result"
    }
   ],
   "source": [
    "\"d\" in name"
   ]
  },
  {
   "cell_type": "code",
   "execution_count": 11,
   "metadata": {
    "colab": {
     "base_uri": "https://localhost:8080/",
     "height": 34
    },
    "colab_type": "code",
    "id": "mu9UTZXywYEr",
    "outputId": "f1581f25-a54d-4fa7-ca49-4ba03ff59bb0"
   },
   "outputs": [
    {
     "name": "stdout",
     "output_type": "stream",
     "text": [
      "1\n",
      "3\n"
     ]
    }
   ],
   "source": [
    "#counts how many times a given character appears in a string\n",
    "print(name.count(\"D\"))\n",
    "print(name.count(\"a\"))\n"
   ]
  },
  {
   "cell_type": "code",
   "execution_count": 12,
   "metadata": {
    "colab": {},
    "colab_type": "code",
    "id": "LmuXv7Woww32"
   },
   "outputs": [
    {
     "data": {
      "text/plain": [
       "2"
      ]
     },
     "execution_count": 12,
     "metadata": {},
     "output_type": "execute_result"
    }
   ],
   "source": [
    "my_sentence = \"Hrant is in Dilijan. Hrant is teaching.\"\n",
    "my_sentence.count(\"Hrant\")"
   ]
  },
  {
   "cell_type": "code",
   "execution_count": 13,
   "metadata": {
    "colab": {
     "base_uri": "https://localhost:8080/",
     "height": 34
    },
    "colab_type": "code",
    "id": "Ef9I41QSxDwv",
    "outputId": "1b21a63c-8fde-44a4-a26c-4c3378d4df53"
   },
   "outputs": [
    {
     "data": {
      "text/plain": [
       "6"
      ]
     },
     "execution_count": 13,
     "metadata": {},
     "output_type": "execute_result"
    }
   ],
   "source": [
    "my_sentence.find(\"is\")"
   ]
  },
  {
   "cell_type": "markdown",
   "metadata": {},
   "source": [
    "<b>The strip() removes white space from both left and right sides"
   ]
  },
  {
   "cell_type": "code",
   "execution_count": 14,
   "metadata": {
    "colab": {},
    "colab_type": "code",
    "id": "DAsrY_wwwkcn"
   },
   "outputs": [],
   "source": [
    "name_with_spaces = \"       Hrant       Davtyan \""
   ]
  },
  {
   "cell_type": "code",
   "execution_count": 15,
   "metadata": {
    "colab": {
     "base_uri": "https://localhost:8080/",
     "height": 34
    },
    "colab_type": "code",
    "id": "qs0uJmGLxSbA",
    "outputId": "c8201163-f122-4d34-9cc4-3c4124193cc5"
   },
   "outputs": [
    {
     "data": {
      "text/plain": [
       "'Hrant       Davtyan'"
      ]
     },
     "execution_count": 15,
     "metadata": {},
     "output_type": "execute_result"
    }
   ],
   "source": [
    "name_with_spaces.strip()"
   ]
  },
  {
   "cell_type": "markdown",
   "metadata": {},
   "source": [
    "<b> The split() method splits a string into a list.\n",
    "\n",
    "You can specify the separator, default separator is any whitespace."
   ]
  },
  {
   "cell_type": "code",
   "execution_count": 16,
   "metadata": {
    "colab": {
     "base_uri": "https://localhost:8080/",
     "height": 34
    },
    "colab_type": "code",
    "id": "US0CtY7Gxa-D",
    "outputId": "d55a2f07-006d-4b20-a873-04d97b3ad45c"
   },
   "outputs": [
    {
     "data": {
      "text/plain": [
       "['Hrant', 'Davtyan']"
      ]
     },
     "execution_count": 16,
     "metadata": {},
     "output_type": "execute_result"
    }
   ],
   "source": [
    "name.split()"
   ]
  },
  {
   "cell_type": "code",
   "execution_count": 17,
   "metadata": {
    "colab": {
     "base_uri": "https://localhost:8080/",
     "height": 34
    },
    "colab_type": "code",
    "id": "ksaZSVQBxvgH",
    "outputId": "c4386f3a-12c2-4ce3-e4bd-ac22916183a1"
   },
   "outputs": [
    {
     "data": {
      "text/plain": [
       "['Hr', 'nt D', 'vty', 'n']"
      ]
     },
     "execution_count": 17,
     "metadata": {},
     "output_type": "execute_result"
    }
   ],
   "source": [
    "name.split(\"a\")## now the separator is the 'a'"
   ]
  },
  {
   "cell_type": "code",
   "execution_count": 18,
   "metadata": {
    "colab": {
     "base_uri": "https://localhost:8080/",
     "height": 34
    },
    "colab_type": "code",
    "id": "5eK5NjpDx5YL",
    "outputId": "a681a598-8f32-4527-f39e-e560731c860b"
   },
   "outputs": [
    {
     "data": {
      "text/plain": [
       "'Hrant Davtian'"
      ]
     },
     "execution_count": 18,
     "metadata": {},
     "output_type": "execute_result"
    }
   ],
   "source": [
    "name.replace(\"y\",\"i\")"
   ]
  },
  {
   "cell_type": "code",
   "execution_count": 19,
   "metadata": {
    "colab": {},
    "colab_type": "code",
    "id": "kUhJmgX_ySHj"
   },
   "outputs": [],
   "source": [
    "#key string methods:\n",
    "#find(), replace(), strip(), split(), count()"
   ]
  },
  {
   "cell_type": "code",
   "execution_count": 20,
   "metadata": {
    "colab": {},
    "colab_type": "code",
    "id": "0mjHCuxkz39G"
   },
   "outputs": [],
   "source": [
    "# . = anything (including nothing, just a space)\n",
    "# * = repetition 0 or more times\n",
    "# + = repetition 1 or more times"
   ]
  },
  {
   "cell_type": "code",
   "execution_count": 21,
   "metadata": {
    "colab": {
     "base_uri": "https://localhost:8080/",
     "height": 34
    },
    "colab_type": "code",
    "id": "CrMf9uHTykWc",
    "outputId": "1c352c6b-591f-40a8-88dc-d239f7970af5"
   },
   "outputs": [
    {
     "data": {
      "text/plain": [
       "['Davtyan']"
      ]
     },
     "execution_count": 21,
     "metadata": {},
     "output_type": "execute_result"
    }
   ],
   "source": [
    "re.findall(\"Davt.+\",name)"
   ]
  },
  {
   "cell_type": "code",
   "execution_count": 22,
   "metadata": {
    "colab": {},
    "colab_type": "code",
    "id": "ipv3JZOxzUCq"
   },
   "outputs": [],
   "source": [
    "my_email = \"Hdavtyan@aua.am\""
   ]
  },
  {
   "cell_type": "code",
   "execution_count": 23,
   "metadata": {
    "colab": {
     "base_uri": "https://localhost:8080/",
     "height": 34
    },
    "colab_type": "code",
    "id": "GQjU5k_70jAl",
    "outputId": "45ee06aa-e772-4410-f586-dd5b32814b5c"
   },
   "outputs": [
    {
     "data": {
      "text/plain": [
       "['Hdavtyan@aua.am']"
      ]
     },
     "execution_count": 23,
     "metadata": {},
     "output_type": "execute_result"
    }
   ],
   "source": [
    "re.findall(\".+@.+\",my_email)"
   ]
  },
  {
   "cell_type": "code",
   "execution_count": 24,
   "metadata": {
    "colab": {},
    "colab_type": "code",
    "id": "fQI5yuiO02Ht"
   },
   "outputs": [],
   "source": [
    "sentence = \"Hrant Davtyans email is hdavtyan@aua.am\""
   ]
  },
  {
   "cell_type": "code",
   "execution_count": 0,
   "metadata": {
    "colab": {
     "base_uri": "https://localhost:8080/",
     "height": 34
    },
    "colab_type": "code",
    "id": "eE8qw5bL1Hmz",
    "outputId": "fca66522-be5b-43de-dcf7-6fa260f19200"
   },
   "outputs": [
    {
     "data": {
      "text/plain": [
       "[' Davtyans email is hdavtyan@aua.am']"
      ]
     },
     "execution_count": 54,
     "metadata": {
      "tags": []
     },
     "output_type": "execute_result"
    }
   ],
   "source": [
    "re.findall(\" .+@.+\",sentence)"
   ]
  },
  {
   "cell_type": "code",
   "execution_count": 0,
   "metadata": {
    "colab": {},
    "colab_type": "code",
    "id": "gOkyg08O1Tz9"
   },
   "outputs": [],
   "source": [
    "new_sentence = \"Republic of Armenia received its independence in 1991000 1991\""
   ]
  },
  {
   "cell_type": "code",
   "execution_count": 0,
   "metadata": {
    "colab": {
     "base_uri": "https://localhost:8080/",
     "height": 34
    },
    "colab_type": "code",
    "id": "HfiBIAZL2U--",
    "outputId": "bb0f02e5-c036-4f7f-c9a1-dcc2b13585b6"
   },
   "outputs": [
    {
     "data": {
      "text/plain": [
       "['1991', '1991']"
      ]
     },
     "execution_count": 78,
     "metadata": {
      "tags": []
     },
     "output_type": "execute_result"
    }
   ],
   "source": [
    "re.findall(\"\\d{4}\",new_sentence)"
   ]
  },
  {
   "cell_type": "code",
   "execution_count": 0,
   "metadata": {
    "colab": {
     "base_uri": "https://localhost:8080/",
     "height": 34
    },
    "colab_type": "code",
    "id": "CswbXF672k8S",
    "outputId": "2a59eb75-1787-49e6-fba7-2f8a28082457"
   },
   "outputs": [
    {
     "data": {
      "text/plain": [
       "re.compile(r'\\d{4}', re.UNICODE)"
      ]
     },
     "execution_count": 79,
     "metadata": {
      "tags": []
     },
     "output_type": "execute_result"
    }
   ],
   "source": [
    "re.compile(\"\\d{4}\") #string as an input, pattern as an output"
   ]
  },
  {
   "cell_type": "code",
   "execution_count": 0,
   "metadata": {
    "colab": {
     "base_uri": "https://localhost:8080/",
     "height": 34
    },
    "colab_type": "code",
    "id": "UQTivV2s5Abt",
    "outputId": "3874c16f-c7af-45e6-ef69-5a05096d577d"
   },
   "outputs": [
    {
     "data": {
      "text/plain": [
       "'Kingdom of Armenia received its independence in 1991000 1991'"
      ]
     },
     "execution_count": 86,
     "metadata": {
      "tags": []
     },
     "output_type": "execute_result"
    }
   ],
   "source": [
    "re.sub(\".+ of\",\"Kingdom of\",new_sentence)"
   ]
  },
  {
   "cell_type": "code",
   "execution_count": 0,
   "metadata": {
    "colab": {},
    "colab_type": "code",
    "id": "D7otTl-X7MGC"
   },
   "outputs": [],
   "source": [
    "new_sentence = re.sub(\".+ of\",\"Kingdom of\",new_sentence)"
   ]
  },
  {
   "cell_type": "code",
   "execution_count": 0,
   "metadata": {
    "colab": {
     "base_uri": "https://localhost:8080/",
     "height": 34
    },
    "colab_type": "code",
    "id": "nJVbc92q7aKY",
    "outputId": "32c6d240-b8bf-4d00-8f8f-ec7eacb87452"
   },
   "outputs": [
    {
     "data": {
      "text/plain": [
       "'Kingdom of Armenia received its independence in 1991000 1991'"
      ]
     },
     "execution_count": 90,
     "metadata": {
      "tags": []
     },
     "output_type": "execute_result"
    }
   ],
   "source": [
    "new_sentence"
   ]
  },
  {
   "cell_type": "code",
   "execution_count": 0,
   "metadata": {
    "colab": {
     "base_uri": "https://localhost:8080/",
     "height": 54
    },
    "colab_type": "code",
    "id": "FfKkT3Z-5yPi",
    "outputId": "02dc4f48-32d8-41c1-9092-696db2afcd99"
   },
   "outputs": [
    {
     "data": {
      "text/plain": [
       "'\\x01Federation \\x02and Armenia received its independence in 1991000 1991'"
      ]
     },
     "execution_count": 98,
     "metadata": {
      "tags": []
     },
     "output_type": "execute_result"
    }
   ],
   "source": [
    "re.sub(\"(.+)( of)\",\"\\1Federation \\2and\",new_sentence)"
   ]
  },
  {
   "cell_type": "code",
   "execution_count": 25,
   "metadata": {
    "colab": {},
    "colab_type": "code",
    "id": "8gXn8Szg68Mq"
   },
   "outputs": [],
   "source": [
    "mj_song  = \"\"\"\n",
    "She was more like a beauty queen from a movie scene\n",
    "I said don't mind, but what do you mean, I am the one\n",
    "Who will dance on the floor in the round\n",
    "She said I am the one, who will dance on the floor in the round\n",
    "\"\"\""
   ]
  },
  {
   "cell_type": "code",
   "execution_count": 26,
   "metadata": {
    "colab": {
     "base_uri": "https://localhost:8080/",
     "height": 34
    },
    "colab_type": "code",
    "id": "TxK_lwgs88Ft",
    "outputId": "a3caa695-0571-4a14-e8e6-708bf9db463a"
   },
   "outputs": [
    {
     "data": {
      "text/plain": [
       "str"
      ]
     },
     "execution_count": 26,
     "metadata": {},
     "output_type": "execute_result"
    }
   ],
   "source": [
    "type(mj_song)"
   ]
  },
  {
   "cell_type": "code",
   "execution_count": 27,
   "metadata": {
    "colab": {
     "base_uri": "https://localhost:8080/",
     "height": 120
    },
    "colab_type": "code",
    "id": "sW2zK7b18-q_",
    "outputId": "1e035866-ebe3-4347-95d4-3b1f7dc955ff"
   },
   "outputs": [
    {
     "name": "stdout",
     "output_type": "stream",
     "text": [
      "\n",
      "He was more like a beauty king from a movie scene\n",
      "I said don't mind, but what do you mean, I am the one\n",
      "Who will dance on the floor in the round\n",
      "He said I am the one, who will dance on the floor in the round\n",
      "\n"
     ]
    }
   ],
   "source": [
    "print(mj_song.replace(\"She\",\"He\").replace(\"queen\",\"king\"))"
   ]
  },
  {
   "cell_type": "code",
   "execution_count": 28,
   "metadata": {
    "colab": {
     "base_uri": "https://localhost:8080/",
     "height": 54
    },
    "colab_type": "code",
    "id": "Uwq8ubgj95iW",
    "outputId": "ff1bd86a-a838-404c-eca5-e689aec4ee5a"
   },
   "outputs": [
    {
     "data": {
      "text/plain": [
       "\"\\n was more like a beauty queen from a movie scene\\nI said don't mind, but what do you mean, I am the one\\nWho will dance on the floor in the round\\n said I am the one, who will dance on the floor in the round\\n\""
      ]
     },
     "execution_count": 28,
     "metadata": {},
     "output_type": "execute_result"
    }
   ],
   "source": [
    "re.sub(\"She\",\"\",mj_song)"
   ]
  },
  {
   "cell_type": "code",
   "execution_count": 29,
   "metadata": {
    "colab": {},
    "colab_type": "code",
    "id": "XzAwompr-Zaq"
   },
   "outputs": [],
   "source": [
    "eminem_movie = \"\"\"8 Mile opened at No. 1 with $51,240,555 in its opening weekend, the then second highest opening for an R-rated movie in the U.S.[4] The film would go on to gross $116,750,901 domestically, and $126,124,177 overseas for a total of $242,875,078 worldwide.[2] The film's final domestic gross would hold the film at No. 3 in Box Office Mojo's \"Pop Star Debuts\" list, behind Austin Powers in Goldmember (Beyoncé) and The Bodyguard (Whitney Houston).\"\"\""
   ]
  },
  {
   "cell_type": "code",
   "execution_count": 31,
   "metadata": {
    "colab": {
     "base_uri": "https://localhost:8080/",
     "height": 86
    },
    "colab_type": "code",
    "id": "XV4fQQDjAwRj",
    "outputId": "8eea74f0-73af-45c9-ab29-db8dcc03f897"
   },
   "outputs": [
    {
     "name": "stdout",
     "output_type": "stream",
     "text": [
      "51240555\n",
      "116750901\n",
      "126124177\n",
      "242875078\n"
     ]
    }
   ],
   "source": [
    "for i in eminem_movie.split():\n",
    "    if i[0]==\"$\":\n",
    "        print(int(i.replace(\",\",\"\")[1:]))"
   ]
  },
  {
   "cell_type": "code",
   "execution_count": 32,
   "metadata": {
    "colab": {
     "base_uri": "https://localhost:8080/",
     "height": 34
    },
    "colab_type": "code",
    "id": "JPdzU7v-CZRu",
    "outputId": "da737dec-b71e-4b53-db24-1f84919d3e6a"
   },
   "outputs": [
    {
     "data": {
      "text/plain": [
       "['51240555', '116750901', '126124177', '242875078']"
      ]
     },
     "execution_count": 32,
     "metadata": {},
     "output_type": "execute_result"
    }
   ],
   "source": [
    "re.findall(\"\\$(\\S+)\",eminem_movie.replace(\",\",\"\"))"
   ]
  },
  {
   "cell_type": "code",
   "execution_count": 36,
   "metadata": {
    "colab": {},
    "colab_type": "code",
    "id": "-4DfpnhsFirH"
   },
   "outputs": [],
   "source": [
    "url = \"http://books.toscrape.com/\"\n",
    "page = requests.get(url)\n",
    "response = TextResponse(url=page.url,body=page.text,encoding=\"utf-8\")"
   ]
  },
  {
   "cell_type": "code",
   "execution_count": 37,
   "metadata": {},
   "outputs": [
    {
     "data": {
      "text/plain": [
       "['51.77',\n",
       " '53.74',\n",
       " '50.10',\n",
       " '47.82',\n",
       " '54.23',\n",
       " '22.65',\n",
       " '33.34',\n",
       " '17.93',\n",
       " '22.60',\n",
       " '52.15',\n",
       " '13.99',\n",
       " '20.66',\n",
       " '17.46',\n",
       " '52.29',\n",
       " '35.02',\n",
       " '57.25',\n",
       " '23.88',\n",
       " '37.59',\n",
       " '51.33',\n",
       " '45.17']"
      ]
     },
     "execution_count": 37,
     "metadata": {},
     "output_type": "execute_result"
    }
   ],
   "source": [
    "response.css(\"p.price_color::text\").re(\"\\d.*\\d\")"
   ]
  },
  {
   "cell_type": "code",
   "execution_count": 48,
   "metadata": {},
   "outputs": [
    {
     "data": {
      "text/plain": [
       "['star-rating Three',\n",
       " 'star-rating One',\n",
       " 'star-rating One',\n",
       " 'star-rating Four',\n",
       " 'star-rating Five',\n",
       " 'star-rating One',\n",
       " 'star-rating Four',\n",
       " 'star-rating Three',\n",
       " 'star-rating Four',\n",
       " 'star-rating One',\n",
       " 'star-rating Two',\n",
       " 'star-rating Four',\n",
       " 'star-rating Five',\n",
       " 'star-rating Five',\n",
       " 'star-rating Five',\n",
       " 'star-rating Three',\n",
       " 'star-rating One',\n",
       " 'star-rating One',\n",
       " 'star-rating Two',\n",
       " 'star-rating Two']"
      ]
     },
     "execution_count": 48,
     "metadata": {},
     "output_type": "execute_result"
    }
   ],
   "source": [
    "response.css(\"p[class^='star-rating']::attr(class)\").extract()\n"
   ]
  },
  {
   "cell_type": "code",
   "execution_count": 47,
   "metadata": {},
   "outputs": [
    {
     "data": {
      "text/plain": [
       "['star-rating Three',\n",
       " 'star-rating One',\n",
       " 'star-rating One',\n",
       " 'star-rating Four',\n",
       " 'star-rating Five',\n",
       " 'star-rating One',\n",
       " 'star-rating Four',\n",
       " 'star-rating Three',\n",
       " 'star-rating Four',\n",
       " 'star-rating One',\n",
       " 'star-rating Two',\n",
       " 'star-rating Four',\n",
       " 'star-rating Five',\n",
       " 'star-rating Five',\n",
       " 'star-rating Five',\n",
       " 'star-rating Three',\n",
       " 'star-rating One',\n",
       " 'star-rating One',\n",
       " 'star-rating Two',\n",
       " 'star-rating Two']"
      ]
     },
     "execution_count": 47,
     "metadata": {},
     "output_type": "execute_result"
    }
   ],
   "source": [
    "response.css(\"p[class^='star-rating']::attr(class)\").re('^star-rating.+')"
   ]
  },
  {
   "cell_type": "markdown",
   "metadata": {},
   "source": [
    "# IMDB"
   ]
  },
  {
   "cell_type": "code",
   "execution_count": 49,
   "metadata": {},
   "outputs": [],
   "source": [
    "imdb_url = \"https://www.imdb.com/chart/top?ref_=nv_mv_250\"\n",
    "page = requests.get(imdb_url)\n",
    "response = TextResponse(url=page.url,body=page.text,encoding=\"utf-8\")"
   ]
  },
  {
   "cell_type": "code",
   "execution_count": 51,
   "metadata": {},
   "outputs": [],
   "source": [
    "name = response.css(\"td.titleColumn > a::text\").extract()\n",
    "href = response.css(\"td.titleColumn > a::attr(href)\").extract()\n",
    "year = response.css(\"span.secondaryInfo::text\").re(\"\\d{4}\")## getting only first 4  digits\n",
    "rating = response.css(\"td[class='ratingColumn imdbRating'] > strong::text\").extract()"
   ]
  },
  {
   "cell_type": "code",
   "execution_count": 53,
   "metadata": {},
   "outputs": [
    {
     "name": "stdout",
     "output_type": "stream",
     "text": [
      "['The Shawshank Redemption', 'The Godfather', 'The Godfather: Part II', 'The Dark Knight', '12 Angry Men', \"Schindler's List\", 'The Lord of the Rings: The Return of the King', 'Pulp Fiction', 'Il buono, il brutto, il cattivo', 'Fight Club', 'The Lord of the Rings: The Fellowship of the Ring', 'Forrest Gump', 'Inception', 'Star Wars: Episode V - The Empire Strikes Back', 'The Lord of the Rings: The Two Towers', \"One Flew Over the Cuckoo's Nest\", 'Goodfellas', 'The Matrix', 'Shichinin no samurai', 'Avengers: Endgame', 'Se7en', 'Cidade de Deus', 'Star Wars', 'The Silence of the Lambs', \"It's a Wonderful Life\", 'La vita è bella', 'Sen to Chihiro no kamikakushi', 'Saving Private Ryan', 'The Usual Suspects', 'Léon', 'The Green Mile', 'Interstellar', 'Psycho', 'American History X', 'City Lights', 'Casablanca', 'Once Upon a Time in the West', 'The Pianist', 'Modern Times', 'The Intouchables', 'The Departed', 'Back to the Future', 'Terminator 2: Judgment Day', 'The Lion King', 'Whiplash', 'Rear Window', 'Gladiator', 'Raiders of the Lost Ark', 'The Prestige', 'Apocalypse Now', 'Memento', 'Alien', 'Hotaru no haka', 'Nuovo Cinema Paradiso', 'The Great Dictator', 'Spider-Man: Into the Spider-Verse', 'Sunset Blvd.', 'The Lives of Others', 'Dr. Strangelove or: How I Learned to Stop Worrying and Love the Bomb', 'Avengers: Infinity War', 'Paths of Glory', 'Django Unchained', 'The Shining', 'WALL·E', 'Mononoke-hime', 'Witness for the Prosecution', 'Oldeuboi', 'The Dark Knight Rises', 'Aliens', 'American Beauty', 'Once Upon a Time in America', 'Coco', 'Das Boot', 'Citizen Kane', 'Braveheart', 'Vertigo', 'Kimi no na wa.', 'North by Northwest', 'Reservoir Dogs', 'Star Wars: Episode VI - Return of the Jedi', 'Amadeus', 'M - Eine Stadt sucht einen Mörder', 'Requiem for a Dream', 'Toy Story', '3 Idiots', 'Dangal', '2001: A Space Odyssey', 'Taare Zameen Par', 'Eternal Sunshine of the Spotless Mind', 'Lawrence of Arabia', 'A Clockwork Orange', \"Singin' in the Rain\", 'Inglourious Basterds', 'Amélie', 'Double Indemnity', 'Taxi Driver', 'Full Metal Jacket', 'Good Will Hunting', 'Ladri di biciclette', 'To Kill a Mockingbird', 'The Kid', 'The Sting', 'Toy Story 3', 'Jagten', 'Snatch', 'Scarface', 'Per qualche dollaro in più', 'The Apartment', 'Metropolis', 'Monty Python and the Holy Grail', 'L.A. Confidential', 'Jodaeiye Nader az Simin', 'Indiana Jones and the Last Crusade', 'Up', 'Rashômon', 'All About Eve', 'Batman Begins', 'Some Like It Hot', 'Yôjinbô', 'Der Untergang', 'Die Hard', 'Unforgiven', 'Heat', 'Incendies', 'The Treasure of the Sierra Madre', 'Ikiru', 'Green Book', 'Raging Bull', 'The Great Escape', 'Bacheha-Ye aseman', \"Pan's Labyrinth\", 'Chinatown', 'Tonari no Totoro', 'Hauru no ugoku shiro', 'Ran', 'The Third Man', 'Judgment at Nuremberg', 'Babam ve Oglum', 'El secreto de sus ojos', 'The Gold Rush', 'A Beautiful Mind', 'The Bridge on the River Kwai', 'Toy Story 4', 'Casino', 'Lock, Stock and Two Smoking Barrels', 'Three Billboards Outside Ebbing, Missouri', 'Det sjunde inseglet', 'On the Waterfront', 'The Wolf of Wall Street', 'The Elephant Man', 'Inside Out', 'V for Vendetta', 'Mr. Smith Goes to Washington', 'There Will Be Blood', 'Warrior', 'No Country for Old Men', 'Blade Runner', 'Room', 'Dial M for Murder', 'The Sixth Sense', 'Smultronstället', 'Trainspotting', 'The General', 'Gone with the Wind', 'The Thing', 'Fargo', 'Idi i smotri', 'Andhadhun', 'Finding Nemo', 'Gran Torino', 'The Deer Hunter', 'Shutter Island', 'The Big Lebowski', 'Kill Bill: Vol. 1', 'Sherlock Jr.', 'Cool Hand Luke', 'Mary and Max', 'Hacksaw Ridge', 'Tôkyô monogatari', 'Jurassic Park', 'Rebecca', 'How to Train Your Dragon', 'Gone Girl', \"Vayri patmut'yunner\", 'The Truman Show', 'Stalker', 'The Grand Budapest Hotel', 'In the Name of the Father', 'Stand by Me', 'Salinui chueok', 'Sunrise: A Song of Two Humans', 'It Happened One Night', 'Platoon', 'Into the Wild', 'Persona', 'Network', 'Ben-Hur', 'Life of Brian', '12 Years a Slave', 'Million Dollar Baby', 'Before Sunrise', 'Hotel Rwanda', 'Prisoners', 'Mad Max: Fury Road', 'Logan', \"Hachi: A Dog's Tale\", 'Rush', 'Eskiya', 'Le salaire de la peur', 'Catch Me If You Can', 'Les quatre cents coups', 'Spotlight', 'Amores perros', 'Harry Potter and the Deathly Hallows: Part 2', 'Andrei Rublev', 'Kaze no tani no Naushika', \"La passion de Jeanne d'Arc\", 'The Princess Bride', 'Barry Lyndon', 'Shin seiki Evangelion Gekijô-ban: Air/Magokoro wo, kimi ni', 'Rocky', 'Butch Cassidy and the Sundance Kid', 'Rang De Basanti', 'Monsters, Inc.', 'Dead Poets Society', 'The Grapes of Wrath', 'The Terminator', 'Ah-ga-ssi', 'The Maltese Falcon', 'La haine', 'Gandhi', 'Faa yeung nin wa', 'Donnie Darko', 'Groundhog Day', 'The Help', 'The Wizard of Oz', 'Guardians of the Galaxy', 'Les diaboliques', 'Jaws', 'Before Sunset', 'Tenkû no shiro Rapyuta', 'Pirates of the Caribbean: The Curse of the Black Pearl', 'Da hong deng long gao gao gua', 'Paris, Texas', 'Beauty and the Beast', 'The Exorcist', 'Dog Day Afternoon', 'Akira', 'Song of the Sea', 'PK'] \n",
      " ['/title/tt0111161/', '/title/tt0068646/', '/title/tt0071562/', '/title/tt0468569/', '/title/tt0050083/', '/title/tt0108052/', '/title/tt0167260/', '/title/tt0110912/', '/title/tt0060196/', '/title/tt0137523/', '/title/tt0120737/', '/title/tt0109830/', '/title/tt1375666/', '/title/tt0080684/', '/title/tt0167261/', '/title/tt0073486/', '/title/tt0099685/', '/title/tt0133093/', '/title/tt0047478/', '/title/tt4154796/', '/title/tt0114369/', '/title/tt0317248/', '/title/tt0076759/', '/title/tt0102926/', '/title/tt0038650/', '/title/tt0118799/', '/title/tt0245429/', '/title/tt0120815/', '/title/tt0114814/', '/title/tt0110413/', '/title/tt0120689/', '/title/tt0816692/', '/title/tt0054215/', '/title/tt0120586/', '/title/tt0021749/', '/title/tt0034583/', '/title/tt0064116/', '/title/tt0253474/', '/title/tt0027977/', '/title/tt1675434/', '/title/tt0407887/', '/title/tt0088763/', '/title/tt0103064/', '/title/tt0110357/', '/title/tt2582802/', '/title/tt0047396/', '/title/tt0172495/', '/title/tt0082971/', '/title/tt0482571/', '/title/tt0078788/', '/title/tt0209144/', '/title/tt0078748/', '/title/tt0095327/', '/title/tt0095765/', '/title/tt0032553/', '/title/tt4633694/', '/title/tt0043014/', '/title/tt0405094/', '/title/tt0057012/', '/title/tt4154756/', '/title/tt0050825/', '/title/tt1853728/', '/title/tt0081505/', '/title/tt0910970/', '/title/tt0119698/', '/title/tt0051201/', '/title/tt0364569/', '/title/tt1345836/', '/title/tt0090605/', '/title/tt0169547/', '/title/tt0087843/', '/title/tt2380307/', '/title/tt0082096/', '/title/tt0033467/', '/title/tt0112573/', '/title/tt0052357/', '/title/tt5311514/', '/title/tt0053125/', '/title/tt0105236/', '/title/tt0086190/', '/title/tt0086879/', '/title/tt0022100/', '/title/tt0180093/', '/title/tt0114709/', '/title/tt1187043/', '/title/tt5074352/', '/title/tt0062622/', '/title/tt0986264/', '/title/tt0338013/', '/title/tt0056172/', '/title/tt0066921/', '/title/tt0045152/', '/title/tt0361748/', '/title/tt0211915/', '/title/tt0036775/', '/title/tt0075314/', '/title/tt0093058/', '/title/tt0119217/', '/title/tt0040522/', '/title/tt0056592/', '/title/tt0012349/', '/title/tt0070735/', '/title/tt0435761/', '/title/tt2106476/', '/title/tt0208092/', '/title/tt0086250/', '/title/tt0059578/', '/title/tt0053604/', '/title/tt0017136/', '/title/tt0071853/', '/title/tt0119488/', '/title/tt1832382/', '/title/tt0097576/', '/title/tt1049413/', '/title/tt0042876/', '/title/tt0042192/', '/title/tt0372784/', '/title/tt0053291/', '/title/tt0055630/', '/title/tt0363163/', '/title/tt0095016/', '/title/tt0105695/', '/title/tt0113277/', '/title/tt1255953/', '/title/tt0040897/', '/title/tt0044741/', '/title/tt6966692/', '/title/tt0081398/', '/title/tt0057115/', '/title/tt0118849/', '/title/tt0457430/', '/title/tt0071315/', '/title/tt0096283/', '/title/tt0347149/', '/title/tt0089881/', '/title/tt0041959/', '/title/tt0055031/', '/title/tt0476735/', '/title/tt1305806/', '/title/tt0015864/', '/title/tt0268978/', '/title/tt0050212/', '/title/tt1979376/', '/title/tt0112641/', '/title/tt0120735/', '/title/tt5027774/', '/title/tt0050976/', '/title/tt0047296/', '/title/tt0993846/', '/title/tt0080678/', '/title/tt2096673/', '/title/tt0434409/', '/title/tt0031679/', '/title/tt0469494/', '/title/tt1291584/', '/title/tt0477348/', '/title/tt0083658/', '/title/tt3170832/', '/title/tt0046912/', '/title/tt0167404/', '/title/tt0050986/', '/title/tt0117951/', '/title/tt0017925/', '/title/tt0031381/', '/title/tt0084787/', '/title/tt0116282/', '/title/tt0091251/', '/title/tt8108198/', '/title/tt0266543/', '/title/tt1205489/', '/title/tt0077416/', '/title/tt1130884/', '/title/tt0118715/', '/title/tt0266697/', '/title/tt0015324/', '/title/tt0061512/', '/title/tt0978762/', '/title/tt2119532/', '/title/tt0046438/', '/title/tt0107290/', '/title/tt0032976/', '/title/tt0892769/', '/title/tt2267998/', '/title/tt3011894/', '/title/tt0120382/', '/title/tt0079944/', '/title/tt2278388/', '/title/tt0107207/', '/title/tt0092005/', '/title/tt0353969/', '/title/tt0018455/', '/title/tt0025316/', '/title/tt0091763/', '/title/tt0758758/', '/title/tt0060827/', '/title/tt0074958/', '/title/tt0052618/', '/title/tt0079470/', '/title/tt2024544/', '/title/tt0405159/', '/title/tt0112471/', '/title/tt0395169/', '/title/tt1392214/', '/title/tt1392190/', '/title/tt3315342/', '/title/tt1028532/', '/title/tt1979320/', '/title/tt0116231/', '/title/tt0046268/', '/title/tt0264464/', '/title/tt0053198/', '/title/tt1895587/', '/title/tt0245712/', '/title/tt1201607/', '/title/tt0060107/', '/title/tt0087544/', '/title/tt0019254/', '/title/tt0093779/', '/title/tt0072684/', '/title/tt0169858/', '/title/tt0075148/', '/title/tt0064115/', '/title/tt0405508/', '/title/tt0198781/', '/title/tt0097165/', '/title/tt0032551/', '/title/tt0088247/', '/title/tt4016934/', '/title/tt0033870/', '/title/tt0113247/', '/title/tt0083987/', '/title/tt0118694/', '/title/tt0246578/', '/title/tt0107048/', '/title/tt1454029/', '/title/tt0032138/', '/title/tt2015381/', '/title/tt0046911/', '/title/tt0073195/', '/title/tt0381681/', '/title/tt0092067/', '/title/tt0325980/', '/title/tt0101640/', '/title/tt0087884/', '/title/tt0101414/', '/title/tt0070047/', '/title/tt0072890/', '/title/tt0094625/', '/title/tt1865505/', '/title/tt2338151/'] \n",
      " ['1994', '1972', '1974', '2008', '1957', '1993', '2003', '1994', '1966', '1999', '2001', '1994', '2010', '1980', '2002', '1975', '1990', '1999', '1954', '2019', '1995', '2002', '1977', '1991', '1946', '1997', '2001', '1998', '1995', '1994', '1999', '2014', '1960', '1998', '1931', '1942', '1968', '2002', '1936', '2011', '2006', '1985', '1991', '1994', '2014', '1954', '2000', '1981', '2006', '1979', '2000', '1979', '1988', '1988', '1940', '2018', '1950', '2006', '1964', '2018', '1957', '2012', '1980', '2008', '1997', '1957', '2003', '2012', '1986', '1999', '1984', '2017', '1981', '1941', '1995', '1958', '2016', '1959', '1992', '1983', '1984', '1931', '2000', '1995', '2009', '2016', '1968', '2007', '2004', '1962', '1971', '1952', '2009', '2001', '1944', '1976', '1987', '1997', '1948', '1962', '1921', '1973', '2010', '2012', '2000', '1983', '1965', '1960', '1927', '1975', '1997', '2011', '1989', '2009', '1950', '1950', '2005', '1959', '1961', '2004', '1988', '1992', '1995', '2010', '1948', '1952', '2018', '1980', '1963', '1997', '2006', '1974', '1988', '2004', '1985', '1949', '1961', '2005', '2009', '1925', '2001', '1957', '2019', '1995', '1998', '2017', '1957', '1954', '2013', '1980', '2015', '2005', '1939', '2007', '2011', '2007', '1982', '2015', '1954', '1999', '1957', '1996', '1926', '1939', '1982', '1996', '1985', '2018', '2003', '2008', '1978', '2010', '1998', '2003', '1924', '1967', '2009', '2016', '1953', '1993', '1940', '2010', '2014', '2014', '1998', '1979', '2014', '1993', '1986', '2003', '1927', '1934', '1986', '2007', '1966', '1976', '1959', '1979', '2013', '2004', '1995', '2004', '2013', '2015', '2017', '2009', '2013', '1996', '1953', '2002', '1959', '2015', '2000', '2011', '1966', '1984', '1928', '1987', '1975', '1997', '1976', '1969', '2006', '2001', '1989', '1940', '1984', '2016', '1941', '1995', '1982', '2000', '2001', '1993', '2011', '1939', '2014', '1955', '1975', '2004', '1986', '2003', '1991', '1984', '1991', '1973', '1975', '1988', '2014', '2014'] \n",
      " ['9.2', '9.2', '9.0', '9.0', '8.9', '8.9', '8.9', '8.9', '8.8', '8.8', '8.8', '8.7', '8.7', '8.7', '8.7', '8.7', '8.7', '8.6', '8.6', '8.6', '8.6', '8.6', '8.6', '8.6', '8.6', '8.6', '8.5', '8.5', '8.5', '8.5', '8.5', '8.5', '8.5', '8.5', '8.5', '8.5', '8.5', '8.5', '8.5', '8.5', '8.5', '8.5', '8.5', '8.5', '8.5', '8.5', '8.5', '8.5', '8.5', '8.4', '8.4', '8.4', '8.4', '8.4', '8.4', '8.4', '8.4', '8.4', '8.4', '8.4', '8.4', '8.4', '8.4', '8.4', '8.4', '8.4', '8.3', '8.3', '8.3', '8.3', '8.3', '8.3', '8.3', '8.3', '8.3', '8.3', '8.3', '8.3', '8.3', '8.3', '8.3', '8.3', '8.3', '8.3', '8.3', '8.3', '8.3', '8.3', '8.3', '8.3', '8.3', '8.3', '8.3', '8.3', '8.3', '8.3', '8.3', '8.3', '8.3', '8.3', '8.3', '8.3', '8.3', '8.3', '8.3', '8.2', '8.2', '8.2', '8.2', '8.2', '8.2', '8.2', '8.2', '8.2', '8.2', '8.2', '8.2', '8.2', '8.2', '8.2', '8.2', '8.2', '8.2', '8.2', '8.2', '8.2', '8.2', '8.2', '8.2', '8.2', '8.2', '8.2', '8.2', '8.2', '8.2', '8.2', '8.2', '8.2', '8.2', '8.2', '8.2', '8.2', '8.2', '8.2', '8.2', '8.1', '8.1', '8.1', '8.1', '8.1', '8.1', '8.1', '8.1', '8.1', '8.1', '8.1', '8.1', '8.1', '8.1', '8.1', '8.1', '8.1', '8.1', '8.1', '8.1', '8.1', '8.1', '8.1', '8.1', '8.1', '8.1', '8.1', '8.1', '8.1', '8.1', '8.1', '8.1', '8.1', '8.1', '8.1', '8.1', '8.1', '8.1', '8.1', '8.1', '8.1', '8.1', '8.1', '8.1', '8.1', '8.1', '8.1', '8.1', '8.1', '8.1', '8.1', '8.1', '8.1', '8.1', '8.1', '8.1', '8.1', '8.1', '8.1', '8.1', '8.1', '8.1', '8.1', '8.1', '8.1', '8.1', '8.1', '8.1', '8.1', '8.1', '8.0', '8.0', '8.0', '8.0', '8.0', '8.0', '8.0', '8.0', '8.0', '8.0', '8.0', '8.0', '8.0', '8.0', '8.0', '8.0', '8.0', '8.0', '8.0', '8.0', '8.0', '8.0', '8.0', '8.0', '8.0', '8.0', '8.0', '8.0', '8.0', '8.0', '8.0', '8.0', '8.0', '8.0', '8.0']\n"
     ]
    }
   ],
   "source": [
    "print(name,\"\\n\",href,\"\\n\",year,\"\\n\",rating)#\\n stands for new line"
   ]
  },
  {
   "cell_type": "code",
   "execution_count": 54,
   "metadata": {},
   "outputs": [],
   "source": [
    "before_1990 = [i for i in year if int(i)<1990]"
   ]
  },
  {
   "cell_type": "code",
   "execution_count": 58,
   "metadata": {},
   "outputs": [
    {
     "name": "stdout",
     "output_type": "stream",
     "text": [
      "['1972', '1974', '1957', '1966', '1980', '1975', '1954', '1977', '1946', '1960', '1931', '1942', '1968', '1936', '1985', '1954', '1981', '1979', '1979', '1988', '1988', '1940', '1950', '1964', '1957', '1980', '1957', '1986', '1984', '1981', '1941', '1958', '1959', '1983', '1984', '1931', '1968', '1962', '1971', '1952', '1944', '1976', '1987', '1948', '1962', '1921', '1973', '1983', '1965', '1960', '1927', '1975', '1989', '1950', '1950', '1959', '1961', '1988', '1948', '1952', '1980', '1963', '1974', '1988', '1985', '1949', '1961', '1925', '1957', '1957', '1954', '1980', '1939', '1982', '1954', '1957', '1926', '1939', '1982', '1985', '1978', '1924', '1967', '1953', '1940', '1979', '1986', '1927', '1934', '1986', '1966', '1976', '1959', '1979', '1953', '1959', '1966', '1984', '1928', '1987', '1975', '1976', '1969', '1989', '1940', '1984', '1941', '1982', '1939', '1955', '1975', '1986', '1984', '1973', '1975', '1988']\n"
     ]
    }
   ],
   "source": [
    "print(before_1990)"
   ]
  },
  {
   "cell_type": "code",
   "execution_count": 55,
   "metadata": {},
   "outputs": [
    {
     "data": {
      "text/plain": [
       "116"
      ]
     },
     "execution_count": 55,
     "metadata": {},
     "output_type": "execute_result"
    }
   ],
   "source": [
    "len(before_1990)"
   ]
  },
  {
   "cell_type": "code",
   "execution_count": 57,
   "metadata": {},
   "outputs": [
    {
     "name": "stdout",
     "output_type": "stream",
     "text": [
      "The Godfather\n",
      "The Godfather: Part II\n",
      "12 Angry Men\n",
      "Il buono, il brutto, il cattivo\n",
      "Star Wars: Episode V - The Empire Strikes Back\n",
      "One Flew Over the Cuckoo's Nest\n",
      "Shichinin no samurai\n",
      "Star Wars\n",
      "It's a Wonderful Life\n",
      "Psycho\n",
      "City Lights\n",
      "Casablanca\n",
      "Once Upon a Time in the West\n",
      "Modern Times\n",
      "Back to the Future\n",
      "Rear Window\n",
      "Raiders of the Lost Ark\n",
      "Apocalypse Now\n",
      "Alien\n",
      "Hotaru no haka\n",
      "Nuovo Cinema Paradiso\n",
      "The Great Dictator\n",
      "Sunset Blvd.\n",
      "Dr. Strangelove or: How I Learned to Stop Worrying and Love the Bomb\n",
      "Paths of Glory\n",
      "The Shining\n",
      "Witness for the Prosecution\n",
      "Aliens\n",
      "Once Upon a Time in America\n",
      "Das Boot\n",
      "Citizen Kane\n",
      "Vertigo\n",
      "North by Northwest\n",
      "Star Wars: Episode VI - Return of the Jedi\n",
      "Amadeus\n",
      "M - Eine Stadt sucht einen Mörder\n",
      "2001: A Space Odyssey\n",
      "Lawrence of Arabia\n",
      "A Clockwork Orange\n",
      "Singin' in the Rain\n",
      "Double Indemnity\n",
      "Taxi Driver\n",
      "Full Metal Jacket\n",
      "Ladri di biciclette\n",
      "To Kill a Mockingbird\n",
      "The Kid\n",
      "The Sting\n",
      "Scarface\n",
      "Per qualche dollaro in più\n",
      "The Apartment\n",
      "Metropolis\n",
      "Monty Python and the Holy Grail\n",
      "Indiana Jones and the Last Crusade\n",
      "Rashômon\n",
      "All About Eve\n",
      "Some Like It Hot\n",
      "Yôjinbô\n",
      "Die Hard\n",
      "The Treasure of the Sierra Madre\n",
      "Ikiru\n",
      "Raging Bull\n",
      "The Great Escape\n",
      "Chinatown\n",
      "Tonari no Totoro\n",
      "Ran\n",
      "The Third Man\n",
      "Judgment at Nuremberg\n",
      "The Gold Rush\n",
      "The Bridge on the River Kwai\n",
      "Det sjunde inseglet\n",
      "On the Waterfront\n",
      "The Elephant Man\n",
      "Mr. Smith Goes to Washington\n",
      "Blade Runner\n",
      "Dial M for Murder\n",
      "Smultronstället\n",
      "The General\n",
      "Gone with the Wind\n",
      "The Thing\n",
      "Idi i smotri\n",
      "The Deer Hunter\n",
      "Sherlock Jr.\n",
      "Cool Hand Luke\n",
      "Tôkyô monogatari\n",
      "Rebecca\n",
      "Stalker\n",
      "Stand by Me\n",
      "Sunrise: A Song of Two Humans\n",
      "It Happened One Night\n",
      "Platoon\n",
      "Persona\n",
      "Network\n",
      "Ben-Hur\n",
      "Life of Brian\n",
      "Le salaire de la peur\n",
      "Les quatre cents coups\n",
      "Andrei Rublev\n",
      "Kaze no tani no Naushika\n",
      "La passion de Jeanne d'Arc\n",
      "The Princess Bride\n",
      "Barry Lyndon\n",
      "Rocky\n",
      "Butch Cassidy and the Sundance Kid\n",
      "Dead Poets Society\n",
      "The Grapes of Wrath\n",
      "The Terminator\n",
      "The Maltese Falcon\n",
      "Gandhi\n",
      "The Wizard of Oz\n",
      "Les diaboliques\n",
      "Jaws\n",
      "Tenkû no shiro Rapyuta\n",
      "Paris, Texas\n",
      "The Exorcist\n",
      "Dog Day Afternoon\n",
      "Akira\n"
     ]
    }
   ],
   "source": [
    "for i,j in zip(year,name):\n",
    "    if int(i)<1990:\n",
    "        print(j)"
   ]
  },
  {
   "cell_type": "code",
   "execution_count": 59,
   "metadata": {},
   "outputs": [],
   "source": [
    "movie_dict = {\"name\":name,\"year\":year,\"rating\":rating,\"url\":href}#creating dictionary"
   ]
  },
  {
   "cell_type": "code",
   "execution_count": 60,
   "metadata": {},
   "outputs": [],
   "source": [
    "movie_df = pd.DataFrame(movie_dict)#every key of dictionary become column"
   ]
  },
  {
   "cell_type": "code",
   "execution_count": 61,
   "metadata": {},
   "outputs": [
    {
     "data": {
      "text/html": [
       "<div>\n",
       "<style scoped>\n",
       "    .dataframe tbody tr th:only-of-type {\n",
       "        vertical-align: middle;\n",
       "    }\n",
       "\n",
       "    .dataframe tbody tr th {\n",
       "        vertical-align: top;\n",
       "    }\n",
       "\n",
       "    .dataframe thead th {\n",
       "        text-align: right;\n",
       "    }\n",
       "</style>\n",
       "<table border=\"1\" class=\"dataframe\">\n",
       "  <thead>\n",
       "    <tr style=\"text-align: right;\">\n",
       "      <th></th>\n",
       "      <th>name</th>\n",
       "      <th>year</th>\n",
       "      <th>rating</th>\n",
       "      <th>url</th>\n",
       "    </tr>\n",
       "  </thead>\n",
       "  <tbody>\n",
       "    <tr>\n",
       "      <th>0</th>\n",
       "      <td>The Shawshank Redemption</td>\n",
       "      <td>1994</td>\n",
       "      <td>9.2</td>\n",
       "      <td>/title/tt0111161/</td>\n",
       "    </tr>\n",
       "    <tr>\n",
       "      <th>1</th>\n",
       "      <td>The Godfather</td>\n",
       "      <td>1972</td>\n",
       "      <td>9.2</td>\n",
       "      <td>/title/tt0068646/</td>\n",
       "    </tr>\n",
       "    <tr>\n",
       "      <th>2</th>\n",
       "      <td>The Godfather: Part II</td>\n",
       "      <td>1974</td>\n",
       "      <td>9.0</td>\n",
       "      <td>/title/tt0071562/</td>\n",
       "    </tr>\n",
       "    <tr>\n",
       "      <th>3</th>\n",
       "      <td>The Dark Knight</td>\n",
       "      <td>2008</td>\n",
       "      <td>9.0</td>\n",
       "      <td>/title/tt0468569/</td>\n",
       "    </tr>\n",
       "    <tr>\n",
       "      <th>4</th>\n",
       "      <td>12 Angry Men</td>\n",
       "      <td>1957</td>\n",
       "      <td>8.9</td>\n",
       "      <td>/title/tt0050083/</td>\n",
       "    </tr>\n",
       "  </tbody>\n",
       "</table>\n",
       "</div>"
      ],
      "text/plain": [
       "                       name  year rating                url\n",
       "0  The Shawshank Redemption  1994    9.2  /title/tt0111161/\n",
       "1             The Godfather  1972    9.2  /title/tt0068646/\n",
       "2    The Godfather: Part II  1974    9.0  /title/tt0071562/\n",
       "3           The Dark Knight  2008    9.0  /title/tt0468569/\n",
       "4              12 Angry Men  1957    8.9  /title/tt0050083/"
      ]
     },
     "execution_count": 61,
     "metadata": {},
     "output_type": "execute_result"
    }
   ],
   "source": [
    "movie_df.head()"
   ]
  },
  {
   "cell_type": "code",
   "execution_count": null,
   "metadata": {},
   "outputs": [],
   "source": [
    "movie_df.to_excel(\"movies.xlsx\")"
   ]
  },
  {
   "cell_type": "code",
   "execution_count": 62,
   "metadata": {},
   "outputs": [
    {
     "data": {
      "text/plain": [
       "8.259999999999973"
      ]
     },
     "execution_count": 62,
     "metadata": {},
     "output_type": "execute_result"
    }
   ],
   "source": [
    "movie_df.rating.apply(float).mean()"
   ]
  },
  {
   "cell_type": "code",
   "execution_count": 63,
   "metadata": {},
   "outputs": [
    {
     "data": {
      "text/plain": [
       "0    1995\n",
       "1    2014\n",
       "dtype: int64"
      ]
     },
     "execution_count": 63,
     "metadata": {},
     "output_type": "execute_result"
    }
   ],
   "source": [
    "movie_df.year.apply(int).mode()"
   ]
  },
  {
   "cell_type": "code",
   "execution_count": null,
   "metadata": {},
   "outputs": [],
   "source": []
  }
 ],
 "metadata": {
  "colab": {
   "name": "String_RegEx.ipynb",
   "provenance": [],
   "version": "0.3.2"
  },
  "kernelspec": {
   "display_name": "Python 3",
   "language": "python",
   "name": "python3"
  },
  "language_info": {
   "codemirror_mode": {
    "name": "ipython",
    "version": 3
   },
   "file_extension": ".py",
   "mimetype": "text/x-python",
   "name": "python",
   "nbconvert_exporter": "python",
   "pygments_lexer": "ipython3",
   "version": "3.7.3"
  }
 },
 "nbformat": 4,
 "nbformat_minor": 1
}
