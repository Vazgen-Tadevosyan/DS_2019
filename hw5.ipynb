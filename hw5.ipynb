{
 "cells": [
  {
   "cell_type": "markdown",
   "metadata": {},
   "source": [
    "1) Info on top taxpayers in provided on https://www.harkatu.am/ in a JavaScript\n",
    "gen erated table.\n",
    "- a) scrape the paid taxes, organization name and industry for top 200 taxpayers (last\n",
    "Quarter) .\n",
    "- b) what is the average tax paid?\n",
    "- c) what is the top industry in the scraped list?"
   ]
  },
  {
   "cell_type": "code",
   "execution_count": 1,
   "metadata": {},
   "outputs": [],
   "source": [
    "import requests\n",
    "import time as time\n",
    "import pandas as pd\n",
    "from selenium import webdriver\n",
    "from scrapy.http import TextResponse"
   ]
  },
  {
   "cell_type": "code",
   "execution_count": 3,
   "metadata": {},
   "outputs": [],
   "source": [
    "urls=['https://harkatu.am/companies/hy?0#p/{}'.format(i) for i in range(1,9)]"
   ]
  },
  {
   "cell_type": "code",
   "execution_count": 2,
   "metadata": {},
   "outputs": [],
   "source": [
    "def get_table(url):\n",
    "    browser=webdriver.Chrome()\n",
    "    browser.get(url)\n",
    "    time.sleep(10)\n",
    "    page=browser.page_source\n",
    "    respone=TextResponse(body=page,url=browser.current_url,encoding=\"utf-8\")\n",
    "    taxes=[float(i.replace(\",\",'')) for i in respone.css(\"td>div[class='volume']::text\").extract()[2::3]]\n",
    "    industry=[i.text for i in browser.find_elements_by_class_name(\"industry\")]\n",
    "    company=respone.css(\"div[class='itemname']>h1>a>span::text\").extract()\n",
    "    browser.close()\n",
    "    return pd.DataFrame({\"Compnay\":company,\"Industry\":industry,\"Tax Paid\":taxes})\n"
   ]
  },
  {
   "cell_type": "code",
   "execution_count": 5,
   "metadata": {},
   "outputs": [],
   "source": [
    "data_frames=pd.concat([get_table(i) for i in urls],ignore_index=True)"
   ]
  },
  {
   "cell_type": "code",
   "execution_count": 20,
   "metadata": {},
   "outputs": [
    {
     "name": "stdout",
     "output_type": "stream",
     "text": [
      "                                 Compnay                          Industry  \\\n",
      "0                        ԳԱԶՊՐՈՄ ԱՐՄԵՆԻԱ                 Գազի մատակարարում   \n",
      "1                           ԳՐԱՆԴ ՏՈԲԱԿՈ        Ծխախոտային արտադրատեսակներ   \n",
      "2  ԶԱՆԳԵԶՈՒՐԻ ՊՂՆՁԱՄՈԼԻԲԴԵՆԱՅԻՆ ԿՈՄԲԻՆԱՏ  Մետաղական հանքարդյունաբերություն   \n",
      "3            ՀԱՅԱՍՏԱՆԻ ԷԼԵԿՏՐԱԿԱՆ ՑԱՆՑԵՐ     Էլեկտրականության մատակարարում   \n",
      "4                     ԳԵՈՊՐՈՄԱՅՆԻՆԳ ԳՈԼԴ  Մետաղական հանքարդյունաբերություն   \n",
      "\n",
      "     Tax Paid  \n",
      "0  13570605.0  \n",
      "1  12830020.0  \n",
      "2   6684445.0  \n",
      "3   4544427.0  \n",
      "4   4295157.0  \n"
     ]
    }
   ],
   "source": [
    "print(data_frames.head())"
   ]
  },
  {
   "cell_type": "code",
   "execution_count": 7,
   "metadata": {},
   "outputs": [
    {
     "data": {
      "text/plain": [
       "809770.225"
      ]
     },
     "execution_count": 7,
     "metadata": {},
     "output_type": "execute_result"
    }
   ],
   "source": [
    "data_frames[\"Tax Paid\"].mean()#what is the average tax paid?"
   ]
  },
  {
   "cell_type": "code",
   "execution_count": null,
   "metadata": {},
   "outputs": [],
   "source": [
    "data_frames[\"Industry\"]=data_frames[\"Industry\"].apply(lambda x:None if len(x)==0 else x)"
   ]
  },
  {
   "cell_type": "code",
   "execution_count": 19,
   "metadata": {},
   "outputs": [
    {
     "data": {
      "text/plain": [
       "Բանկային ոլորտ    14\n",
       "Name: Industry, dtype: int64"
      ]
     },
     "execution_count": 19,
     "metadata": {},
     "output_type": "execute_result"
    }
   ],
   "source": [
    "data_frames[\"Industry\"].value_counts()[:1]#what is the top industry in the scraped list?"
   ]
  }
 ],
 "metadata": {
  "kernelspec": {
   "display_name": "Python 3",
   "language": "python",
   "name": "python3"
  },
  "language_info": {
   "codemirror_mode": {
    "name": "ipython",
    "version": 3
   },
   "file_extension": ".py",
   "mimetype": "text/x-python",
   "name": "python",
   "nbconvert_exporter": "python",
   "pygments_lexer": "ipython3",
   "version": "3.7.3"
  }
 },
 "nbformat": 4,
 "nbformat_minor": 2
}
