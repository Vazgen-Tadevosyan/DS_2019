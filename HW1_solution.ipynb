{
 "cells": [
  {
   "cell_type": "markdown",
   "metadata": {},
   "source": [
    "1) Collect\tthe\tfollowing\tinformation\tfrom\tall\tof\tthe\tpages\t(and\tall\tof\tthe\t\n",
    "books)\ton\tbooks.toscrape.com:\t\n",
    "a)\tName\tof\tthe\tbook<br>\n",
    "b)\tPrice<br>\n",
    "c)\tRating<br>\n",
    "Note\t1:\tcomplete\tthe\ttask\ttwice\tusing\tCSS\tSelector\tand\tXpath\tapproaches.<br>\n",
    "Note\t2:\tuse\tfunctions\tand\tloops\twhenever\tapplicable.<br>\n",
    "Note\t3:\tyou\tmay\tdevelop\tyour\tcode\twithout\tfunctions\tin\tthe\tbeginning,\tand\tadd\t\n",
    "functions\tonly\tif\tyou\tsee\tit\tworks."
   ]
  },
  {
   "cell_type": "code",
   "execution_count": 1,
   "metadata": {},
   "outputs": [],
   "source": [
    "import re\n",
    "import time\n",
    "import requests\n",
    "import numpy as np\n",
    "import pandas as pd\n",
    "from textblob import TextBlob, Word\n",
    "from scrapy.http import TextResponse"
   ]
  },
  {
   "cell_type": "code",
   "execution_count": 2,
   "metadata": {},
   "outputs": [],
   "source": [
    "base_url=\"http://books.toscrape.com/\"\n",
    "all_pages=[base_url+\"catalogue/page-{}.html\".format(i) for i in range(1,51)]\n"
   ]
  },
  {
   "cell_type": "code",
   "execution_count": 3,
   "metadata": {},
   "outputs": [],
   "source": [
    "def scraper(url):\n",
    "    \"\"\"CSS approach\"\"\"\n",
    "    page = requests.get(url)\n",
    "    response = TextResponse(url=page.url,body=page.text,encoding=\"utf-8\")\n",
    "    names=response.css(\"h3>a::attr(title)\").extract()\n",
    "    ratings=response.css(\"p[class^='star-rating']::attr(class)\").extract()\n",
    "    prices=[float(i[2:]) for i in response.css(\"p.price_color::text\").extract()]\n",
    "    return names,ratings,prices\n"
   ]
  },
  {
   "cell_type": "code",
   "execution_count": 4,
   "metadata": {},
   "outputs": [],
   "source": [
    "all_names=[]\n",
    "all_prices=[]\n",
    "all_ratings=[]\n",
    "for i in all_pages:\n",
    "    names,ratings,prices=scraper(i)\n",
    "    all_names.extend(names)\n",
    "    all_prices.extend(prices)\n",
    "    all_ratings.extend(ratings)\n",
    "    time.sleep(1)"
   ]
  },
  {
   "cell_type": "code",
   "execution_count": 5,
   "metadata": {},
   "outputs": [],
   "source": [
    "### xpath approach\n",
    "def xpath_scraper(url):\n",
    "    \"\"\"CSS approach\"\"\"\n",
    "    page = requests.get(url)\n",
    "    response = TextResponse(url=page.url,body=page.text,encoding=\"utf-8\")\n",
    "    names=response.xpath('//h3/a/@title').extract()\n",
    "    ratings=response.xpath('//p[contains(@class,\"star-rating\")]/@class').extract()\n",
    "    prices=[float(i[2:]) for i in response.xpath('//p[@class=\"price_color\"]/text()').extract()]\n",
    "    return names,ratings,prices\n"
   ]
  },
  {
   "cell_type": "code",
   "execution_count": 6,
   "metadata": {},
   "outputs": [],
   "source": [
    "all_names=[]\n",
    "all_prices=[]\n",
    "all_ratings=[]\n",
    "for i in all_pages:\n",
    "    names,ratings,prices=xpath_scraper(i) ## only function name is changed.\n",
    "    all_names.extend(names)\n",
    "    all_prices.extend(prices)\n",
    "    all_ratings.extend(ratings)\n",
    "    time.sleep(1)\n"
   ]
  },
  {
   "cell_type": "markdown",
   "metadata": {},
   "source": [
    "<b>2) Answer the following questions (show your work):</b><br>\n",
    "a) What is the most popular rating?<br>\n",
    "b) How many books on the website have that rating?<br>\n",
    "c) What is the average price of his/her boos?<br><br>\n",
    "<i>there are many ways to solve the tasks, however, we go with pandas"
   ]
  },
  {
   "cell_type": "code",
   "execution_count": 7,
   "metadata": {},
   "outputs": [],
   "source": [
    "data=pd.DataFrame({\"Name\":all_names,\"Price\":all_prices,\"Rating\":all_ratings})"
   ]
  },
  {
   "cell_type": "code",
   "execution_count": 8,
   "metadata": {},
   "outputs": [
    {
     "data": {
      "text/html": [
       "<div>\n",
       "<style scoped>\n",
       "    .dataframe tbody tr th:only-of-type {\n",
       "        vertical-align: middle;\n",
       "    }\n",
       "\n",
       "    .dataframe tbody tr th {\n",
       "        vertical-align: top;\n",
       "    }\n",
       "\n",
       "    .dataframe thead th {\n",
       "        text-align: right;\n",
       "    }\n",
       "</style>\n",
       "<table border=\"1\" class=\"dataframe\">\n",
       "  <thead>\n",
       "    <tr style=\"text-align: right;\">\n",
       "      <th></th>\n",
       "      <th>Name</th>\n",
       "      <th>Price</th>\n",
       "      <th>Rating</th>\n",
       "    </tr>\n",
       "  </thead>\n",
       "  <tbody>\n",
       "    <tr>\n",
       "      <th>0</th>\n",
       "      <td>A Light in the Attic</td>\n",
       "      <td>51.77</td>\n",
       "      <td>star-rating Three</td>\n",
       "    </tr>\n",
       "    <tr>\n",
       "      <th>1</th>\n",
       "      <td>Tipping the Velvet</td>\n",
       "      <td>53.74</td>\n",
       "      <td>star-rating One</td>\n",
       "    </tr>\n",
       "    <tr>\n",
       "      <th>2</th>\n",
       "      <td>Soumission</td>\n",
       "      <td>50.10</td>\n",
       "      <td>star-rating One</td>\n",
       "    </tr>\n",
       "    <tr>\n",
       "      <th>3</th>\n",
       "      <td>Sharp Objects</td>\n",
       "      <td>47.82</td>\n",
       "      <td>star-rating Four</td>\n",
       "    </tr>\n",
       "    <tr>\n",
       "      <th>4</th>\n",
       "      <td>Sapiens: A Brief History of Humankind</td>\n",
       "      <td>54.23</td>\n",
       "      <td>star-rating Five</td>\n",
       "    </tr>\n",
       "  </tbody>\n",
       "</table>\n",
       "</div>"
      ],
      "text/plain": [
       "                                    Name  Price             Rating\n",
       "0                   A Light in the Attic  51.77  star-rating Three\n",
       "1                     Tipping the Velvet  53.74    star-rating One\n",
       "2                             Soumission  50.10    star-rating One\n",
       "3                          Sharp Objects  47.82   star-rating Four\n",
       "4  Sapiens: A Brief History of Humankind  54.23   star-rating Five"
      ]
     },
     "execution_count": 8,
     "metadata": {},
     "output_type": "execute_result"
    }
   ],
   "source": [
    "data.head()"
   ]
  },
  {
   "cell_type": "code",
   "execution_count": 9,
   "metadata": {},
   "outputs": [
    {
     "name": "stdout",
     "output_type": "stream",
     "text": [
      "star-rating One      226\n",
      "star-rating Three    203\n",
      "star-rating Five     196\n",
      "star-rating Two      196\n",
      "star-rating Four     179\n",
      "Name: Rating, dtype: int64\n",
      "\n",
      " Average price  \n",
      " Price    34.561195\n",
      "dtype: float64\n"
     ]
    }
   ],
   "source": [
    "print(data[\"Rating\"].value_counts())\n",
    "\n",
    "print(\"\\n Average price  \\n\",data[data['Rating']=='star-rating One'].mean())"
   ]
  },
  {
   "cell_type": "markdown",
   "metadata": {},
   "source": [
    "a,b,c)<br>star-rating One whit 226 appearances is the most popular one and mean is 34.32"
   ]
  },
  {
   "cell_type": "markdown",
   "metadata": {},
   "source": [
    "<b>\n",
    "3) Scrape all the book descriptions from the website. Suggested workflow:</b><br>\n",
    "a) define a function that scrapes all the individual book page URLs<br>\n",
    "b) define a function which takes individual page URL as an input and\n",
    "scrapes description.<br>\n",
    "c) use function 1 to get all URLs and function.2 to get all descriptions from\n",
    "those URLs."
   ]
  },
  {
   "cell_type": "code",
   "execution_count": 10,
   "metadata": {},
   "outputs": [],
   "source": [
    "# a)\n",
    "def individual_url(url):\n",
    "    \"\"\"getting individual pages from one page\"\"\"\n",
    "    page = requests.get(url)\n",
    "    response = TextResponse(url=page.url,body=page.text,encoding=\"utf-8\")\n",
    "    individual_pages=[base_url+'catalogue/'+i for i in response.css('.image_container>a::attr(href)').extract()]\n",
    "    return individual_pages\n"
   ]
  },
  {
   "cell_type": "code",
   "execution_count": 11,
   "metadata": {},
   "outputs": [],
   "source": [
    "# b\n",
    "def get_description(url):\n",
    "    page = requests.get(url)\n",
    "    response = TextResponse(url=page.url,body=page.text,encoding=\"utf-8\")\n",
    "    text=response.css(\"article[class='product_page']>p::text\").extract_first()\n",
    "    return text"
   ]
  },
  {
   "cell_type": "code",
   "execution_count": 12,
   "metadata": {},
   "outputs": [],
   "source": [
    "individual_pages=[]##getting all indiviual pages from the website\n",
    "for i in all_pages:\n",
    "    individual_pages.extend(individual_url(i))\n",
    "    time.sleep(2)"
   ]
  },
  {
   "cell_type": "code",
   "execution_count": 13,
   "metadata": {},
   "outputs": [],
   "source": [
    "descriptions=[]##getting all descriptions\n",
    "for i in individual_pages:\n",
    "    description=get_description(i)\n",
    "    descriptions.append(description)"
   ]
  },
  {
   "cell_type": "code",
   "execution_count": 14,
   "metadata": {},
   "outputs": [
    {
     "data": {
      "text/plain": [
       "[\"It's hard to imagine a world without A Light in the Attic. This now-classic collection of poetry and drawings from Shel Silverstein celebrates its 20th anniversary with this special edition. Silverstein's humorous and creative verse can amuse the dowdiest of readers. Lemon-faced adults and fidgety kids sit still and read these rhythmic words and laugh and smile and love th It's hard to imagine a world without A Light in the Attic. This now-classic collection of poetry and drawings from Shel Silverstein celebrates its 20th anniversary with this special edition. Silverstein's humorous and creative verse can amuse the dowdiest of readers. Lemon-faced adults and fidgety kids sit still and read these rhythmic words and laugh and smile and love that Silverstein. Need proof of his genius? RockabyeRockabye baby, in the treetopDon't you know a treetopIs no safe place to rock?And who put you up there,And your cradle, too?Baby, I think someone down here'sGot it in for you. Shel, you never sounded so good. ...more\",\n",
       " '\"Erotic and absorbing...Written with starling power.\"--\"The New York Times Book Review \" Nan King, an oyster girl, is captivated by the music hall phenomenon Kitty Butler, a male impersonator extraordinaire treading the boards in Canterbury. Through a friend at the box office, Nan manages to visit all her shows and finally meet her heroine. Soon after, she becomes Kitty\\'s \"Erotic and absorbing...Written with starling power.\"--\"The New York Times Book Review \" Nan King, an oyster girl, is captivated by the music hall phenomenon Kitty Butler, a male impersonator extraordinaire treading the boards in Canterbury. Through a friend at the box office, Nan manages to visit all her shows and finally meet her heroine. Soon after, she becomes Kitty\\'s dresser and the two head for the bright lights of Leicester Square where they begin a glittering career as music-hall stars in an all-singing and dancing double act. At the same time, behind closed doors, they admit their attraction to each other and their affair begins. ...more']"
      ]
     },
     "execution_count": 14,
     "metadata": {},
     "output_type": "execute_result"
    }
   ],
   "source": [
    "descriptions[:2]"
   ]
  },
  {
   "cell_type": "markdown",
   "metadata": {},
   "source": [
    "<b>4) Answer the following questions (most probably using RegEx):</b><br>\n",
    "a) How many books have a numeric character in title?<br>\n",
    "b) How many books have a year in title?<br>\n",
    "c) How many books have an enumerated character (starting with # and\n",
    "followed by a number) in title?"
   ]
  },
  {
   "cell_type": "code",
   "execution_count": 15,
   "metadata": {},
   "outputs": [
    {
     "name": "stdout",
     "output_type": "stream",
     "text": [
      "                                    Name  Price             Rating\n",
      "0                   A Light in the Attic  51.77  star-rating Three\n",
      "1                     Tipping the Velvet  53.74    star-rating One\n",
      "2                             Soumission  50.10    star-rating One\n",
      "3                          Sharp Objects  47.82   star-rating Four\n",
      "4  Sapiens: A Brief History of Humankind  54.23   star-rating Five\n"
     ]
    }
   ],
   "source": [
    "###we already have data, in your case most probably it is in a list, so I will make a column to a list before solving the task\n",
    "print(data.head())\n",
    "names=data.Name.tolist()"
   ]
  },
  {
   "cell_type": "code",
   "execution_count": 16,
   "metadata": {},
   "outputs": [],
   "source": [
    "#a,b,c\n",
    "count_num_char=0\n",
    "count_year=0\n",
    "count_enum=0\n",
    "for i in names:\n",
    "    digits=re.findall(\"[\\d]\",i)# looking for numeric character in title?\n",
    "    years=re.findall(\"[\\d]{4}\",i)#exactly 4 digits\n",
    "    enumchar=re.findall(\"#\\d\",i)#exactly for digits\n",
    "    if len(digits)>0:\n",
    "        count_num_char+=1\n",
    "    if len(years)>0:\n",
    "        count_year+=1\n",
    "    if len(enumchar)>0:\n",
    "        count_enum+=1\n"
   ]
  },
  {
   "cell_type": "code",
   "execution_count": 17,
   "metadata": {},
   "outputs": [
    {
     "name": "stdout",
     "output_type": "stream",
     "text": [
      "Books with numeric characters-365\n",
      " with year-8,\n",
      " with # -313\n"
     ]
    }
   ],
   "source": [
    "print(\"Books with numeric characters-{}\\n with year-{},\\n with # -{}\".format(count_num_char,count_year,count_enum))"
   ]
  },
  {
   "cell_type": "code",
   "execution_count": null,
   "metadata": {},
   "outputs": [],
   "source": []
  }
 ],
 "metadata": {
  "kernelspec": {
   "display_name": "Python 3",
   "language": "python",
   "name": "python3"
  },
  "language_info": {
   "codemirror_mode": {
    "name": "ipython",
    "version": 3
   },
   "file_extension": ".py",
   "mimetype": "text/x-python",
   "name": "python",
   "nbconvert_exporter": "python",
   "pygments_lexer": "ipython3",
   "version": "3.7.3"
  }
 },
 "nbformat": 4,
 "nbformat_minor": 2
}
