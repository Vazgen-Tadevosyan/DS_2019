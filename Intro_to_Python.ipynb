{
 "cells": [
  {
   "cell_type": "markdown",
   "metadata": {},
   "source": [
    "# Introductino to Python\n",
    "\n",
    "This notebook provides introduction to python and includes material covered during the lecture.<br>\n",
    " - Arithmetic operations\n",
    " - Built in functions\n",
    " - Variables\n",
    " - Lists\n",
    " - Dictionaries\n",
    " - Import statement\n",
    " - control flow\n",
    " - loop\n",
    " - functions\n",
    " - scraped first table"
   ]
  },
  {
   "cell_type": "markdown",
   "metadata": {},
   "source": [
    "<b> 1.Arithmetic operations</b><br>\n",
    " +, -, *, /"
   ]
  },
  {
   "cell_type": "code",
   "execution_count": 45,
   "metadata": {},
   "outputs": [
    {
     "data": {
      "text/plain": [
       "10"
      ]
     },
     "execution_count": 45,
     "metadata": {},
     "output_type": "execute_result"
    }
   ],
   "source": [
    "5+5"
   ]
  },
  {
   "cell_type": "code",
   "execution_count": 46,
   "metadata": {},
   "outputs": [
    {
     "data": {
      "text/plain": [
       "25"
      ]
     },
     "execution_count": 46,
     "metadata": {},
     "output_type": "execute_result"
    }
   ],
   "source": [
    "5*5"
   ]
  },
  {
   "cell_type": "code",
   "execution_count": 47,
   "metadata": {},
   "outputs": [
    {
     "data": {
      "text/plain": [
       "1.0"
      ]
     },
     "execution_count": 47,
     "metadata": {},
     "output_type": "execute_result"
    }
   ],
   "source": [
    "5/5"
   ]
  },
  {
   "cell_type": "code",
   "execution_count": 48,
   "metadata": {},
   "outputs": [
    {
     "data": {
      "text/plain": [
       "0"
      ]
     },
     "execution_count": 48,
     "metadata": {},
     "output_type": "execute_result"
    }
   ],
   "source": [
    "5^5"
   ]
  },
  {
   "cell_type": "code",
   "execution_count": 49,
   "metadata": {},
   "outputs": [
    {
     "data": {
      "text/plain": [
       "3125"
      ]
     },
     "execution_count": 49,
     "metadata": {},
     "output_type": "execute_result"
    }
   ],
   "source": [
    "5**5"
   ]
  },
  {
   "cell_type": "code",
   "execution_count": 50,
   "metadata": {},
   "outputs": [
    {
     "data": {
      "text/plain": [
       "1.4953487812212205"
      ]
     },
     "execution_count": 50,
     "metadata": {},
     "output_type": "execute_result"
    }
   ],
   "source": [
    "5**0.25"
   ]
  },
  {
   "cell_type": "code",
   "execution_count": 51,
   "metadata": {},
   "outputs": [
    {
     "data": {
      "text/plain": [
       "5.0"
      ]
     },
     "execution_count": 51,
     "metadata": {},
     "output_type": "execute_result"
    }
   ],
   "source": [
    "25**0.5"
   ]
  },
  {
   "cell_type": "code",
   "execution_count": 52,
   "metadata": {},
   "outputs": [
    {
     "data": {
      "text/plain": [
       "2"
      ]
     },
     "execution_count": 52,
     "metadata": {},
     "output_type": "execute_result"
    }
   ],
   "source": [
    "6 % 4"
   ]
  },
  {
   "cell_type": "markdown",
   "metadata": {},
   "source": [
    "<b>2.Built in functions</b><br>\n",
    "print,type\n"
   ]
  },
  {
   "cell_type": "code",
   "execution_count": 53,
   "metadata": {},
   "outputs": [
    {
     "data": {
      "text/plain": [
       "20"
      ]
     },
     "execution_count": 53,
     "metadata": {},
     "output_type": "execute_result"
    }
   ],
   "source": [
    "5+5\n",
    "2*10"
   ]
  },
  {
   "cell_type": "code",
   "execution_count": 54,
   "metadata": {},
   "outputs": [
    {
     "name": "stdout",
     "output_type": "stream",
     "text": [
      "10\n",
      "20\n"
     ]
    }
   ],
   "source": [
    "print(5+5)\n",
    "print(2*10)\n"
   ]
  },
  {
   "cell_type": "code",
   "execution_count": 55,
   "metadata": {},
   "outputs": [
    {
     "data": {
      "text/plain": [
       "int"
      ]
     },
     "execution_count": 55,
     "metadata": {},
     "output_type": "execute_result"
    }
   ],
   "source": [
    "type(4)"
   ]
  },
  {
   "cell_type": "code",
   "execution_count": 56,
   "metadata": {},
   "outputs": [
    {
     "data": {
      "text/plain": [
       "float"
      ]
     },
     "execution_count": 56,
     "metadata": {},
     "output_type": "execute_result"
    }
   ],
   "source": [
    "type(4.0)"
   ]
  },
  {
   "cell_type": "code",
   "execution_count": 57,
   "metadata": {},
   "outputs": [
    {
     "data": {
      "text/plain": [
       "str"
      ]
     },
     "execution_count": 57,
     "metadata": {},
     "output_type": "execute_result"
    }
   ],
   "source": [
    "type(\"5\")\n"
   ]
  },
  {
   "cell_type": "code",
   "execution_count": 58,
   "metadata": {},
   "outputs": [
    {
     "name": "stdout",
     "output_type": "stream",
     "text": [
      "<class 'str'>\n"
     ]
    }
   ],
   "source": [
    "print(type(\"Name\"))"
   ]
  },
  {
   "cell_type": "markdown",
   "metadata": {},
   "source": [
    "<b>3.Python Variables</b><br>\n",
    "A variable is a named location used to store data in the memory.<br>  For example,</b>"
   ]
  },
  {
   "cell_type": "code",
   "execution_count": 59,
   "metadata": {},
   "outputs": [
    {
     "name": "stdout",
     "output_type": "stream",
     "text": [
      "Bob\n"
     ]
    }
   ],
   "source": [
    "print(name)"
   ]
  },
  {
   "cell_type": "code",
   "execution_count": 60,
   "metadata": {},
   "outputs": [],
   "source": [
    "name = \"Bob\""
   ]
  },
  {
   "cell_type": "code",
   "execution_count": 61,
   "metadata": {},
   "outputs": [
    {
     "name": "stdout",
     "output_type": "stream",
     "text": [
      "Bob\n"
     ]
    }
   ],
   "source": [
    "print(name)"
   ]
  },
  {
   "cell_type": "code",
   "execution_count": 62,
   "metadata": {},
   "outputs": [],
   "source": [
    "name = \"Bob\"\n",
    "surname = 'Marley'"
   ]
  },
  {
   "cell_type": "code",
   "execution_count": 63,
   "metadata": {},
   "outputs": [],
   "source": [
    "full_name = name + surname"
   ]
  },
  {
   "cell_type": "code",
   "execution_count": 64,
   "metadata": {},
   "outputs": [
    {
     "name": "stdout",
     "output_type": "stream",
     "text": [
      "BobMarley\n"
     ]
    }
   ],
   "source": [
    "print(full_name)"
   ]
  },
  {
   "cell_type": "code",
   "execution_count": 65,
   "metadata": {},
   "outputs": [],
   "source": [
    "full_name = name + \" \" + surname"
   ]
  },
  {
   "cell_type": "code",
   "execution_count": 66,
   "metadata": {},
   "outputs": [
    {
     "name": "stdout",
     "output_type": "stream",
     "text": [
      "Bob Marley\n"
     ]
    }
   ],
   "source": [
    "print(full_name)"
   ]
  },
  {
   "cell_type": "code",
   "execution_count": 67,
   "metadata": {
    "scrolled": false
   },
   "outputs": [
    {
     "data": {
      "text/plain": [
       "'Bob Bob Bob Bob Bob '"
      ]
     },
     "execution_count": 67,
     "metadata": {},
     "output_type": "execute_result"
    }
   ],
   "source": [
    "\"Bob \"*5"
   ]
  },
  {
   "cell_type": "code",
   "execution_count": 68,
   "metadata": {},
   "outputs": [
    {
     "data": {
      "text/plain": [
       "'Bob5'"
      ]
     },
     "execution_count": 68,
     "metadata": {},
     "output_type": "execute_result"
    }
   ],
   "source": [
    "\"Bob\" + '5'"
   ]
  },
  {
   "cell_type": "code",
   "execution_count": 69,
   "metadata": {},
   "outputs": [
    {
     "data": {
      "text/plain": [
       "5"
      ]
     },
     "execution_count": 69,
     "metadata": {},
     "output_type": "execute_result"
    }
   ],
   "source": [
    "len('Hrant')"
   ]
  },
  {
   "cell_type": "code",
   "execution_count": 70,
   "metadata": {},
   "outputs": [],
   "source": [
    "my_name = \"Hrant\""
   ]
  },
  {
   "cell_type": "code",
   "execution_count": 71,
   "metadata": {},
   "outputs": [
    {
     "data": {
      "text/plain": [
       "5"
      ]
     },
     "execution_count": 71,
     "metadata": {},
     "output_type": "execute_result"
    }
   ],
   "source": [
    "len(my_name)"
   ]
  },
  {
   "cell_type": "code",
   "execution_count": 72,
   "metadata": {},
   "outputs": [
    {
     "ename": "IndexError",
     "evalue": "string index out of range",
     "output_type": "error",
     "traceback": [
      "\u001b[1;31m---------------------------------------------------------------------------\u001b[0m",
      "\u001b[1;31mIndexError\u001b[0m                                Traceback (most recent call last)",
      "\u001b[1;32m<ipython-input-72-bda97aad0444>\u001b[0m in \u001b[0;36m<module>\u001b[1;34m\u001b[0m\n\u001b[1;32m----> 1\u001b[1;33m \u001b[0mmy_name\u001b[0m\u001b[1;33m[\u001b[0m\u001b[1;36m5\u001b[0m\u001b[1;33m]\u001b[0m\u001b[1;33m\u001b[0m\u001b[1;33m\u001b[0m\u001b[0m\n\u001b[0m",
      "\u001b[1;31mIndexError\u001b[0m: string index out of range"
     ]
    }
   ],
   "source": [
    "my_name[5]"
   ]
  },
  {
   "cell_type": "code",
   "execution_count": 73,
   "metadata": {},
   "outputs": [
    {
     "data": {
      "text/plain": [
       "'HRANT'"
      ]
     },
     "execution_count": 73,
     "metadata": {},
     "output_type": "execute_result"
    }
   ],
   "source": [
    "my_name.upper()"
   ]
  },
  {
   "cell_type": "markdown",
   "metadata": {},
   "source": [
    "<b>4.Python Lists</b><br>\n",
    "In Python programming, a list is created by placing all the items (elements) inside a square bracket [ ], separated by commas.<br> \n",
    "It can have any number of items."
   ]
  },
  {
   "cell_type": "code",
   "execution_count": 74,
   "metadata": {},
   "outputs": [],
   "source": [
    "name_list = [\"Bob\",\"Babken\",\"Bagrat\"]"
   ]
  },
  {
   "cell_type": "code",
   "execution_count": 75,
   "metadata": {},
   "outputs": [
    {
     "name": "stdout",
     "output_type": "stream",
     "text": [
      "['Bob', 'Babken', 'Bagrat']\n"
     ]
    }
   ],
   "source": [
    "print(name_list)"
   ]
  },
  {
   "cell_type": "code",
   "execution_count": 76,
   "metadata": {},
   "outputs": [
    {
     "data": {
      "text/plain": [
       "list"
      ]
     },
     "execution_count": 76,
     "metadata": {},
     "output_type": "execute_result"
    }
   ],
   "source": [
    "type(name_list)"
   ]
  },
  {
   "cell_type": "code",
   "execution_count": 77,
   "metadata": {},
   "outputs": [
    {
     "data": {
      "text/plain": [
       "3"
      ]
     },
     "execution_count": 77,
     "metadata": {},
     "output_type": "execute_result"
    }
   ],
   "source": [
    "len(name_list)"
   ]
  },
  {
   "cell_type": "code",
   "execution_count": 78,
   "metadata": {},
   "outputs": [
    {
     "data": {
      "text/plain": [
       "'Babken'"
      ]
     },
     "execution_count": 78,
     "metadata": {},
     "output_type": "execute_result"
    }
   ],
   "source": [
    "name_list[1]"
   ]
  },
  {
   "cell_type": "code",
   "execution_count": 79,
   "metadata": {},
   "outputs": [
    {
     "data": {
      "text/plain": [
       "'Bob'"
      ]
     },
     "execution_count": 79,
     "metadata": {},
     "output_type": "execute_result"
    }
   ],
   "source": [
    "name_list[0]"
   ]
  },
  {
   "cell_type": "code",
   "execution_count": 80,
   "metadata": {},
   "outputs": [
    {
     "data": {
      "text/plain": [
       "'Bagrat'"
      ]
     },
     "execution_count": 80,
     "metadata": {},
     "output_type": "execute_result"
    }
   ],
   "source": [
    "name_list[-1]"
   ]
  },
  {
   "cell_type": "code",
   "execution_count": 81,
   "metadata": {},
   "outputs": [],
   "source": [
    "surname_list = ['Marley','Mikaelyan','Mesropyan']"
   ]
  },
  {
   "cell_type": "code",
   "execution_count": 82,
   "metadata": {},
   "outputs": [
    {
     "name": "stdout",
     "output_type": "stream",
     "text": [
      "['Marley', 'Mikaelyan', 'Mesropyan']\n"
     ]
    }
   ],
   "source": [
    "print(surname_list)"
   ]
  },
  {
   "cell_type": "code",
   "execution_count": 83,
   "metadata": {},
   "outputs": [],
   "source": [
    "person_list = [[name_list],[surname_list]]"
   ]
  },
  {
   "cell_type": "code",
   "execution_count": 84,
   "metadata": {},
   "outputs": [
    {
     "name": "stdout",
     "output_type": "stream",
     "text": [
      "[[['Bob', 'Babken', 'Bagrat']], [['Marley', 'Mikaelyan', 'Mesropyan']]]\n"
     ]
    }
   ],
   "source": [
    "print(person_list)"
   ]
  },
  {
   "cell_type": "code",
   "execution_count": 85,
   "metadata": {},
   "outputs": [],
   "source": [
    "person_list = [ name_list, surname_list]"
   ]
  },
  {
   "cell_type": "code",
   "execution_count": 86,
   "metadata": {},
   "outputs": [
    {
     "name": "stdout",
     "output_type": "stream",
     "text": [
      "[['Bob', 'Babken', 'Bagrat'], ['Marley', 'Mikaelyan', 'Mesropyan']]\n"
     ]
    }
   ],
   "source": [
    "print(person_list)"
   ]
  },
  {
   "cell_type": "markdown",
   "metadata": {},
   "source": [
    "### List Operations\n",
    "#### Accessing and updating Values in Lists\n",
    "To access values in lists, use the square brackets for slicing along with the index or indices to obtain value available at that index.  \n",
    "You can update single or multiple elements of lists by giving the slice on the left-hand side of the assignment operator, and you can add to elements in a list with the append() method. \n"
   ]
  },
  {
   "cell_type": "code",
   "execution_count": null,
   "metadata": {},
   "outputs": [],
   "source": [
    "int_list = [1, 2, 3, 4, 5]\n",
    "prime1 = 2\n",
    "prime2 = 3\n",
    "primes_list = [prime1, prime2]\n",
    "a_10 = ['a']*10\n",
    "print (primes_list)\n",
    "print (a_10)\n",
    "print (int_list*4)"
   ]
  },
  {
   "cell_type": "code",
   "execution_count": 3,
   "metadata": {},
   "outputs": [
    {
     "name": "stdout",
     "output_type": "stream",
     "text": [
      "Value available at index 2 : \n",
      "1997\n",
      "New value available at index 2 : \n",
      "2001\n",
      "New values after slice update: \n",
      "['physics', 'chemistry', 1, 2]\n",
      "Adding new element : \n",
      "['physics', 'chemistry', 1, 2, 'new']\n"
     ]
    }
   ],
   "source": [
    "list1 = ['physics', 'chemistry', 1997, 2000];\n",
    "\n",
    "print (\"Value available at index 2 : \")\n",
    "print (list1[2])\n",
    "list1[2] = 2001;\n",
    "print (\"New value available at index 2 : \")\n",
    "print (list1[2])\n",
    "list1[2:] = [1, 2]\n",
    "print (\"New values after slice update: \")\n",
    "print (list1)\n",
    "list1.append('new')\n",
    "print (\"Adding new element : \")\n",
    "print (list1)"
   ]
  },
  {
   "cell_type": "markdown",
   "metadata": {},
   "source": [
    "#### Delete List Elements\n",
    "To remove a list element, you can use either the del statement if you know exactly which element(s) you are deleting or the remove() method if you do not know. "
   ]
  },
  {
   "cell_type": "code",
   "execution_count": 4,
   "metadata": {},
   "outputs": [
    {
     "name": "stdout",
     "output_type": "stream",
     "text": [
      "['physics', 'chemistry', 1, 2, 'new']\n",
      "After deleting value at index 2 : \n",
      "['physics', 'chemistry', 2, 'new']\n",
      "After deleting 'physics' value : \n",
      "['chemistry', 2, 'new']\n"
     ]
    }
   ],
   "source": [
    "print (list1)\n",
    "del list1[2];\n",
    "print (\"After deleting value at index 2 : \")\n",
    "print (list1)\n",
    "print (\"After deleting 'physics' value : \")\n",
    "list1.remove('physics')\n",
    "print (list1)\n"
   ]
  },
  {
   "cell_type": "markdown",
   "metadata": {},
   "source": [
    "<b>5.Python dictionary</b><br>\n",
    "It is an unordered collection of items. While other compound data types have only value as an element,<br> a dictionary has a key: value pair. In order to create them we need{} brackets.<br>\n",
    "While indexing is used with lists to access values, dictionary uses keys."
   ]
  },
  {
   "cell_type": "code",
   "execution_count": 87,
   "metadata": {},
   "outputs": [],
   "source": [
    "person_dict = {\"Bob\":\"Marley\",\"Babken\":\"Mikaelyan\",\"Bagrat\":\"Mesropyan\"}"
   ]
  },
  {
   "cell_type": "code",
   "execution_count": 29,
   "metadata": {},
   "outputs": [
    {
     "name": "stdout",
     "output_type": "stream",
     "text": [
      "{'Bob': 'Marley', 'Babken': 'Mikaelyan', 'Bagrat': 'Mesropyan'}\n"
     ]
    }
   ],
   "source": [
    "print(person_dict)"
   ]
  },
  {
   "cell_type": "markdown",
   "metadata": {},
   "source": [
    "### Accessing Values in Dictionary\n",
    "To access dictionary elements, you can use the familiar square brackets along with the key to obtain its value."
   ]
  },
  {
   "cell_type": "code",
   "execution_count": 30,
   "metadata": {},
   "outputs": [
    {
     "data": {
      "text/plain": [
       "'Marley'"
      ]
     },
     "execution_count": 30,
     "metadata": {},
     "output_type": "execute_result"
    }
   ],
   "source": [
    "person_dict[\"Bob\"]"
   ]
  },
  {
   "cell_type": "markdown",
   "metadata": {},
   "source": [
    "If we attempt to access a data item with a key, which is not part of the dictionary, we get an error as follows:"
   ]
  },
  {
   "cell_type": "code",
   "execution_count": 5,
   "metadata": {},
   "outputs": [
    {
     "ename": "NameError",
     "evalue": "name 'person_dict' is not defined",
     "output_type": "error",
     "traceback": [
      "\u001b[1;31m---------------------------------------------------------------------------\u001b[0m",
      "\u001b[1;31mNameError\u001b[0m                                 Traceback (most recent call last)",
      "\u001b[1;32m<ipython-input-5-89de92444808>\u001b[0m in \u001b[0;36m<module>\u001b[1;34m\u001b[0m\n\u001b[1;32m----> 1\u001b[1;33m \u001b[0mperson_dict\u001b[0m\u001b[1;33m[\u001b[0m\u001b[1;34m\"Marley\"\u001b[0m\u001b[1;33m]\u001b[0m\u001b[1;33m\u001b[0m\u001b[1;33m\u001b[0m\u001b[0m\n\u001b[0m",
      "\u001b[1;31mNameError\u001b[0m: name 'person_dict' is not defined"
     ]
    }
   ],
   "source": [
    "person_dict[\"Marley\"]"
   ]
  },
  {
   "cell_type": "markdown",
   "metadata": {},
   "source": [
    "### Updating Dictionary\n",
    "You can update a dictionary by adding a new entry or a key-value pair, modifying an existing entry, or deleting an existing entry as shown below in the simple example:"
   ]
  },
  {
   "cell_type": "code",
   "execution_count": 9,
   "metadata": {},
   "outputs": [
    {
     "name": "stdout",
     "output_type": "stream",
     "text": [
      "8\n",
      "AUA\n"
     ]
    },
    {
     "data": {
      "text/plain": [
       "{'Name': 'Armine',\n",
       " 'Age': 8,\n",
       " 'Class': 'Business',\n",
       " 'University': 'AUA',\n",
       " 'Father Name': 'Babken'}"
      ]
     },
     "execution_count": 9,
     "metadata": {},
     "output_type": "execute_result"
    }
   ],
   "source": [
    "girl = {'Name': 'Armine', 'Age': 20, 'Class': 'Business'}\n",
    "\n",
    "girl['Age'] = 8; # update existing entry\n",
    "girl['University'] = \"AUA\"; # Add new entry\n",
    "girl[\"Father Name\"]=\"Babken\"\n",
    "\n",
    "print (girl['Age'])\n",
    "print (girl['University'])\n",
    "girl"
   ]
  },
  {
   "cell_type": "markdown",
   "metadata": {},
   "source": [
    "<b>6.Python import statement</b><br>\n",
    "We can import a module using import statement and access the definitions inside it using the dot operator.\n",
    "<br>Here is an example."
   ]
  },
  {
   "cell_type": "code",
   "execution_count": 41,
   "metadata": {},
   "outputs": [],
   "source": [
    "import numpy\n",
    "import math"
   ]
  },
  {
   "cell_type": "code",
   "execution_count": 42,
   "metadata": {},
   "outputs": [
    {
     "ename": "NameError",
     "evalue": "name 'sqrt' is not defined",
     "output_type": "error",
     "traceback": [
      "\u001b[1;31m---------------------------------------------------------------------------\u001b[0m",
      "\u001b[1;31mNameError\u001b[0m                                 Traceback (most recent call last)",
      "\u001b[1;32m<ipython-input-42-55d023811e68>\u001b[0m in \u001b[0;36m<module>\u001b[1;34m\u001b[0m\n\u001b[1;32m----> 1\u001b[1;33m \u001b[0msqrt\u001b[0m\u001b[1;33m(\u001b[0m\u001b[1;36m625\u001b[0m\u001b[1;33m)\u001b[0m\u001b[1;33m\u001b[0m\u001b[1;33m\u001b[0m\u001b[0m\n\u001b[0m",
      "\u001b[1;31mNameError\u001b[0m: name 'sqrt' is not defined"
     ]
    }
   ],
   "source": [
    "sqrt(625)"
   ]
  },
  {
   "cell_type": "code",
   "execution_count": 43,
   "metadata": {},
   "outputs": [
    {
     "data": {
      "text/plain": [
       "25.0"
      ]
     },
     "execution_count": 43,
     "metadata": {},
     "output_type": "execute_result"
    }
   ],
   "source": [
    "math.sqrt(625)"
   ]
  },
  {
   "cell_type": "code",
   "execution_count": null,
   "metadata": {},
   "outputs": [],
   "source": []
  },
  {
   "cell_type": "code",
   "execution_count": 44,
   "metadata": {},
   "outputs": [
    {
     "name": "stdout",
     "output_type": "stream",
     "text": [
      "The Zen of Python, by Tim Peters\n",
      "\n",
      "Beautiful is better than ugly.\n",
      "Explicit is better than implicit.\n",
      "Simple is better than complex.\n",
      "Complex is better than complicated.\n",
      "Flat is better than nested.\n",
      "Sparse is better than dense.\n",
      "Readability counts.\n",
      "Special cases aren't special enough to break the rules.\n",
      "Although practicality beats purity.\n",
      "Errors should never pass silently.\n",
      "Unless explicitly silenced.\n",
      "In the face of ambiguity, refuse the temptation to guess.\n",
      "There should be one-- and preferably only one --obvious way to do it.\n",
      "Although that way may not be obvious at first unless you're Dutch.\n",
      "Now is better than never.\n",
      "Although never is often better than *right* now.\n",
      "If the implementation is hard to explain, it's a bad idea.\n",
      "If the implementation is easy to explain, it may be a good idea.\n",
      "Namespaces are one honking great idea -- let's do more of those!\n"
     ]
    }
   ],
   "source": [
    "import this"
   ]
  },
  {
   "cell_type": "markdown",
   "metadata": {},
   "source": [
    "### The 3 building blocks\n",
    "\n",
    "There are 3 building blocks that Python (as other programming languages) is based on. We already covered the **for** loop last time. The other two are **if/else** statement (similar to Excel if function) and **while** loop (quite similar to the for loop).\n",
    " \n",
    " - **if/else** - if/else statement is very similar to the if formula in Excel: it check a consition and provides some output if the condition is satisfied and provides some other output otherwise. However, compared to Excel if formula, this one is quite powerful, as you can add and check as many different conditions as you want (in Excel you would have to insert several IF formulas inside each other for the same purpose). For example, assume you are playing a game where a random number is generated between 1 and 100 (both included). If you get anything less than 50 you loose, else if you get exactly 50 you draw, and you win otherwise (anything more than 50). The Pythonic statement will look like this (assume that random number is saved in a variable called num):\n",
    "    ```\n",
    "  if num < 50:\n",
    "      print(\"I lost :( \")\n",
    "  elif num==50:\n",
    "      print(\"Draw\")\n",
    "  else:\n",
    "      print(\"I won !!! \")\n",
    "     ```\n",
    "     There are several important things to note from the example above. As you can see on the first row we are checking whether num iss less than 50 or not. If it is, we print \"I lost :(\", but if this condition is wrong we just jump to the other one: As you may have noticed, similar to **for** loop, we have the colon (:) sign at the end of the \"if row\", which is mandatory to have.\n",
    "     The 2nd condition is presented by **elif** which stand for **else if**. As you noticed we have double equal signs here. The thing is that one equal sign(=) is used to declare a variable with some value (e.g. a=5). As it is already use dfor this purpose, we have to use double equal sign to check whether the left hand side is equal to the right hand side or not (e.g. a==5 checks whether a is really equal to 5 or not). Thus, this is what we need to use in if or elif conditions.\n",
    "     Last but not least, the if statement is finished (in this example) with else statement. The latter covers all other posibilities not covered by if and elif (in this case num > 50).\n"
   ]
  },
  {
   "cell_type": "code",
   "execution_count": 10,
   "metadata": {},
   "outputs": [],
   "source": [
    "names=[\"Bob\",\"Babken\",\"Bagrat\",\"Amy\"]"
   ]
  },
  {
   "cell_type": "code",
   "execution_count": 11,
   "metadata": {},
   "outputs": [
    {
     "name": "stdout",
     "output_type": "stream",
     "text": [
      "Male\n"
     ]
    }
   ],
   "source": [
    "if names[0][0]==\"B\":\n",
    "    print(\"Male\")\n",
    "    "
   ]
  },
  {
   "cell_type": "code",
   "execution_count": 12,
   "metadata": {},
   "outputs": [
    {
     "name": "stdout",
     "output_type": "stream",
     "text": [
      "Don't have enough information\n"
     ]
    }
   ],
   "source": [
    "index=0\n",
    "if names[index][0]==\"Babken\":\n",
    "    print(\"Male\")\n",
    "elif names[index][0]==\"A\":\n",
    "    print(\"Female\")\n",
    "else:\n",
    "    print(\"Don't have enough information\")"
   ]
  },
  {
   "cell_type": "code",
   "execution_count": 13,
   "metadata": {},
   "outputs": [
    {
     "name": "stdout",
     "output_type": "stream",
     "text": [
      "Number is 7\n"
     ]
    }
   ],
   "source": [
    "# Another example\n",
    "num = 7\n",
    "if num == 5:# false, so it will check the next statement\n",
    "    print(\"Number is 5\")\n",
    "elif num == 11: #false, so it will check the next statement\n",
    "    print(\"Number is 11\")\n",
    "elif num == 7: #true, so only the line below be executed\n",
    "    print(\"Number is 7\")\n",
    "else:\n",
    "    print(\"Number isn't 5, 11 or 7\")"
   ]
  },
  {
   "cell_type": "code",
   "execution_count": 14,
   "metadata": {},
   "outputs": [
    {
     "name": "stdout",
     "output_type": "stream",
     "text": [
      "language is java\n"
     ]
    }
   ],
   "source": [
    "language='java'\n",
    "if language=='python': # false, so it will check the next statement\n",
    "    print(\"language is python\")\n",
    "elif language=='java': #true, so only the line below be executed, and it will not check following statements\n",
    "    print('language is java')\n",
    "elif language=='R':\n",
    "    print('language is R')\n",
    "else:\n",
    "    print(\"No match\")"
   ]
  },
  {
   "cell_type": "markdown",
   "metadata": {},
   "source": [
    "### nested if statements"
   ]
  },
  {
   "cell_type": "markdown",
   "metadata": {},
   "source": [
    "It is possible to have a if...elif...else statement inside another if...elif...else statement. This is called nesting in computer programming. Any number of these statements can be nested inside one another. This means that the inner if statement is the part of the outer one. Indentation is the only way to figure out the level of nesting.This can get confusing, so must be avoided if possible."
   ]
  },
  {
   "cell_type": "code",
   "execution_count": 15,
   "metadata": {},
   "outputs": [
    {
     "name": "stdout",
     "output_type": "stream",
     "text": [
      "Bigger than 5\n",
      "Between 5 and 47\n"
     ]
    }
   ],
   "source": [
    "num = 12\n",
    "if num > 5:  # true,so the nested lines will be executed\n",
    "    print(\"Bigger than 5\")\n",
    "    if num <=47:     # at this time it checks this statement because it is nested in initial statement.\n",
    "        print(\"Between 5 and 47\") # this will be printed because the line above is true as well"
   ]
  },
  {
   "cell_type": "markdown",
   "metadata": {},
   "source": [
    "\n",
    "\n",
    "### For loop\n",
    "Loop is a structure, series, or process the end of which is connected to the beginning.\n",
    "Python’s for statement iterates over the items of any sequence (list, string or other iterable objects) in the order that they appear in the sequence."
   ]
  },
  {
   "cell_type": "code",
   "execution_count": 16,
   "metadata": {},
   "outputs": [
    {
     "name": "stdout",
     "output_type": "stream",
     "text": [
      "Male\n",
      "Male\n",
      "Male\n",
      "Female\n"
     ]
    }
   ],
   "source": [
    "for i in names:\n",
    "    if i[0]==\"B\":\n",
    "        print(\"Male\")\n",
    "    elif i[0]==\"A\":\n",
    "        print(\"Female\")\n",
    "    else:\n",
    "        print(\"N/A\")"
   ]
  },
  {
   "cell_type": "code",
   "execution_count": 17,
   "metadata": {},
   "outputs": [],
   "source": [
    "sequence = [\"Narek\",\"Ashot\",\"Ruben\",\"Gevorg\"] # this list is a sequence of names in this case"
   ]
  },
  {
   "cell_type": "markdown",
   "metadata": {},
   "source": [
    "Note we could name items in the list different from val (for example call it 'i','d' or 'name') and the code would run the same way.<br> Here val is the variable that takes the value of the item inside the sequence on each iteration.<br>\n",
    "Loop continues until it reaches the last item in the sequence. The body of for loop is separated from the rest of the code using indentation."
   ]
  },
  {
   "cell_type": "code",
   "execution_count": 18,
   "metadata": {},
   "outputs": [
    {
     "name": "stdout",
     "output_type": "stream",
     "text": [
      "['NAREK', 'ASHOT', 'RUBEN', 'GEVORG']\n"
     ]
    }
   ],
   "source": [
    "names_up = []\n",
    "for i in sequence:\n",
    "    names_up.append(i.upper()) # making upper case each name\n",
    "print(names_up)"
   ]
  },
  {
   "cell_type": "markdown",
   "metadata": {},
   "source": [
    "## Functions\n",
    "A function is a block of organized, reusable code that is used to perform a single, related action. Functions provide better modularity for your application and a high degree of code reusing.\n",
    "\n",
    "As you already know, Python gives you many built-in functions like len(), etc. but you can also create your own functions. These functions are called user-defined functions.\n",
    "\n",
    "### Defining a Function\n",
    "\n",
    "You can define functions to provide the required functionality. Here are simple rules to define a function in Python. \n",
    "- Function blocks begin with the keyword def followed by the function name and parentheses ( ( ) ).\n",
    "- Any input parameters or arguments should be placed within these parentheses. You can also define parameters inside these parentheses.\n",
    "- The first statement of a function can be an optional statement - the documentation string of the function or docstring.\n",
    "- The code block within every function starts with a colon (:) and is indented.\n",
    "- The statement return [expression] exits a function, optionally passing back an expression to the caller. A return statement with no arguments is the same as return None.\n"
   ]
  },
  {
   "cell_type": "code",
   "execution_count": 52,
   "metadata": {},
   "outputs": [
    {
     "data": {
      "text/plain": [
       "'SuperAUA'"
      ]
     },
     "execution_count": 52,
     "metadata": {},
     "output_type": "execute_result"
    }
   ],
   "source": [
    "def superify(text):\n",
    "    return (\"Super\"+text)\n",
    "\n",
    "superify('AUA')\n"
   ]
  },
  {
   "cell_type": "code",
   "execution_count": 53,
   "metadata": {},
   "outputs": [
    {
     "data": {
      "text/plain": [
       "'Superman'"
      ]
     },
     "execution_count": 53,
     "metadata": {},
     "output_type": "execute_result"
    }
   ],
   "source": [
    "superify(\"man\")"
   ]
  },
  {
   "cell_type": "code",
   "execution_count": 54,
   "metadata": {},
   "outputs": [],
   "source": [
    "def check_gender(name):\n",
    "    if i[0]==\"B\":\n",
    "        return(\"Male\")\n",
    "    elif i[0]==\"A\":\n",
    "        return(\"Female\")\n",
    "    else:\n",
    "        return(\"N/A\")\n",
    "        "
   ]
  },
  {
   "cell_type": "code",
   "execution_count": 56,
   "metadata": {},
   "outputs": [
    {
     "name": "stdout",
     "output_type": "stream",
     "text": [
      "Male\n",
      "Male\n",
      "Male\n",
      "Female\n"
     ]
    }
   ],
   "source": [
    "for i in names:\n",
    "    print(check_gender(i))"
   ]
  },
  {
   "cell_type": "markdown",
   "metadata": {},
   "source": [
    "### The range() function\n",
    "We can generate a sequence of numbers using range() function.<br> range(10) will generate numbers from 0 to 9 (10 numbers).<br>\n",
    "We can also define the start, stop and step size as range(start, stop, step).<br> Step size defaults to 1 if not provided."
   ]
  },
  {
   "cell_type": "code",
   "execution_count": 25,
   "metadata": {},
   "outputs": [
    {
     "name": "stdout",
     "output_type": "stream",
     "text": [
      "range(0, 10)\n"
     ]
    }
   ],
   "source": [
    "print(range(10))"
   ]
  },
  {
   "cell_type": "markdown",
   "metadata": {},
   "source": [
    "Range() function does not store all the values in memory, it would be inefficient.<br> So it remembers the start, stop, step size and generates the next number on the go.<br>\n",
    "\n",
    "To force this function to output all the items, we can use the function list().<br>\n",
    "\n",
    "The following example will clarify it:"
   ]
  },
  {
   "cell_type": "code",
   "execution_count": 27,
   "metadata": {},
   "outputs": [
    {
     "name": "stdout",
     "output_type": "stream",
     "text": [
      "[0, 1, 2, 3, 4, 5, 6, 7, 8, 9]\n",
      "[1, 3, 5, 7, 9]\n"
     ]
    }
   ],
   "source": [
    "print(list(range(10)))\n",
    "print(list(range(1,10,2)))"
   ]
  },
  {
   "cell_type": "markdown",
   "metadata": {},
   "source": [
    "We can use the range() function in for loops to iterate through a sequence of numbers. <br>It can be combined with the len() function to iterate though a sequence using indexing. Here is an example."
   ]
  },
  {
   "cell_type": "code",
   "execution_count": 30,
   "metadata": {},
   "outputs": [
    {
     "name": "stdout",
     "output_type": "stream",
     "text": [
      "Bob\n",
      "Babken\n",
      "Bagrat\n",
      "Amy\n"
     ]
    }
   ],
   "source": [
    "for i in range(len(names)):\n",
    "    print(names[i])"
   ]
  },
  {
   "cell_type": "code",
   "execution_count": 28,
   "metadata": {},
   "outputs": [
    {
     "name": "stdout",
     "output_type": "stream",
     "text": [
      "Armenian king  Pap\n",
      "Armenian king  Tigran\n",
      "Armenian king  Artashes\n"
     ]
    }
   ],
   "source": [
    "kings = ['Pap', 'Tigran', 'Artashes']\n",
    "\n",
    "# iterate over the list using index\n",
    "for i in range(len(kings)):\n",
    "    print(\"Armenian king \", kings[i])"
   ]
  },
  {
   "cell_type": "markdown",
   "metadata": {},
   "source": [
    " - **while** - while loop is very similar to the for loop covered before. It is again autmoating the repetitive work, yet unlike for loop, while loop needs to have a limit to reach. In case of for, we repeate the same function/action for several times (thus, we exactly know the number of times to repeat), yet in case of while loop, we repeat the same action while a limit is reached. This means that the while loop can be an infinite loop if we do not take care of it reaching the limit. For example:\n",
    "     ```\n",
    "     i=0\n",
    "     while i<5:\n",
    "         print(i)\n",
    "         i=i+1\n",
    "     ```\n",
    "     The loop above will first print 0, then 1,2,3,4 and will stop as 5 is not less than 5. Importantthings to note here is that again, we need to have the colon sign (:) on the \"while row\". Unlike for, \"i\" variable here is not a temporary one, which means we have to first create it (i=0). Then we have to mention the limit (i<5) and in the end we need to incrementally increase i (i=i+1) so that it reaches the limit at some time. *Note: if you do not increase it, for example in this case, then i will always stay 0 which is always less than 5. Thus, you will end up with an infinite loop.*"
   ]
  },
  {
   "cell_type": "code",
   "execution_count": 31,
   "metadata": {},
   "outputs": [
    {
     "name": "stdout",
     "output_type": "stream",
     "text": [
      "1\n",
      "2\n",
      "3\n",
      "4\n",
      "5\n",
      "Finished\n"
     ]
    }
   ],
   "source": [
    "i = 1\n",
    "while i <=5: # it will stop only when i is bigger than 5\n",
    "    print(i)\n",
    "    i = i + 1\n",
    "print(\"Finished\")"
   ]
  },
  {
   "cell_type": "code",
   "execution_count": 32,
   "metadata": {},
   "outputs": [
    {
     "name": "stdout",
     "output_type": "stream",
     "text": [
      "Bob\n",
      "Babken\n",
      "Bagrat\n",
      "Amy\n"
     ]
    }
   ],
   "source": [
    "i=0\n",
    "while i<len(names):\n",
    "    print(names[i])\n",
    "    i+=1"
   ]
  },
  {
   "cell_type": "code",
   "execution_count": 33,
   "metadata": {},
   "outputs": [
    {
     "name": "stdout",
     "output_type": "stream",
     "text": [
      "0\n",
      "1\n",
      "4\n",
      "9\n",
      "16\n",
      "25\n",
      "36\n",
      "49\n",
      "64\n"
     ]
    }
   ],
   "source": [
    "for i in range(9):\n",
    "    print(i**2)"
   ]
  },
  {
   "cell_type": "code",
   "execution_count": 34,
   "metadata": {},
   "outputs": [
    {
     "name": "stdout",
     "output_type": "stream",
     "text": [
      "0\n",
      "4\n",
      "16\n",
      "36\n",
      "64\n"
     ]
    }
   ],
   "source": [
    "i=0\n",
    "while i<10:\n",
    "    print(i**2)\n",
    "    i+=2"
   ]
  },
  {
   "cell_type": "code",
   "execution_count": 35,
   "metadata": {},
   "outputs": [
    {
     "name": "stdout",
     "output_type": "stream",
     "text": [
      "[0]\n",
      "[0, 1]\n",
      "[0, 1, 4]\n",
      "[0, 1, 4, 9]\n",
      "[0, 1, 4, 9, 16]\n",
      "[0, 1, 4, 9, 16, 25]\n",
      "[0, 1, 4, 9, 16, 25, 36]\n",
      "[0, 1, 4, 9, 16, 25, 36, 49]\n",
      "[0, 1, 4, 9, 16, 25, 36, 49, 64]\n",
      "[0, 1, 4, 9, 16, 25, 36, 49, 64, 81]\n"
     ]
    }
   ],
   "source": [
    "squares=[]\n",
    "for i in range(10):\n",
    "    squares.append(i**2)\n",
    "    print(squares)"
   ]
  },
  {
   "cell_type": "code",
   "execution_count": 36,
   "metadata": {},
   "outputs": [
    {
     "data": {
      "text/plain": [
       "[0, 1, 4, 9, 16, 25, 36, 49, 64, 81]"
      ]
     },
     "execution_count": 36,
     "metadata": {},
     "output_type": "execute_result"
    }
   ],
   "source": [
    "squares"
   ]
  },
  {
   "cell_type": "markdown",
   "metadata": {},
   "source": [
    "## List  and dictionary comprehensions"
   ]
  },
  {
   "cell_type": "code",
   "execution_count": 39,
   "metadata": {},
   "outputs": [
    {
     "name": "stdout",
     "output_type": "stream",
     "text": [
      "[0, 1, 4, 9, 16, 25, 36, 49, 64, 81]\n",
      "[1, 27, 125, 343, 729, 1331, 2197, 3375]\n",
      "[1, 27, 125, 343, 729, 1331, 2197, 3375]\n",
      "{1: 1, 3: 27, 5: 125, 7: 343, 9: 729, 11: 1331, 13: 2197, 15: 3375}\n"
     ]
    }
   ],
   "source": [
    "print([i**2 for i in range(10)])\n",
    "print([i**3 for i in range(1,16,2)])\n",
    "print([i**3 for i in range(1,16) if i%2!=0])\n",
    "print({i:i**3 for i in range(1,16) if i%2!=0})\n",
    "\n"
   ]
  },
  {
   "cell_type": "markdown",
   "metadata": {},
   "source": [
    "# First table scraped"
   ]
  },
  {
   "cell_type": "code",
   "execution_count": 40,
   "metadata": {},
   "outputs": [],
   "source": [
    "import pandas as pd"
   ]
  },
  {
   "cell_type": "code",
   "execution_count": 41,
   "metadata": {},
   "outputs": [],
   "source": [
    "tables = pd.read_html(\"https://www.cbinsights.com/research-unicorn-companies\")"
   ]
  },
  {
   "cell_type": "code",
   "execution_count": 42,
   "metadata": {},
   "outputs": [
    {
     "data": {
      "text/plain": [
       "1"
      ]
     },
     "execution_count": 42,
     "metadata": {},
     "output_type": "execute_result"
    }
   ],
   "source": [
    "len(tables)"
   ]
  },
  {
   "cell_type": "code",
   "execution_count": 43,
   "metadata": {},
   "outputs": [
    {
     "data": {
      "text/plain": [
       "list"
      ]
     },
     "execution_count": 43,
     "metadata": {},
     "output_type": "execute_result"
    }
   ],
   "source": [
    "type(tables)"
   ]
  },
  {
   "cell_type": "code",
   "execution_count": 44,
   "metadata": {},
   "outputs": [
    {
     "data": {
      "text/html": [
       "<div>\n",
       "<style scoped>\n",
       "    .dataframe tbody tr th:only-of-type {\n",
       "        vertical-align: middle;\n",
       "    }\n",
       "\n",
       "    .dataframe tbody tr th {\n",
       "        vertical-align: top;\n",
       "    }\n",
       "\n",
       "    .dataframe thead th {\n",
       "        text-align: right;\n",
       "    }\n",
       "</style>\n",
       "<table border=\"1\" class=\"dataframe\">\n",
       "  <thead>\n",
       "    <tr style=\"text-align: right;\">\n",
       "      <th></th>\n",
       "      <th>Company</th>\n",
       "      <th>Valuation ($B)</th>\n",
       "      <th>Date Joined</th>\n",
       "      <th>Country</th>\n",
       "      <th>Industry</th>\n",
       "      <th>Select Investors</th>\n",
       "    </tr>\n",
       "  </thead>\n",
       "  <tbody>\n",
       "    <tr>\n",
       "      <th>0</th>\n",
       "      <td>Toutiao (Bytedance)</td>\n",
       "      <td>$75</td>\n",
       "      <td>4/7/2017</td>\n",
       "      <td>China</td>\n",
       "      <td>Artificial intelligence</td>\n",
       "      <td>Sequoia Capital China, SIG Asia Investments, S...</td>\n",
       "    </tr>\n",
       "    <tr>\n",
       "      <th>1</th>\n",
       "      <td>Didi Chuxing</td>\n",
       "      <td>$56</td>\n",
       "      <td>12/31/2014</td>\n",
       "      <td>China</td>\n",
       "      <td>Auto &amp; transportation</td>\n",
       "      <td>Matrix Partners, Tiger  Global Management, Sof...</td>\n",
       "    </tr>\n",
       "    <tr>\n",
       "      <th>2</th>\n",
       "      <td>JUUL Labs</td>\n",
       "      <td>$50</td>\n",
       "      <td>12/20/2017</td>\n",
       "      <td>United States</td>\n",
       "      <td>Consumer &amp; retail</td>\n",
       "      <td>Tiger Global Management</td>\n",
       "    </tr>\n",
       "    <tr>\n",
       "      <th>3</th>\n",
       "      <td>NaN</td>\n",
       "      <td>NaN</td>\n",
       "      <td>NaN</td>\n",
       "      <td>NaN</td>\n",
       "      <td>NaN</td>\n",
       "      <td>NaN</td>\n",
       "    </tr>\n",
       "    <tr>\n",
       "      <th>4</th>\n",
       "      <td>WeWork</td>\n",
       "      <td>$47</td>\n",
       "      <td>2/3/2014</td>\n",
       "      <td>United States</td>\n",
       "      <td>Other</td>\n",
       "      <td>T. Rowe Price, Benchmark  Capital, SoftBank Group</td>\n",
       "    </tr>\n",
       "    <tr>\n",
       "      <th>5</th>\n",
       "      <td>Airbnb</td>\n",
       "      <td>$29.3</td>\n",
       "      <td>7/26/2011</td>\n",
       "      <td>United States</td>\n",
       "      <td>Travel</td>\n",
       "      <td>General Catalyst Partners,  Andreessen Horowit...</td>\n",
       "    </tr>\n",
       "    <tr>\n",
       "      <th>6</th>\n",
       "      <td>Stripe</td>\n",
       "      <td>$22.5</td>\n",
       "      <td>1/23/2014</td>\n",
       "      <td>United States</td>\n",
       "      <td>Fintech</td>\n",
       "      <td>Khosla Ventures, Lowercase  Capital, capitalG</td>\n",
       "    </tr>\n",
       "    <tr>\n",
       "      <th>7</th>\n",
       "      <td>NaN</td>\n",
       "      <td>NaN</td>\n",
       "      <td>NaN</td>\n",
       "      <td>NaN</td>\n",
       "      <td>NaN</td>\n",
       "      <td>NaN</td>\n",
       "    </tr>\n",
       "    <tr>\n",
       "      <th>8</th>\n",
       "      <td>SpaceX</td>\n",
       "      <td>$18.5</td>\n",
       "      <td>12/1/2012</td>\n",
       "      <td>United States</td>\n",
       "      <td>Other</td>\n",
       "      <td>Founders Fund, Draper  Fisher Jurvetson, Rothe...</td>\n",
       "    </tr>\n",
       "    <tr>\n",
       "      <th>9</th>\n",
       "      <td>Epic Games</td>\n",
       "      <td>$15</td>\n",
       "      <td>10/26/2018</td>\n",
       "      <td>United States</td>\n",
       "      <td>Other</td>\n",
       "      <td>Tencent Holdings, KKR, Smash Ventures</td>\n",
       "    </tr>\n",
       "    <tr>\n",
       "      <th>10</th>\n",
       "      <td>Grab</td>\n",
       "      <td>$14.3</td>\n",
       "      <td>12/4/2014</td>\n",
       "      <td>Singapore</td>\n",
       "      <td>Auto &amp; transportation</td>\n",
       "      <td>GGV Capital, Vertex Venture  Holdings, Softban...</td>\n",
       "    </tr>\n",
       "    <tr>\n",
       "      <th>11</th>\n",
       "      <td>DoorDash</td>\n",
       "      <td>$12.6</td>\n",
       "      <td>3/1/2018</td>\n",
       "      <td>United States</td>\n",
       "      <td>Supply chain, logistics, &amp; delivery</td>\n",
       "      <td>Softbank Group, Sequoia Capital, Khosla Ventures</td>\n",
       "    </tr>\n",
       "    <tr>\n",
       "      <th>12</th>\n",
       "      <td>Bitmain Technologies</td>\n",
       "      <td>$12</td>\n",
       "      <td>7/6/2018</td>\n",
       "      <td>China</td>\n",
       "      <td>Hardware</td>\n",
       "      <td>Coatue Management, Sequoia Capital China, IDG ...</td>\n",
       "    </tr>\n",
       "    <tr>\n",
       "      <th>13</th>\n",
       "      <td>Samumed</td>\n",
       "      <td>$12</td>\n",
       "      <td>8/6/2018</td>\n",
       "      <td>United States</td>\n",
       "      <td>Health</td>\n",
       "      <td>Vickers Venture Partners, IKEA GreenTech</td>\n",
       "    </tr>\n",
       "    <tr>\n",
       "      <th>14</th>\n",
       "      <td>Palantir Technologies</td>\n",
       "      <td>$11</td>\n",
       "      <td>5/5/2011</td>\n",
       "      <td>United States</td>\n",
       "      <td>Data management &amp; analytics</td>\n",
       "      <td>RRE Ventures, Founders  Fund, In-Q-Tel</td>\n",
       "    </tr>\n",
       "    <tr>\n",
       "      <th>15</th>\n",
       "      <td>Global Switch</td>\n",
       "      <td>$11.08</td>\n",
       "      <td>12/22/2016</td>\n",
       "      <td>United Kingdom</td>\n",
       "      <td>Hardware</td>\n",
       "      <td>Aviation Industry Corporation of China, Essenc...</td>\n",
       "    </tr>\n",
       "    <tr>\n",
       "      <th>16</th>\n",
       "      <td>Infor</td>\n",
       "      <td>$10</td>\n",
       "      <td>11/16/2016</td>\n",
       "      <td>United States</td>\n",
       "      <td>Supply chain, logistics, &amp; delivery</td>\n",
       "      <td>Blackstone Group, Koch Industries</td>\n",
       "    </tr>\n",
       "    <tr>\n",
       "      <th>17</th>\n",
       "      <td>DJI  Innovations</td>\n",
       "      <td>$10</td>\n",
       "      <td>5/6/2015</td>\n",
       "      <td>China</td>\n",
       "      <td>Hardware</td>\n",
       "      <td>Accel Partners, Sequoia  Capital</td>\n",
       "    </tr>\n",
       "    <tr>\n",
       "      <th>18</th>\n",
       "      <td>One97  Communications</td>\n",
       "      <td>$10</td>\n",
       "      <td>5/12/2015</td>\n",
       "      <td>India</td>\n",
       "      <td>Fintech</td>\n",
       "      <td>Intel Capital, Sapphire  Ventures, Alibaba Group</td>\n",
       "    </tr>\n",
       "    <tr>\n",
       "      <th>19</th>\n",
       "      <td>Go-Jek</td>\n",
       "      <td>$10</td>\n",
       "      <td>8/4/2016</td>\n",
       "      <td>Indonesia</td>\n",
       "      <td>Supply chain, logistics, &amp; delivery</td>\n",
       "      <td>Formation Group, Sequoia Capital India, Warbur...</td>\n",
       "    </tr>\n",
       "    <tr>\n",
       "      <th>20</th>\n",
       "      <td>Coupang</td>\n",
       "      <td>$9</td>\n",
       "      <td>5/28/2014</td>\n",
       "      <td>South Korea</td>\n",
       "      <td>E-commerce &amp; direct-to-consumer</td>\n",
       "      <td>Sequoia Capital, Founder  Collective, Wellingt...</td>\n",
       "    </tr>\n",
       "    <tr>\n",
       "      <th>21</th>\n",
       "      <td>Guazi (Chehaoduo)</td>\n",
       "      <td>$9</td>\n",
       "      <td>3/12/2016</td>\n",
       "      <td>China</td>\n",
       "      <td>E-commerce &amp; direct-to-consumer</td>\n",
       "      <td>Sequoia Capital China, GX Capital</td>\n",
       "    </tr>\n",
       "    <tr>\n",
       "      <th>22</th>\n",
       "      <td>Coinbase</td>\n",
       "      <td>$8</td>\n",
       "      <td>8/10/2017</td>\n",
       "      <td>United States</td>\n",
       "      <td>Fintech</td>\n",
       "      <td>Y Combinator, Union Square Ventures, DFJ Growth</td>\n",
       "    </tr>\n",
       "    <tr>\n",
       "      <th>23</th>\n",
       "      <td>Instacart</td>\n",
       "      <td>$7.6</td>\n",
       "      <td>12/30/2014</td>\n",
       "      <td>United States</td>\n",
       "      <td>Supply chain, logistics, &amp; delivery</td>\n",
       "      <td>Khosla Ventures, Kleiner  Perkins Caufield &amp; B...</td>\n",
       "    </tr>\n",
       "    <tr>\n",
       "      <th>24</th>\n",
       "      <td>UiPath</td>\n",
       "      <td>$7.1</td>\n",
       "      <td>3/2/2018</td>\n",
       "      <td>United States</td>\n",
       "      <td>Artificial intelligence</td>\n",
       "      <td>Accel, capitalG, Earlybrid Venture Capital, Se...</td>\n",
       "    </tr>\n",
       "    <tr>\n",
       "      <th>25</th>\n",
       "      <td>Snapdeal</td>\n",
       "      <td>$7</td>\n",
       "      <td>5/21/2014</td>\n",
       "      <td>India</td>\n",
       "      <td>E-commerce &amp; direct-to-consumer</td>\n",
       "      <td>SoftBankGroup, Blackrock, Alibaba Group</td>\n",
       "    </tr>\n",
       "    <tr>\n",
       "      <th>26</th>\n",
       "      <td>NaN</td>\n",
       "      <td>NaN</td>\n",
       "      <td>NaN</td>\n",
       "      <td>NaN</td>\n",
       "      <td>NaN</td>\n",
       "      <td>NaN</td>\n",
       "    </tr>\n",
       "    <tr>\n",
       "      <th>27</th>\n",
       "      <td>Roivant Sciences</td>\n",
       "      <td>$7</td>\n",
       "      <td>11/13/2018</td>\n",
       "      <td>Switzerland</td>\n",
       "      <td>Health</td>\n",
       "      <td>SoftBankGroup, Founders Fund</td>\n",
       "    </tr>\n",
       "    <tr>\n",
       "      <th>28</th>\n",
       "      <td>NaN</td>\n",
       "      <td>NaN</td>\n",
       "      <td>NaN</td>\n",
       "      <td>NaN</td>\n",
       "      <td>NaN</td>\n",
       "      <td>NaN</td>\n",
       "    </tr>\n",
       "    <tr>\n",
       "      <th>29</th>\n",
       "      <td>Tokopedia</td>\n",
       "      <td>$7</td>\n",
       "      <td>12/12/2018</td>\n",
       "      <td>Indonesia</td>\n",
       "      <td>E-commerce &amp; direct-to-consumer</td>\n",
       "      <td>SoftBankGroup, Alibaba Group, Sequoia Capital ...</td>\n",
       "    </tr>\n",
       "    <tr>\n",
       "      <th>...</th>\n",
       "      <td>...</td>\n",
       "      <td>...</td>\n",
       "      <td>...</td>\n",
       "      <td>...</td>\n",
       "      <td>...</td>\n",
       "      <td>...</td>\n",
       "    </tr>\n",
       "    <tr>\n",
       "      <th>336</th>\n",
       "      <td>58 Daojia</td>\n",
       "      <td>$1</td>\n",
       "      <td>2/18/2016</td>\n",
       "      <td>China</td>\n",
       "      <td>Internet software &amp; services</td>\n",
       "      <td>KKR, Alibaba Group, Ping An Insurance</td>\n",
       "    </tr>\n",
       "    <tr>\n",
       "      <th>337</th>\n",
       "      <td>LinkSure Network</td>\n",
       "      <td>$1</td>\n",
       "      <td>1/1/2015</td>\n",
       "      <td>China</td>\n",
       "      <td>Mobile &amp; telecommunications</td>\n",
       "      <td>NaN</td>\n",
       "    </tr>\n",
       "    <tr>\n",
       "      <th>338</th>\n",
       "      <td>Unisound</td>\n",
       "      <td>$1</td>\n",
       "      <td>7/19/2018</td>\n",
       "      <td>China</td>\n",
       "      <td>Artificial intelligence</td>\n",
       "      <td>Qiming Venture Partners, China Internet Invest...</td>\n",
       "    </tr>\n",
       "    <tr>\n",
       "      <th>339</th>\n",
       "      <td>Yidian Zixun</td>\n",
       "      <td>$1</td>\n",
       "      <td>10/17/2017</td>\n",
       "      <td>China</td>\n",
       "      <td>Mobile &amp; telecommunications</td>\n",
       "      <td>Phoenix New Media, Tianjin Haihe Industry Fund</td>\n",
       "    </tr>\n",
       "    <tr>\n",
       "      <th>340</th>\n",
       "      <td>Tresata</td>\n",
       "      <td>$1</td>\n",
       "      <td>10/10/2018</td>\n",
       "      <td>United States</td>\n",
       "      <td>BI &amp; Analytics</td>\n",
       "      <td>GCP Capital Partners</td>\n",
       "    </tr>\n",
       "    <tr>\n",
       "      <th>341</th>\n",
       "      <td>10X Genomics</td>\n",
       "      <td>$1</td>\n",
       "      <td>1/7/2019</td>\n",
       "      <td>United States</td>\n",
       "      <td>Health</td>\n",
       "      <td>Fidelity Investments, Paladin Capital Group, M...</td>\n",
       "    </tr>\n",
       "    <tr>\n",
       "      <th>342</th>\n",
       "      <td>Rent the Runway</td>\n",
       "      <td>$1</td>\n",
       "      <td>3/21/2019</td>\n",
       "      <td>United States</td>\n",
       "      <td>E-commerce &amp; direct-to-consumer</td>\n",
       "      <td>Bain Capital Ventures, Kleiner Perkins Caufiel...</td>\n",
       "    </tr>\n",
       "    <tr>\n",
       "      <th>343</th>\n",
       "      <td>Vlocity</td>\n",
       "      <td>$1</td>\n",
       "      <td>3/26/2019</td>\n",
       "      <td>United States</td>\n",
       "      <td>Internet software &amp; services</td>\n",
       "      <td>Accenture, Salesforce Ventures, Sutter Hill Ve...</td>\n",
       "    </tr>\n",
       "    <tr>\n",
       "      <th>344</th>\n",
       "      <td>Airwallex</td>\n",
       "      <td>$1</td>\n",
       "      <td>3/25/2019</td>\n",
       "      <td>Australia</td>\n",
       "      <td>Fintech</td>\n",
       "      <td>DST Global, Sequoia Capital China, Tencent Hol...</td>\n",
       "    </tr>\n",
       "    <tr>\n",
       "      <th>345</th>\n",
       "      <td>Casper</td>\n",
       "      <td>$1.1</td>\n",
       "      <td>3/27/2019</td>\n",
       "      <td>United States</td>\n",
       "      <td>E-commerce &amp; direct-to-consumer</td>\n",
       "      <td>Norwest Venture Partners, New Enterprise Assoc...</td>\n",
       "    </tr>\n",
       "    <tr>\n",
       "      <th>346</th>\n",
       "      <td>Bill.com</td>\n",
       "      <td>$1</td>\n",
       "      <td>4/2/2019</td>\n",
       "      <td>United States</td>\n",
       "      <td>Fintech</td>\n",
       "      <td>August Capital, DCM Ventures, Emergence Capita...</td>\n",
       "    </tr>\n",
       "    <tr>\n",
       "      <th>347</th>\n",
       "      <td>Liquid</td>\n",
       "      <td>$1</td>\n",
       "      <td>4/3/2019</td>\n",
       "      <td>Japan</td>\n",
       "      <td>Fintech</td>\n",
       "      <td>JAFCO Co, Bitmain Technologies, IDG Capital</td>\n",
       "    </tr>\n",
       "    <tr>\n",
       "      <th>348</th>\n",
       "      <td>Red Ventures</td>\n",
       "      <td>$1</td>\n",
       "      <td>1/7/2015</td>\n",
       "      <td>United States</td>\n",
       "      <td>Other</td>\n",
       "      <td>Silver Lake Partners, General Atlantic</td>\n",
       "    </tr>\n",
       "    <tr>\n",
       "      <th>349</th>\n",
       "      <td>Sila Nanotechnologies</td>\n",
       "      <td>$1</td>\n",
       "      <td>4/16/2019</td>\n",
       "      <td>United States</td>\n",
       "      <td>Other</td>\n",
       "      <td>Bessemer Venture Partners, Sutter Hill Venture...</td>\n",
       "    </tr>\n",
       "    <tr>\n",
       "      <th>350</th>\n",
       "      <td>Dream11</td>\n",
       "      <td>$1</td>\n",
       "      <td>4/9/2019</td>\n",
       "      <td>India</td>\n",
       "      <td>Internet software &amp; services</td>\n",
       "      <td>Kaalari Capital, Tencent Holdings, Steadview C...</td>\n",
       "    </tr>\n",
       "    <tr>\n",
       "      <th>351</th>\n",
       "      <td>Coursera</td>\n",
       "      <td>$1</td>\n",
       "      <td>4/25/2019</td>\n",
       "      <td>United States</td>\n",
       "      <td>Edtech</td>\n",
       "      <td>New Enterprise Associates, Kleiner Perkins Cau...</td>\n",
       "    </tr>\n",
       "    <tr>\n",
       "      <th>352</th>\n",
       "      <td>Poizon</td>\n",
       "      <td>$1</td>\n",
       "      <td>4/29/2019</td>\n",
       "      <td>China</td>\n",
       "      <td>Mobile &amp; telecommunications</td>\n",
       "      <td>DST Global, Sequoia Capital China, Gaorong Cap...</td>\n",
       "    </tr>\n",
       "    <tr>\n",
       "      <th>353</th>\n",
       "      <td>BigBasket</td>\n",
       "      <td>$1</td>\n",
       "      <td>5/6/2019</td>\n",
       "      <td>India</td>\n",
       "      <td>Supply chain, logistics, &amp; delivery</td>\n",
       "      <td>Alibaba Group, Bessemer Venture Partners, Heli...</td>\n",
       "    </tr>\n",
       "    <tr>\n",
       "      <th>354</th>\n",
       "      <td>VTS</td>\n",
       "      <td>$1</td>\n",
       "      <td>5/7/2019</td>\n",
       "      <td>United States</td>\n",
       "      <td>Internet software &amp; services</td>\n",
       "      <td>Trinity Ventures, Fifth Wall Ventures, OpenVie...</td>\n",
       "    </tr>\n",
       "    <tr>\n",
       "      <th>355</th>\n",
       "      <td>Sumo Logic</td>\n",
       "      <td>$1</td>\n",
       "      <td>5/8/2019</td>\n",
       "      <td>United States</td>\n",
       "      <td>Data management &amp; analytics</td>\n",
       "      <td>Greylock Partners, Sutter Hill Ventures, Accel</td>\n",
       "    </tr>\n",
       "    <tr>\n",
       "      <th>356</th>\n",
       "      <td>GetYourGuide</td>\n",
       "      <td>$1</td>\n",
       "      <td>5/16/2019</td>\n",
       "      <td>Germany</td>\n",
       "      <td>Travel</td>\n",
       "      <td>Spark Capital, Highland Europe, Sunstone Capital</td>\n",
       "    </tr>\n",
       "    <tr>\n",
       "      <th>357</th>\n",
       "      <td>Auth0</td>\n",
       "      <td>$1</td>\n",
       "      <td>5/20/2019</td>\n",
       "      <td>United States</td>\n",
       "      <td>Cybersecurity</td>\n",
       "      <td>Bessemer Venture Partners, K9 Ventures, Trinit...</td>\n",
       "    </tr>\n",
       "    <tr>\n",
       "      <th>358</th>\n",
       "      <td>OCSiAl</td>\n",
       "      <td>$1</td>\n",
       "      <td>3/4/2019</td>\n",
       "      <td>Luxembourg</td>\n",
       "      <td>Other</td>\n",
       "      <td>A&amp;NN, Rusnano</td>\n",
       "    </tr>\n",
       "    <tr>\n",
       "      <th>359</th>\n",
       "      <td>KnowBox</td>\n",
       "      <td>$1</td>\n",
       "      <td>5/30/2019</td>\n",
       "      <td>China</td>\n",
       "      <td>Edtech</td>\n",
       "      <td>TAL Education Group, Legend Star, Alibaba Group</td>\n",
       "    </tr>\n",
       "    <tr>\n",
       "      <th>360</th>\n",
       "      <td>Loggi</td>\n",
       "      <td>$1</td>\n",
       "      <td>6/05/2019</td>\n",
       "      <td>Brazil</td>\n",
       "      <td>Supply chain, logistics, &amp; delivery</td>\n",
       "      <td>Qualcomm Ventures, SoftBank Group. Monashees+</td>\n",
       "    </tr>\n",
       "    <tr>\n",
       "      <th>361</th>\n",
       "      <td>Yanolja</td>\n",
       "      <td>$1</td>\n",
       "      <td>6/11/2019</td>\n",
       "      <td>South Korea</td>\n",
       "      <td>Travel</td>\n",
       "      <td>SBI Investment Korea, Partners Investment, GIC</td>\n",
       "    </tr>\n",
       "    <tr>\n",
       "      <th>362</th>\n",
       "      <td>KnowBe4</td>\n",
       "      <td>$1</td>\n",
       "      <td>6/12/2019</td>\n",
       "      <td>United States</td>\n",
       "      <td>Cybersecurity</td>\n",
       "      <td>Elephant Venture Capital, KKR, Ten Eleven Vent...</td>\n",
       "    </tr>\n",
       "    <tr>\n",
       "      <th>363</th>\n",
       "      <td>Meero</td>\n",
       "      <td>$1</td>\n",
       "      <td>6/18/2019</td>\n",
       "      <td>France</td>\n",
       "      <td>Internet software &amp; services</td>\n",
       "      <td>Aglae Ventures, Global Founders Capital, Alven...</td>\n",
       "    </tr>\n",
       "    <tr>\n",
       "      <th>364</th>\n",
       "      <td>Druva</td>\n",
       "      <td>$1</td>\n",
       "      <td>6/19/2019</td>\n",
       "      <td>United States</td>\n",
       "      <td>Data management &amp; analytics</td>\n",
       "      <td>Nexus Venture Partners, Tenaya Capital, Sequoi...</td>\n",
       "    </tr>\n",
       "    <tr>\n",
       "      <th>365</th>\n",
       "      <td>StockX</td>\n",
       "      <td>$1</td>\n",
       "      <td>6/26/2019</td>\n",
       "      <td>United States</td>\n",
       "      <td>E-commerce &amp; direct-to-consumer</td>\n",
       "      <td>Google Ventures, Battery Ventures, DST Global</td>\n",
       "    </tr>\n",
       "  </tbody>\n",
       "</table>\n",
       "<p>366 rows × 6 columns</p>\n",
       "</div>"
      ],
      "text/plain": [
       "                   Company Valuation ($B) Date Joined         Country  \\\n",
       "0      Toutiao (Bytedance)            $75    4/7/2017           China   \n",
       "1             Didi Chuxing            $56  12/31/2014           China   \n",
       "2                JUUL Labs            $50  12/20/2017   United States   \n",
       "3                      NaN            NaN         NaN             NaN   \n",
       "4                   WeWork            $47    2/3/2014   United States   \n",
       "5                   Airbnb          $29.3   7/26/2011   United States   \n",
       "6                   Stripe          $22.5   1/23/2014   United States   \n",
       "7                      NaN            NaN         NaN             NaN   \n",
       "8                   SpaceX          $18.5   12/1/2012   United States   \n",
       "9               Epic Games            $15  10/26/2018   United States   \n",
       "10                    Grab          $14.3   12/4/2014       Singapore   \n",
       "11                DoorDash          $12.6    3/1/2018   United States   \n",
       "12    Bitmain Technologies            $12    7/6/2018           China   \n",
       "13                 Samumed            $12    8/6/2018   United States   \n",
       "14   Palantir Technologies            $11    5/5/2011   United States   \n",
       "15           Global Switch         $11.08  12/22/2016  United Kingdom   \n",
       "16                   Infor            $10  11/16/2016   United States   \n",
       "17        DJI  Innovations            $10    5/6/2015           China   \n",
       "18   One97  Communications            $10   5/12/2015           India   \n",
       "19                  Go-Jek            $10    8/4/2016       Indonesia   \n",
       "20                 Coupang             $9   5/28/2014     South Korea   \n",
       "21       Guazi (Chehaoduo)             $9   3/12/2016           China   \n",
       "22                Coinbase             $8   8/10/2017   United States   \n",
       "23               Instacart           $7.6  12/30/2014   United States   \n",
       "24                  UiPath           $7.1    3/2/2018   United States   \n",
       "25                Snapdeal             $7   5/21/2014           India   \n",
       "26                     NaN            NaN         NaN             NaN   \n",
       "27        Roivant Sciences             $7  11/13/2018     Switzerland   \n",
       "28                     NaN            NaN         NaN             NaN   \n",
       "29               Tokopedia             $7  12/12/2018       Indonesia   \n",
       "..                     ...            ...         ...             ...   \n",
       "336              58 Daojia             $1   2/18/2016           China   \n",
       "337       LinkSure Network             $1    1/1/2015           China   \n",
       "338               Unisound             $1   7/19/2018           China   \n",
       "339           Yidian Zixun             $1  10/17/2017           China   \n",
       "340                Tresata             $1  10/10/2018   United States   \n",
       "341           10X Genomics             $1    1/7/2019   United States   \n",
       "342        Rent the Runway             $1   3/21/2019   United States   \n",
       "343                Vlocity             $1   3/26/2019   United States   \n",
       "344              Airwallex             $1   3/25/2019       Australia   \n",
       "345                 Casper           $1.1   3/27/2019   United States   \n",
       "346               Bill.com             $1    4/2/2019   United States   \n",
       "347                 Liquid             $1    4/3/2019           Japan   \n",
       "348           Red Ventures             $1    1/7/2015   United States   \n",
       "349  Sila Nanotechnologies             $1   4/16/2019   United States   \n",
       "350                Dream11             $1    4/9/2019           India   \n",
       "351               Coursera             $1   4/25/2019   United States   \n",
       "352                 Poizon             $1   4/29/2019           China   \n",
       "353              BigBasket             $1    5/6/2019           India   \n",
       "354                    VTS             $1    5/7/2019   United States   \n",
       "355             Sumo Logic             $1    5/8/2019   United States   \n",
       "356           GetYourGuide             $1   5/16/2019         Germany   \n",
       "357                  Auth0             $1   5/20/2019   United States   \n",
       "358                 OCSiAl             $1    3/4/2019      Luxembourg   \n",
       "359                KnowBox             $1   5/30/2019           China   \n",
       "360                  Loggi             $1   6/05/2019          Brazil   \n",
       "361                Yanolja             $1   6/11/2019     South Korea   \n",
       "362                KnowBe4             $1   6/12/2019   United States   \n",
       "363                  Meero             $1   6/18/2019          France   \n",
       "364                  Druva             $1   6/19/2019   United States   \n",
       "365                 StockX             $1   6/26/2019   United States   \n",
       "\n",
       "                                Industry  \\\n",
       "0                Artificial intelligence   \n",
       "1                  Auto & transportation   \n",
       "2                      Consumer & retail   \n",
       "3                                    NaN   \n",
       "4                                  Other   \n",
       "5                                 Travel   \n",
       "6                                Fintech   \n",
       "7                                    NaN   \n",
       "8                                  Other   \n",
       "9                                  Other   \n",
       "10                 Auto & transportation   \n",
       "11   Supply chain, logistics, & delivery   \n",
       "12                              Hardware   \n",
       "13                                Health   \n",
       "14           Data management & analytics   \n",
       "15                              Hardware   \n",
       "16   Supply chain, logistics, & delivery   \n",
       "17                              Hardware   \n",
       "18                               Fintech   \n",
       "19   Supply chain, logistics, & delivery   \n",
       "20       E-commerce & direct-to-consumer   \n",
       "21       E-commerce & direct-to-consumer   \n",
       "22                               Fintech   \n",
       "23   Supply chain, logistics, & delivery   \n",
       "24               Artificial intelligence   \n",
       "25       E-commerce & direct-to-consumer   \n",
       "26                                   NaN   \n",
       "27                                Health   \n",
       "28                                   NaN   \n",
       "29       E-commerce & direct-to-consumer   \n",
       "..                                   ...   \n",
       "336         Internet software & services   \n",
       "337          Mobile & telecommunications   \n",
       "338              Artificial intelligence   \n",
       "339          Mobile & telecommunications   \n",
       "340                       BI & Analytics   \n",
       "341                               Health   \n",
       "342      E-commerce & direct-to-consumer   \n",
       "343         Internet software & services   \n",
       "344                              Fintech   \n",
       "345      E-commerce & direct-to-consumer   \n",
       "346                              Fintech   \n",
       "347                              Fintech   \n",
       "348                                Other   \n",
       "349                                Other   \n",
       "350         Internet software & services   \n",
       "351                               Edtech   \n",
       "352          Mobile & telecommunications   \n",
       "353  Supply chain, logistics, & delivery   \n",
       "354         Internet software & services   \n",
       "355          Data management & analytics   \n",
       "356                               Travel   \n",
       "357                        Cybersecurity   \n",
       "358                                Other   \n",
       "359                               Edtech   \n",
       "360  Supply chain, logistics, & delivery   \n",
       "361                               Travel   \n",
       "362                        Cybersecurity   \n",
       "363         Internet software & services   \n",
       "364          Data management & analytics   \n",
       "365      E-commerce & direct-to-consumer   \n",
       "\n",
       "                                      Select Investors  \n",
       "0    Sequoia Capital China, SIG Asia Investments, S...  \n",
       "1    Matrix Partners, Tiger  Global Management, Sof...  \n",
       "2                              Tiger Global Management  \n",
       "3                                                  NaN  \n",
       "4    T. Rowe Price, Benchmark  Capital, SoftBank Group  \n",
       "5    General Catalyst Partners,  Andreessen Horowit...  \n",
       "6        Khosla Ventures, Lowercase  Capital, capitalG  \n",
       "7                                                  NaN  \n",
       "8    Founders Fund, Draper  Fisher Jurvetson, Rothe...  \n",
       "9                Tencent Holdings, KKR, Smash Ventures  \n",
       "10   GGV Capital, Vertex Venture  Holdings, Softban...  \n",
       "11    Softbank Group, Sequoia Capital, Khosla Ventures  \n",
       "12   Coatue Management, Sequoia Capital China, IDG ...  \n",
       "13            Vickers Venture Partners, IKEA GreenTech  \n",
       "14              RRE Ventures, Founders  Fund, In-Q-Tel  \n",
       "15   Aviation Industry Corporation of China, Essenc...  \n",
       "16                   Blackstone Group, Koch Industries  \n",
       "17                    Accel Partners, Sequoia  Capital  \n",
       "18    Intel Capital, Sapphire  Ventures, Alibaba Group  \n",
       "19   Formation Group, Sequoia Capital India, Warbur...  \n",
       "20   Sequoia Capital, Founder  Collective, Wellingt...  \n",
       "21                   Sequoia Capital China, GX Capital  \n",
       "22     Y Combinator, Union Square Ventures, DFJ Growth  \n",
       "23   Khosla Ventures, Kleiner  Perkins Caufield & B...  \n",
       "24   Accel, capitalG, Earlybrid Venture Capital, Se...  \n",
       "25             SoftBankGroup, Blackrock, Alibaba Group  \n",
       "26                                                 NaN  \n",
       "27                        SoftBankGroup, Founders Fund  \n",
       "28                                                 NaN  \n",
       "29   SoftBankGroup, Alibaba Group, Sequoia Capital ...  \n",
       "..                                                 ...  \n",
       "336              KKR, Alibaba Group, Ping An Insurance  \n",
       "337                                                NaN  \n",
       "338  Qiming Venture Partners, China Internet Invest...  \n",
       "339     Phoenix New Media, Tianjin Haihe Industry Fund  \n",
       "340                               GCP Capital Partners  \n",
       "341  Fidelity Investments, Paladin Capital Group, M...  \n",
       "342  Bain Capital Ventures, Kleiner Perkins Caufiel...  \n",
       "343  Accenture, Salesforce Ventures, Sutter Hill Ve...  \n",
       "344  DST Global, Sequoia Capital China, Tencent Hol...  \n",
       "345  Norwest Venture Partners, New Enterprise Assoc...  \n",
       "346  August Capital, DCM Ventures, Emergence Capita...  \n",
       "347        JAFCO Co, Bitmain Technologies, IDG Capital  \n",
       "348             Silver Lake Partners, General Atlantic  \n",
       "349  Bessemer Venture Partners, Sutter Hill Venture...  \n",
       "350  Kaalari Capital, Tencent Holdings, Steadview C...  \n",
       "351  New Enterprise Associates, Kleiner Perkins Cau...  \n",
       "352  DST Global, Sequoia Capital China, Gaorong Cap...  \n",
       "353  Alibaba Group, Bessemer Venture Partners, Heli...  \n",
       "354  Trinity Ventures, Fifth Wall Ventures, OpenVie...  \n",
       "355     Greylock Partners, Sutter Hill Ventures, Accel  \n",
       "356   Spark Capital, Highland Europe, Sunstone Capital  \n",
       "357  Bessemer Venture Partners, K9 Ventures, Trinit...  \n",
       "358                                      A&NN, Rusnano  \n",
       "359    TAL Education Group, Legend Star, Alibaba Group  \n",
       "360      Qualcomm Ventures, SoftBank Group. Monashees+  \n",
       "361     SBI Investment Korea, Partners Investment, GIC  \n",
       "362  Elephant Venture Capital, KKR, Ten Eleven Vent...  \n",
       "363  Aglae Ventures, Global Founders Capital, Alven...  \n",
       "364  Nexus Venture Partners, Tenaya Capital, Sequoi...  \n",
       "365      Google Ventures, Battery Ventures, DST Global  \n",
       "\n",
       "[366 rows x 6 columns]"
      ]
     },
     "execution_count": 44,
     "metadata": {},
     "output_type": "execute_result"
    }
   ],
   "source": [
    "tables[0]"
   ]
  },
  {
   "cell_type": "code",
   "execution_count": null,
   "metadata": {},
   "outputs": [],
   "source": [
    "tables[0].to_excel(\"unicorn.xlsx\")"
   ]
  },
  {
   "cell_type": "code",
   "execution_count": 45,
   "metadata": {},
   "outputs": [],
   "source": [
    "unicorn = tables[0]"
   ]
  },
  {
   "cell_type": "code",
   "execution_count": 46,
   "metadata": {},
   "outputs": [
    {
     "data": {
      "text/plain": [
       "pandas.core.frame.DataFrame"
      ]
     },
     "execution_count": 46,
     "metadata": {},
     "output_type": "execute_result"
    }
   ],
   "source": [
    "type(unicorn)"
   ]
  },
  {
   "cell_type": "code",
   "execution_count": 47,
   "metadata": {},
   "outputs": [
    {
     "data": {
      "text/html": [
       "<div>\n",
       "<style scoped>\n",
       "    .dataframe tbody tr th:only-of-type {\n",
       "        vertical-align: middle;\n",
       "    }\n",
       "\n",
       "    .dataframe tbody tr th {\n",
       "        vertical-align: top;\n",
       "    }\n",
       "\n",
       "    .dataframe thead th {\n",
       "        text-align: right;\n",
       "    }\n",
       "</style>\n",
       "<table border=\"1\" class=\"dataframe\">\n",
       "  <thead>\n",
       "    <tr style=\"text-align: right;\">\n",
       "      <th></th>\n",
       "      <th>Company</th>\n",
       "      <th>Valuation ($B)</th>\n",
       "      <th>Date Joined</th>\n",
       "      <th>Country</th>\n",
       "      <th>Industry</th>\n",
       "      <th>Select Investors</th>\n",
       "    </tr>\n",
       "  </thead>\n",
       "  <tbody>\n",
       "    <tr>\n",
       "      <th>0</th>\n",
       "      <td>Toutiao (Bytedance)</td>\n",
       "      <td>$75</td>\n",
       "      <td>4/7/2017</td>\n",
       "      <td>China</td>\n",
       "      <td>Artificial intelligence</td>\n",
       "      <td>Sequoia Capital China, SIG Asia Investments, S...</td>\n",
       "    </tr>\n",
       "    <tr>\n",
       "      <th>1</th>\n",
       "      <td>Didi Chuxing</td>\n",
       "      <td>$56</td>\n",
       "      <td>12/31/2014</td>\n",
       "      <td>China</td>\n",
       "      <td>Auto &amp; transportation</td>\n",
       "      <td>Matrix Partners, Tiger  Global Management, Sof...</td>\n",
       "    </tr>\n",
       "    <tr>\n",
       "      <th>2</th>\n",
       "      <td>JUUL Labs</td>\n",
       "      <td>$50</td>\n",
       "      <td>12/20/2017</td>\n",
       "      <td>United States</td>\n",
       "      <td>Consumer &amp; retail</td>\n",
       "      <td>Tiger Global Management</td>\n",
       "    </tr>\n",
       "    <tr>\n",
       "      <th>3</th>\n",
       "      <td>NaN</td>\n",
       "      <td>NaN</td>\n",
       "      <td>NaN</td>\n",
       "      <td>NaN</td>\n",
       "      <td>NaN</td>\n",
       "      <td>NaN</td>\n",
       "    </tr>\n",
       "    <tr>\n",
       "      <th>4</th>\n",
       "      <td>WeWork</td>\n",
       "      <td>$47</td>\n",
       "      <td>2/3/2014</td>\n",
       "      <td>United States</td>\n",
       "      <td>Other</td>\n",
       "      <td>T. Rowe Price, Benchmark  Capital, SoftBank Group</td>\n",
       "    </tr>\n",
       "    <tr>\n",
       "      <th>5</th>\n",
       "      <td>Airbnb</td>\n",
       "      <td>$29.3</td>\n",
       "      <td>7/26/2011</td>\n",
       "      <td>United States</td>\n",
       "      <td>Travel</td>\n",
       "      <td>General Catalyst Partners,  Andreessen Horowit...</td>\n",
       "    </tr>\n",
       "  </tbody>\n",
       "</table>\n",
       "</div>"
      ],
      "text/plain": [
       "               Company Valuation ($B) Date Joined        Country  \\\n",
       "0  Toutiao (Bytedance)            $75    4/7/2017          China   \n",
       "1         Didi Chuxing            $56  12/31/2014          China   \n",
       "2            JUUL Labs            $50  12/20/2017  United States   \n",
       "3                  NaN            NaN         NaN            NaN   \n",
       "4               WeWork            $47    2/3/2014  United States   \n",
       "5               Airbnb          $29.3   7/26/2011  United States   \n",
       "\n",
       "                  Industry                                   Select Investors  \n",
       "0  Artificial intelligence  Sequoia Capital China, SIG Asia Investments, S...  \n",
       "1    Auto & transportation  Matrix Partners, Tiger  Global Management, Sof...  \n",
       "2        Consumer & retail                            Tiger Global Management  \n",
       "3                      NaN                                                NaN  \n",
       "4                    Other  T. Rowe Price, Benchmark  Capital, SoftBank Group  \n",
       "5                   Travel  General Catalyst Partners,  Andreessen Horowit...  "
      ]
     },
     "execution_count": 47,
     "metadata": {},
     "output_type": "execute_result"
    }
   ],
   "source": [
    "unicorn.head(6)"
   ]
  },
  {
   "cell_type": "code",
   "execution_count": 48,
   "metadata": {},
   "outputs": [
    {
     "data": {
      "text/html": [
       "<div>\n",
       "<style scoped>\n",
       "    .dataframe tbody tr th:only-of-type {\n",
       "        vertical-align: middle;\n",
       "    }\n",
       "\n",
       "    .dataframe tbody tr th {\n",
       "        vertical-align: top;\n",
       "    }\n",
       "\n",
       "    .dataframe thead th {\n",
       "        text-align: right;\n",
       "    }\n",
       "</style>\n",
       "<table border=\"1\" class=\"dataframe\">\n",
       "  <thead>\n",
       "    <tr style=\"text-align: right;\">\n",
       "      <th></th>\n",
       "      <th>Company</th>\n",
       "      <th>Valuation ($B)</th>\n",
       "      <th>Date Joined</th>\n",
       "      <th>Country</th>\n",
       "      <th>Industry</th>\n",
       "      <th>Select Investors</th>\n",
       "    </tr>\n",
       "  </thead>\n",
       "  <tbody>\n",
       "    <tr>\n",
       "      <th>363</th>\n",
       "      <td>Meero</td>\n",
       "      <td>$1</td>\n",
       "      <td>6/18/2019</td>\n",
       "      <td>France</td>\n",
       "      <td>Internet software &amp; services</td>\n",
       "      <td>Aglae Ventures, Global Founders Capital, Alven...</td>\n",
       "    </tr>\n",
       "    <tr>\n",
       "      <th>364</th>\n",
       "      <td>Druva</td>\n",
       "      <td>$1</td>\n",
       "      <td>6/19/2019</td>\n",
       "      <td>United States</td>\n",
       "      <td>Data management &amp; analytics</td>\n",
       "      <td>Nexus Venture Partners, Tenaya Capital, Sequoi...</td>\n",
       "    </tr>\n",
       "    <tr>\n",
       "      <th>365</th>\n",
       "      <td>StockX</td>\n",
       "      <td>$1</td>\n",
       "      <td>6/26/2019</td>\n",
       "      <td>United States</td>\n",
       "      <td>E-commerce &amp; direct-to-consumer</td>\n",
       "      <td>Google Ventures, Battery Ventures, DST Global</td>\n",
       "    </tr>\n",
       "  </tbody>\n",
       "</table>\n",
       "</div>"
      ],
      "text/plain": [
       "    Company Valuation ($B) Date Joined        Country  \\\n",
       "363   Meero             $1   6/18/2019         France   \n",
       "364   Druva             $1   6/19/2019  United States   \n",
       "365  StockX             $1   6/26/2019  United States   \n",
       "\n",
       "                            Industry  \\\n",
       "363     Internet software & services   \n",
       "364      Data management & analytics   \n",
       "365  E-commerce & direct-to-consumer   \n",
       "\n",
       "                                      Select Investors  \n",
       "363  Aglae Ventures, Global Founders Capital, Alven...  \n",
       "364  Nexus Venture Partners, Tenaya Capital, Sequoi...  \n",
       "365      Google Ventures, Battery Ventures, DST Global  "
      ]
     },
     "execution_count": 48,
     "metadata": {},
     "output_type": "execute_result"
    }
   ],
   "source": [
    "unicorn.tail(3)"
   ]
  },
  {
   "cell_type": "code",
   "execution_count": 49,
   "metadata": {},
   "outputs": [
    {
     "data": {
      "text/plain": [
       "(366, 6)"
      ]
     },
     "execution_count": 49,
     "metadata": {},
     "output_type": "execute_result"
    }
   ],
   "source": [
    "unicorn.shape"
   ]
  },
  {
   "cell_type": "code",
   "execution_count": 50,
   "metadata": {},
   "outputs": [
    {
     "name": "stdout",
     "output_type": "stream",
     "text": [
      "<class 'pandas.core.frame.DataFrame'>\n",
      "RangeIndex: 366 entries, 0 to 365\n",
      "Data columns (total 6 columns):\n",
      "Company             354 non-null object\n",
      "Valuation ($B)      354 non-null object\n",
      "Date Joined         354 non-null object\n",
      "Country             354 non-null object\n",
      "Industry            354 non-null object\n",
      "Select Investors    353 non-null object\n",
      "dtypes: object(6)\n",
      "memory usage: 17.2+ KB\n"
     ]
    }
   ],
   "source": [
    "unicorn.info()"
   ]
  },
  {
   "cell_type": "code",
   "execution_count": 51,
   "metadata": {},
   "outputs": [
    {
     "data": {
      "text/plain": [
       "Company             object\n",
       "Valuation ($B)      object\n",
       "Date Joined         object\n",
       "Country             object\n",
       "Industry            object\n",
       "Select Investors    object\n",
       "dtype: object"
      ]
     },
     "execution_count": 51,
     "metadata": {},
     "output_type": "execute_result"
    }
   ],
   "source": [
    "unicorn.dtypes"
   ]
  },
  {
   "cell_type": "code",
   "execution_count": null,
   "metadata": {},
   "outputs": [],
   "source": []
  }
 ],
 "metadata": {
  "kernelspec": {
   "display_name": "Python 3",
   "language": "python",
   "name": "python3"
  },
  "language_info": {
   "codemirror_mode": {
    "name": "ipython",
    "version": 3
   },
   "file_extension": ".py",
   "mimetype": "text/x-python",
   "name": "python",
   "nbconvert_exporter": "python",
   "pygments_lexer": "ipython3",
   "version": "3.7.1"
  }
 },
 "nbformat": 4,
 "nbformat_minor": 2
}
