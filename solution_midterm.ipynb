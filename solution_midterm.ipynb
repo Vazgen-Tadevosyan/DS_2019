{
 "cells": [
  {
   "cell_type": "markdown",
   "metadata": {
    "colab_type": "text",
    "id": "L1hLpbEfZx-H"
   },
   "source": [
    "# Midterm Exam - [sample] Solution Key"
   ]
  },
  {
   "cell_type": "code",
   "execution_count": 1,
   "metadata": {
    "colab": {},
    "colab_type": "code",
    "id": "X67_0QTKZl5x"
   },
   "outputs": [],
   "source": [
    "import re\n",
    "import nltk\n",
    "import time\n",
    "import requests\n",
    "import itertools\n",
    "import pandas as pd\n",
    "from scrapy.http import TextResponse\n",
    "from selenium import webdriver\n",
    "from selenium.webdriver.common.keys import Keys\n",
    "from textblob import TextBlob, Word"
   ]
  },
  {
   "cell_type": "markdown",
   "metadata": {
    "colab_type": "text",
    "id": "BOIS5ay5Zl56"
   },
   "source": [
    "## Problem 1\n",
    "Info on gold prices is provided on https://b24.am/ .\n",
    "- **Task 1 (10 points):** scrape the information provided on gold (probe, carat and price).\n",
    "- **Task 2 (10 points):** calculate the price per 1k (one carat).\n",
    "- **Task 3 (5 points):** calculate how many probes is 1k."
   ]
  },
  {
   "cell_type": "code",
   "execution_count": 2,
   "metadata": {
    "colab": {},
    "colab_type": "code",
    "id": "LWXirN1eZl59"
   },
   "outputs": [],
   "source": [
    "url_1 = 'https://b24.am/'\n",
    "page_1 = requests.get(url_1,timeout=10)\n",
    "response_1 = TextResponse(url=page_1.url,body=page_1.text,encoding=\"utf-8\")"
   ]
  },
  {
   "cell_type": "code",
   "execution_count": 3,
   "metadata": {
    "colab": {},
    "colab_type": "code",
    "id": "gZEBr04VZl6G"
   },
   "outputs": [],
   "source": [
    "gold_div = response_1.css(\"div[class='left_box material_block']\")[3]"
   ]
  },
  {
   "cell_type": "code",
   "execution_count": 4,
   "metadata": {
    "colab": {},
    "colab_type": "code",
    "id": "h6v0KHDpZl6i"
   },
   "outputs": [],
   "source": [
    "probe=[float(i) for i in gold_div.css(\".box_nm::text\").re(\"\\d+\")]\n",
    "carat=[float(i) for i in gold_div.css(\".box_pr::text\").re(\"\\d+\")]\n",
    "price=[float(i.replace(\",\",\"\").strip()) for i in gold_div.css(\".box_cng::text\").extract()]"
   ]
  },
  {
   "cell_type": "code",
   "execution_count": 5,
   "metadata": {
    "colab": {
     "base_uri": "https://localhost:8080/",
     "height": 187
    },
    "colab_type": "code",
    "id": "i9HX20FJZl6t",
    "outputId": "68c65ecf-b3be-4a7c-ccda-107425a85510"
   },
   "outputs": [
    {
     "name": "stdout",
     "output_type": "stream",
     "text": [
      "   probe  carat     price\n",
      "0  999.0   24.0  21670.28\n",
      "1  958.0   23.0  20767.35\n",
      "2  916.0   22.0  19864.42\n",
      "3  720.0   18.0  16252.71\n",
      "4  625.0   15.0  13543.93\n",
      "5  585.0   14.0  12641.00\n",
      "6  500.0   12.0  10835.14\n",
      "7  417.0   10.0   9029.28\n",
      "8  375.0    9.0   8126.36\n"
     ]
    }
   ],
   "source": [
    "data=pd.DataFrame({\"probe\":probe,\"carat\":carat,\"price\":price})\n",
    "print(data)"
   ]
  },
  {
   "cell_type": "code",
   "execution_count": 6,
   "metadata": {
    "colab": {
     "base_uri": "https://localhost:8080/",
     "height": 34
    },
    "colab_type": "code",
    "id": "k29ENpY4Zl69",
    "outputId": "dfffbaec-0475-4302-ce29-773787b32575"
   },
   "outputs": [
    {
     "name": "stdout",
     "output_type": "stream",
     "text": [
      "902.9283333333333\n"
     ]
    }
   ],
   "source": [
    "#price per carat\n",
    "print(data.price[0]/data.carat[0])"
   ]
  },
  {
   "cell_type": "code",
   "execution_count": 7,
   "metadata": {
    "colab": {
     "base_uri": "https://localhost:8080/",
     "height": 34
    },
    "colab_type": "code",
    "id": "JwaT_YKHZl7D",
    "outputId": "87dc8239-82c2-4620-f470-f5375a6e4f1b"
   },
   "outputs": [
    {
     "name": "stdout",
     "output_type": "stream",
     "text": [
      "21.69197197197197\n"
     ]
    }
   ],
   "source": [
    "#price per probe\n",
    "print(data.price[0]/data.probe[0])"
   ]
  },
  {
   "cell_type": "code",
   "execution_count": 8,
   "metadata": {
    "colab": {
     "base_uri": "https://localhost:8080/",
     "height": 34
    },
    "colab_type": "code",
    "id": "NPH2rWcfePQY",
    "outputId": "a74f3593-6313-41c6-ac70-30a8a8438b01"
   },
   "outputs": [
    {
     "name": "stdout",
     "output_type": "stream",
     "text": [
      "41.625\n"
     ]
    }
   ],
   "source": [
    "#probe per carat\n",
    "print(data.probe[0]/data.carat[0])"
   ]
  },
  {
   "cell_type": "markdown",
   "metadata": {
    "colab_type": "text",
    "id": "3Dazx3y2Zl7H"
   },
   "source": [
    "## Problem 2\n",
    "Info on administrative divisions of RA is provided on https://en.wikipedia.org/wiki/Armenia .<br>\n",
    "- **Task 1 (10 points):** scrape the names, areas and population info per region.\n",
    "- **Task 2 (5 points):** calculate the density (population per km 2 ) per region.\n",
    "- **Task 3 (5 points):** what is the average density in regions (excluding Yerevan)?.\n",
    "- **Task 4 (5 points):** what is the average population in regions (excluding Yerevan)?"
   ]
  },
  {
   "cell_type": "code",
   "execution_count": 9,
   "metadata": {
    "colab": {},
    "colab_type": "code",
    "id": "F20AgxpwZl7H"
   },
   "outputs": [
    {
     "name": "stdout",
     "output_type": "stream",
     "text": [
      "39\n"
     ]
    }
   ],
   "source": [
    "#getting all tables in list\n",
    "table_list=pd.read_html(\"https://en.wikipedia.org/wiki/Armenia\")\n",
    "print(len(table_list))"
   ]
  },
  {
   "cell_type": "code",
   "execution_count": 10,
   "metadata": {},
   "outputs": [
    {
     "name": "stdout",
     "output_type": "stream",
     "text": [
      "  Republic of ArmeniaՀայաստանի ՀանրապետությունHayastani Hanrapetut’yun (Armenian)  \\\n",
      "0                                 Flag  Coat of arms                                \n",
      "1   Anthem: Մեր ՀայրենիքMer Hayrenik\"Our Fatherland\"                                \n",
      "\n",
      "  Republic of ArmeniaՀայաստանի ՀանրապետությունHayastani Hanrapetut’yun (Armenian).1  \n",
      "0                                 Flag  Coat of arms                                 \n",
      "1   Anthem: Մեր ՀայրենիքMer Hayrenik\"Our Fatherland\"                                  \n",
      "\n",
      "\n",
      "    0                                                  1\n",
      "0 NaN  This section needs additional citations for ve... \n",
      "\n",
      "\n",
      "     Province Province.1   Capital Capital.1  Area (km²)  Population †\n",
      "0  Aragatsotn  Արագածոտն  Ashtarak   Աշտարակ        2756        132925\n",
      "1      Ararat     Արարատ  Artashat   Արտաշատ        2090        260367 \n",
      "\n",
      "\n",
      "  vte Largest cities or towns in ArmeniaArmenia 2011 census[161][162][163][164][165][166][167][168][169][170][171]  \\\n",
      "                                                                                                Unnamed: 0_level_1   \n",
      "0                                      YerevanGyumri                                                                 \n",
      "1                                      YerevanGyumri                                                                 \n",
      "\n",
      "                                                                         \\\n",
      "  Rank     Name Province       Pop. Rank.1 Name.1   Province.1   Pop..1   \n",
      "0    1  Yerevan  Yerevan  1060138.0   11.0  Gavar  Gegharkunik  20765.0   \n",
      "1    2   Gyumri   Shirak   121976.0   12.0  Goris       Syunik  20591.0   \n",
      "\n",
      "                         \n",
      "     Unnamed: 9_level_1  \n",
      "0  VanadzorVagharshapat  \n",
      "1  VanadzorVagharshapat   \n",
      "\n",
      "\n",
      "                         Articles related to Armenia  \\\n",
      "0  vteArmenia articlesHistory .mw-parser-output ....   \n",
      "1                                vteArmenia articles   \n",
      "\n",
      "                       Articles related to Armenia.1           Unnamed: 2  \\\n",
      "0  vteArmenia articlesHistory .mw-parser-output ....                  NaN   \n",
      "1                                vteArmenia articles  vteArmenia articles   \n",
      "\n",
      "  Unnamed: 3 Unnamed: 4 Unnamed: 5  Unnamed: 6  \n",
      "0        NaN        NaN        NaN         NaN  \n",
      "1        NaN        NaN        NaN         NaN   \n",
      "\n",
      "\n",
      "                                 vteArmenia articles  \\\n",
      "0  History .mw-parser-output .nobold{font-weight:...   \n",
      "1                                              Early   \n",
      "\n",
      "                               vteArmenia articles.1 vteArmenia articles.2  \n",
      "0  Early Origins Name Kura–Araxes culture Hayk Ha...                   NaN  \n",
      "1  Origins Name Kura–Araxes culture Hayk Hayasa-A...                   NaN   \n",
      "\n",
      "\n",
      "        0                                                  1\n",
      "0   Early  Origins Name Kura–Araxes culture Hayk Hayasa-A...\n",
      "1  Middle  Arminiya Sajids Bagratuni Armenia Armenian Kin... \n",
      "\n",
      "\n",
      "                                                   0  \\\n",
      "0  Ararat Plain Armenian Highlands Cities Earthqu...   \n",
      "\n",
      "                                                   1  \n",
      "0  Ararat Plain Armenian Highlands Cities Earthqu...   \n",
      "\n",
      "\n",
      "                                                   0  \\\n",
      "0  Administrative divisions Constitution Corrupti...   \n",
      "\n",
      "                                                   1  \n",
      "0  Administrative divisions Constitution Corrupti...   \n",
      "\n",
      "\n",
      "                                                   0  \\\n",
      "0  Agriculture Armex (stock exchange) Central Ban...   \n",
      "\n",
      "                                                   1  \n",
      "0  Agriculture Armex (stock exchange) Central Ban...   \n",
      "\n",
      "\n",
      "                                                   0  \\\n",
      "0  Alphabet Architecture Art Cinema Cuisine Dance...   \n",
      "1                                       Demographics   \n",
      "\n",
      "                                                   1  \n",
      "0  Alphabet Architecture Art Cinema Cuisine Dance...  \n",
      "1  Census Crime Education Ethnic minorities Healt...   \n",
      "\n",
      "\n",
      "  vteArmenian nationalism                          vteArmenian nationalism.1\n",
      "0                Ideology  United Armenia Armenian national awakening Tse...\n",
      "1           Organizations  Active political parties Armenian Democratic L... \n",
      "\n",
      "\n",
      "    vteProvinces of Armenia  \\\n",
      "0        Provinces (մարզեր)   \n",
      "1  City with special status   \n",
      "\n",
      "                           vteProvinces of Armenia.1  \\\n",
      "0  Aragatsotn Ararat Armavir Gegharkunik Kotayk L...   \n",
      "1                                  Yerevan (capital)   \n",
      "\n",
      "   vteProvinces of Armenia.2  \n",
      "0                        NaN  \n",
      "1                        NaN   \n",
      "\n",
      "\n",
      "  vteCities and towns in Armenia vteCities and towns in Armenia.1  \\\n",
      "0                     Aragatsotn            Ashtarak Aparan Talin   \n",
      "1                         Ararat       Artashat Ararat Masis Vedi   \n",
      "\n",
      "   vteCities and towns in Armenia.2  \n",
      "0                               NaN  \n",
      "1                               NaN   \n",
      "\n",
      "\n",
      "                  vteWorld Heritage Sites in Armenia  \\\n",
      "0  Monasteries of Haghpat and Sanahin Monastery o...   \n",
      "\n",
      "                vteWorld Heritage Sites in Armenia.1  \\\n",
      "0  Monasteries of Haghpat and Sanahin Monastery o...   \n",
      "\n",
      "   vteWorld Heritage Sites in Armenia.2  \n",
      "0                                   NaN   \n",
      "\n",
      "\n",
      "                                   Geographic locale  \\\n",
      "0  vteCountries and regions of the Caucasus Abkha...   \n",
      "1           vteCountries and regions of the Caucasus   \n",
      "\n",
      "                                 Geographic locale.1 Unnamed: 2 Unnamed: 3  \\\n",
      "0  vteCountries and regions of the Caucasus Abkha...        NaN        NaN   \n",
      "1           vteCountries and regions of the Caucasus        NaN        NaN   \n",
      "\n",
      "  Unnamed: 4 Unnamed: 5  Unnamed: 6  \n",
      "0        NaN        NaN         NaN  \n",
      "1        NaN        NaN         NaN   \n",
      "\n",
      "\n",
      "            vteCountries and regions of the Caucasus  \\\n",
      "0  Abkhazia1 Adjara Adygea Armenia Artsakh1  Azer...   \n",
      "1                                                NaN   \n",
      "\n",
      "          vteCountries and regions of the Caucasus.1  \\\n",
      "0  Abkhazia1 Adjara Adygea Armenia Artsakh1  Azer...   \n",
      "1                                                NaN   \n",
      "\n",
      "                                 Unnamed: 2  \\\n",
      "0                                       NaN   \n",
      "1  Abkhazia1 Adjara Adygea Armenia Artsakh1   \n",
      "\n",
      "                             Unnamed: 3  \\\n",
      "0                                   NaN   \n",
      "1  Azerbaijan Chechnya Dagestan Georgia   \n",
      "\n",
      "                                          Unnamed: 4  \\\n",
      "0                                                NaN   \n",
      "1  Ingushetia Kabardino-Balkaria Kalmykia Karacha...   \n",
      "\n",
      "                                          Unnamed: 5  Unnamed: 6  \n",
      "0                                                NaN         NaN  \n",
      "1  Nakhchivan North Ossetia – Alania South Osseti...         NaN   \n",
      "\n",
      "\n",
      "    0   1                                         2  \\\n",
      "0 NaN NaN  Abkhazia1 Adjara Adygea Armenia Artsakh1   \n",
      "\n",
      "                                      3  \\\n",
      "0  Azerbaijan Chechnya Dagestan Georgia   \n",
      "\n",
      "                                                   4  \\\n",
      "0  Ingushetia Kabardino-Balkaria Kalmykia Karacha...   \n",
      "\n",
      "                                                   5   6  \n",
      "0  Nakhchivan North Ossetia – Alania South Osseti... NaN   \n",
      "\n",
      "\n",
      "  vteSovereign states and dependencies of Europe  \\\n",
      "0                               Sovereign states   \n",
      "1                 States with limitedrecognition   \n",
      "\n",
      "    vteSovereign states and dependencies of Europe.1  \\\n",
      "0  Albania Andorra Armenia2 Austria Azerbaijan Be...   \n",
      "1  Abkhazia Artsakh2 Kosovo Northern Cyprus2 Sout...   \n",
      "\n",
      "  vteSovereign states and dependencies of Europe.2  \n",
      "0                                              NaN  \n",
      "1                                              NaN   \n",
      "\n",
      "\n",
      "                0                                                  1\n",
      "0         Denmark  Faroe Islands1 autonomous country of the Kingd...\n",
      "1  United Kingdom  Akrotiri and Dhekelia2 Sovereign Base Areas Gi... \n",
      "\n",
      "\n",
      "         0                                                  1\n",
      "0  Finland  Åland Islands autonomous region subject to the...\n",
      "1   Norway  Svalbard unincorporated area subject to the Sv... \n",
      "\n",
      "\n",
      "                            International membership  \\\n",
      "0  vteInternational organizations with Armenia as...   \n",
      "1  vteInternational organizations with Armenia as...   \n",
      "\n",
      "                          International membership.1 Unnamed: 2 Unnamed: 3  \\\n",
      "0  vteInternational organizations with Armenia as...        NaN        NaN   \n",
      "1  vteInternational organizations with Armenia as...        NaN        NaN   \n",
      "\n",
      "  Unnamed: 4  \n",
      "0        NaN  \n",
      "1        NaN   \n",
      "\n",
      "\n",
      "  vteInternational organizations with Armenia as member  \\\n",
      "0  ADB BSEC CE CIS CSTO EAPC EBRD ECE EAEC UNESCA...      \n",
      "1                  Italics indicates observer status      \n",
      "\n",
      "  vteInternational organizations with Armenia as member.1  \n",
      "0  ADB BSEC CE CIS CSTO EAPC EBRD ECE EAEC UNESCA...       \n",
      "1                  Italics indicates observer status        \n",
      "\n",
      "\n",
      "  vteCouncil of Europe                             vteCouncil of Europe.1  \\\n",
      "0         Institutions  Secretary General Committee of Ministers Parli...   \n",
      "1              Members  Albania Andorra Armenia Austria Azerbaijan Bel...   \n",
      "\n",
      "   vteCouncil of Europe.2  \n",
      "0                     NaN  \n",
      "1                     NaN   \n",
      "\n",
      "\n",
      "         vteCommonwealth of Independent States (CIS)  \\\n",
      "0  Customs Union of Belarus, Kazakhstan, and Russ...   \n",
      "1                                         Membership   \n",
      "\n",
      "       vteCommonwealth of Independent States (CIS).1  \\\n",
      "0  Customs Union of Belarus, Kazakhstan, and Russ...   \n",
      "1  Members Armenia Azerbaijan Belarus Kazakhstan ...   \n",
      "\n",
      "       vteCommonwealth of Independent States (CIS).2  \n",
      "0  Customs Union of Belarus, Kazakhstan, and Russ...  \n",
      "1                                                NaN   \n",
      "\n",
      "\n",
      "                  0                                                  1\n",
      "0           Members  Armenia Azerbaijan Belarus Kazakhstan Kyrgyzst...\n",
      "1  Associate member                                       Turkmenistan \n",
      "\n",
      "\n",
      "  vteEurasian Economic Union                  vteEurasian Economic Union.1  \\\n",
      "0              Member states  Armenia Belarus Kazakhstan Kyrgyzstan Russia   \n",
      "1           Observer members                                       Moldova   \n",
      "\n",
      "   vteEurasian Economic Union.2  \n",
      "0                           NaN  \n",
      "1                           NaN   \n",
      "\n",
      "\n",
      "  vteLa Francophonie                               vteLa Francophonie.1  \\\n",
      "0         Membership  Members Albania Andorra Armenia Belgium French...   \n",
      "1            Members  Albania Andorra Armenia Belgium French Communi...   \n",
      "\n",
      "  Unnamed: 2  \n",
      "0        NaN  \n",
      "1        NaN   \n",
      "\n",
      "\n",
      "           0                                                  1    2\n",
      "0    Members  Albania Andorra Armenia Belgium French Communi...  NaN\n",
      "1  Observers  Argentina Austria Bosnia and Herzegovina Croat...  NaN \n",
      "\n",
      "\n",
      "  vteOrganization of the Black Sea Economic Cooperation (BSEC)  \\\n",
      "0  Albania  Armenia  Azerbaijan  Bulgaria  Georgi...             \n",
      "1                                                NaN             \n",
      "\n",
      "  vteOrganization of the Black Sea Economic Cooperation (BSEC).1  \\\n",
      "0  Albania  Armenia  Azerbaijan  Bulgaria  Georgi...               \n",
      "1                       Albania  Armenia  Azerbaijan               \n",
      "\n",
      "                  Unnamed: 2                Unnamed: 3  \\\n",
      "0                        NaN                       NaN   \n",
      "1  Bulgaria  Georgia  Greece  Moldova  Romania  Russia   \n",
      "\n",
      "                Unnamed: 4  \n",
      "0                      NaN  \n",
      "1  Serbia  Turkey  Ukraine   \n",
      "\n",
      "\n",
      "    0                             1                          2  \\\n",
      "0 NaN  Albania  Armenia  Azerbaijan  Bulgaria  Georgia  Greece   \n",
      "\n",
      "                          3                        4  \n",
      "0  Moldova  Romania  Russia  Serbia  Turkey  Ukraine   \n",
      "\n",
      "\n",
      "  vteWorld Trade Organization  \\\n",
      "0                      System   \n",
      "1                      Issues   \n",
      "\n",
      "                       vteWorld Trade Organization.1  \n",
      "0  Accession and membership Appellate Body Disput...  \n",
      "1  Criticism Doha Development Round Singapore iss...   \n",
      "\n",
      "\n",
      "                0                                                  1\n",
      "0  European Union  Austria Belgium Bulgaria Croatia Cyprus Czech ... \n",
      "\n",
      "\n",
      "                        vteNational personifications  \\\n",
      "0  Albania Mother Albania Argentina Effigies of A...   \n",
      "1                           Other symbols of Liberty   \n",
      "\n",
      "                      vteNational personifications.1  \n",
      "0  Albania Mother Albania Argentina Effigies of A...  \n",
      "1                           Other symbols of Liberty   \n",
      "\n",
      "\n",
      "                  vteStates with limited recognition  \\\n",
      "0  Details concerning international recognition a...   \n",
      "1                                   UN member states   \n",
      "\n",
      "                vteStates with limited recognition.1  \n",
      "0  Details concerning international recognition a...  \n",
      "1  Partially unrecognised Armenia relations China...   \n",
      "\n",
      "\n",
      "                        0                                                  1\n",
      "0  Partially unrecognised  Armenia relations China relations Cyprus relat... \n",
      "\n",
      "\n",
      "                        0                                1\n",
      "0  Partially unrecognised  Palestine recognition relations \n",
      "\n",
      "\n",
      "                                     0  \\\n",
      "0  Recognised by at leastone UN member   \n",
      "1     Recognised only bynon-UN members   \n",
      "\n",
      "                                                   1  \n",
      "0  Abkhazia recognition relations Kosovo recognit...  \n",
      "1  Artsakh recognition relations Transnistria rec...   \n",
      "\n",
      "\n",
      "                   0                                                  1\n",
      "0  Authority control  GND: 4085931-9 HDS: 25005 LCCN: n92057129 Musi... \n",
      "\n",
      "\n"
     ]
    }
   ],
   "source": [
    "## to identify which one is the wanted list let's use for loop\n",
    "for i in table_list:\n",
    "    print(i.head(2),\"\\n\\n\")"
   ]
  },
  {
   "cell_type": "code",
   "execution_count": 11,
   "metadata": {
    "colab": {},
    "colab_type": "code",
    "id": "FH4g7p5CZl7K"
   },
   "outputs": [
    {
     "name": "stdout",
     "output_type": "stream",
     "text": [
      "      Province   Province.1   Capital Capital.1  Area (km²)  Population †\n",
      "0   Aragatsotn    Արագածոտն  Ashtarak   Աշտարակ        2756        132925\n",
      "1       Ararat       Արարատ  Artashat   Արտաշատ        2090        260367\n",
      "2      Armavir      Արմավիր   Armavir   Արմավիր        1242        265770\n",
      "3  Gegharkunik  Գեղարքունիք     Gavar     Գավառ        5349        235075\n",
      "4       Kotayk       Կոտայք   Hrazdan   Հրազդան        2086        254397\n"
     ]
    }
   ],
   "source": [
    "## the one we are looking for is the 3th one\n",
    "table=table_list[2]\n",
    "print(table.head())"
   ]
  },
  {
   "cell_type": "code",
   "execution_count": 12,
   "metadata": {
    "colab": {},
    "colab_type": "code",
    "id": "wwO2TbvUZl7O"
   },
   "outputs": [
    {
     "name": "stdout",
     "output_type": "stream",
     "text": [
      "      Province   Province.1   Capital Capital.1  Area (km²)  Population †  \\\n",
      "0   Aragatsotn    Արագածոտն  Ashtarak   Աշտարակ        2756        132925   \n",
      "1       Ararat       Արարատ  Artashat   Արտաշատ        2090        260367   \n",
      "2      Armavir      Արմավիր   Armavir   Արմավիր        1242        265770   \n",
      "3  Gegharkunik  Գեղարքունիք     Gavar     Գավառ        5349        235075   \n",
      "4       Kotayk       Կոտայք   Hrazdan   Հրազդան        2086        254397   \n",
      "\n",
      "   density_calc  \n",
      "0     48.231132  \n",
      "1    124.577512  \n",
      "2    213.985507  \n",
      "3     43.947467  \n",
      "4    121.954458  \n"
     ]
    }
   ],
   "source": [
    "# the density (population per km 2 ) per region.\n",
    "table[\"density_calc\"]=table['Population †']/table['Area (km²)'] ##creating new column\n",
    "print(table.head())"
   ]
  },
  {
   "cell_type": "code",
   "execution_count": 13,
   "metadata": {
    "colab": {},
    "colab_type": "code",
    "id": "hKSMwk7hZl7Q",
    "outputId": "98359c1c-7da7-4d74-fb9b-fde7b680ae58"
   },
   "outputs": [
    {
     "name": "stdout",
     "output_type": "stream",
     "text": [
      "81.03995759369994\n"
     ]
    }
   ],
   "source": [
    "#the average density in regions (excluding Yerevan).\n",
    "print(table[table.Province!=\"Yerevan\"][\"density_calc\"].mean())"
   ]
  },
  {
   "cell_type": "code",
   "execution_count": 14,
   "metadata": {},
   "outputs": [
    {
     "name": "stdout",
     "output_type": "stream",
     "text": [
      "195871.6\n"
     ]
    }
   ],
   "source": [
    "#the average population in regions (excluding Yerevan).\n",
    "print(table[table.Province!=\"Yerevan\"][\"Population †\"].mean())"
   ]
  },
  {
   "cell_type": "markdown",
   "metadata": {
    "colab_type": "text",
    "id": "lrbPOoVxZl7T"
   },
   "source": [
    "## Problem 3\n",
    "The list of top economists is provided on https://ideas.repec.org/top/top.person.all.html .<br>\n",
    "- **Task 1 (10 points):** scrape the rankings (at least author name and score).<br>\n",
    "- **Task 2 (5 points):** what is the median score for all economists in the list?<br>\n",
    "- **Task 3 (5 points):** how many economists have a score lower than the average?<br>\n",
    "- **Task 4 (5 points):** what is the score for Ian Peter Preston?"
   ]
  },
  {
   "cell_type": "code",
   "execution_count": 15,
   "metadata": {
    "colab": {},
    "colab_type": "code",
    "id": "6hL26ftnZl7U"
   },
   "outputs": [],
   "source": [
    "## as the data is in the table we can use pandas\n",
    "url='https://ideas.repec.org/top/top.person.all.html'\n",
    "list_of_tables=pd.read_html(url)"
   ]
  },
  {
   "cell_type": "code",
   "execution_count": 16,
   "metadata": {
    "colab": {},
    "colab_type": "code",
    "id": "rrBcD0hSZl7X",
    "outputId": "225e89cf-b1fe-48e2-cfa5-ddaba9b023cb"
   },
   "outputs": [
    {
     "name": "stdout",
     "output_type": "stream",
     "text": [
      "Table:  0\n",
      "        0             1             2              3              4   \\\n",
      "0   Entity  Full ranking  Full ranking  Last 10 years  Last 10 years   \n",
      "1  Authors         Short       Details          Short        Details   \n",
      "\n",
      "                5                6                               7   \\\n",
      "0  10 best authors  10 best authors  Last 10 years, 10 best authors   \n",
      "1              NaN              NaN                             NaN   \n",
      "\n",
      "                               8               9               10    11  \n",
      "0  Last 10 years, 10 best authors  Top 5% authors  Top 5% authors  More  \n",
      "1                             NaN             NaN             NaN  More   \n",
      "\n",
      "\n",
      "Table:  1\n",
      "   Rank                                             Author  Score\n",
      "0     1  Andrei Shleifer Department of Economics, Harva...   3.38\n",
      "1     2  James J. Heckman Department of Economics, Univ...   4.11 \n",
      "\n",
      "\n"
     ]
    }
   ],
   "source": [
    "## to identify which one is the wanted list let's use for loop\n",
    "for i in range(len(list_of_tables)):\n",
    "    print(\"Table: \",i)\n",
    "    print(list_of_tables[i].head(2),\"\\n\\n\")"
   ]
  },
  {
   "cell_type": "code",
   "execution_count": 17,
   "metadata": {
    "colab": {},
    "colab_type": "code",
    "id": "xW3eyoSfZl7Z"
   },
   "outputs": [
    {
     "name": "stdout",
     "output_type": "stream",
     "text": [
      "   Rank                                             Author  Score\n",
      "0     1  Andrei Shleifer Department of Economics, Harva...   3.38\n",
      "1     2  James J. Heckman Department of Economics, Univ...   4.11\n",
      "2     3  Daron Acemoglu Economics Department, Massachus...   5.22\n",
      "3     4  Joseph E. Stiglitz Finance and Economics Depar...   5.89\n",
      "4     5  Robert J. Barro Department of Economics, Harva...   6.11\n"
     ]
    }
   ],
   "source": [
    "## the table we want is the second in the list\n",
    "data=list_of_tables[1]\n",
    "print(data.head())"
   ]
  },
  {
   "cell_type": "code",
   "execution_count": 18,
   "metadata": {
    "colab": {},
    "colab_type": "code",
    "id": "tcb77LqYZl7e",
    "outputId": "ba8962a9-27ab-4269-b194-4d3a7d96d960"
   },
   "outputs": [
    {
     "name": "stdout",
     "output_type": "stream",
     "text": [
      "1503.4099999999999\n"
     ]
    }
   ],
   "source": [
    "#the median score for all economists in the list?\n",
    "print(data.Score.median())"
   ]
  },
  {
   "cell_type": "code",
   "execution_count": 19,
   "metadata": {
    "colab": {},
    "colab_type": "code",
    "id": "GUXzjTRyZl7h",
    "outputId": "9c13d59a-5bb3-4915-c859-f786f6553ba8"
   },
   "outputs": [
    {
     "name": "stdout",
     "output_type": "stream",
     "text": [
      "(1397, 3)\n"
     ]
    }
   ],
   "source": [
    "#Number of economists that have a score lower than the average\n",
    "print(data[data.Score<data.Score.mean()].shape) \n",
    "#there are 1397"
   ]
  },
  {
   "cell_type": "code",
   "execution_count": 20,
   "metadata": {
    "colab": {},
    "colab_type": "code",
    "id": "wxZ3evIXZl7j",
    "outputId": "87913559-e98e-4ccf-ee11-80d269a61585"
   },
   "outputs": [
    {
     "name": "stdout",
     "output_type": "stream",
     "text": [
      "1368    1456.93\n",
      "Name: Score, dtype: float64\n"
     ]
    }
   ],
   "source": [
    "#the score for Ian Peter Preston\n",
    "print(data[data.Author.str.contains(\"Peter Preston\")][\"Score\"])"
   ]
  },
  {
   "cell_type": "markdown",
   "metadata": {},
   "source": [
    "## Problem 4\n",
    "The list of drinkings is provided on https://buy.am/en/food-court/fresh-coffee-tea-ice-cream/\n",
    "- **Task 1 (10 points):** scrape all prices and product names<br>\n",
    "- **Task 2 (5 points):** calculate average price of products that have \"Fresh\" inside, then the same for \"Smoothie\" and \"Cappuccino\"\n",
    "- **Task 3 (10 points):** get top 10 most frequent words in product names then remove general category names if they appear in top 10 afterwards plot top 40 most frequent words."
   ]
  },
  {
   "cell_type": "code",
   "execution_count": 21,
   "metadata": {},
   "outputs": [],
   "source": [
    "# after inspecting the website it is clear that we need selenium for this task\n",
    "url=\"https://buy.am/en/food-court/fresh-coffee-tea-ice-cream/\"\n",
    "browser=webdriver.Chrome()\n",
    "browser.get(url)"
   ]
  },
  {
   "cell_type": "code",
   "execution_count": 22,
   "metadata": {},
   "outputs": [
    {
     "name": "stdout",
     "output_type": "stream",
     "text": [
      "655262\n",
      "957716\n",
      "1239981\n",
      "1278569\n",
      "1347121\n",
      "1447286\n",
      "1510414\n",
      "1580397\n",
      "1625241\n",
      "1811434\n",
      "1819602\n",
      "1819602\n"
     ]
    }
   ],
   "source": [
    "while True:\n",
    "    old_length = len(browser.page_source)\n",
    "    some_element = browser.find_element_by_tag_name(\"html\")\n",
    "    time.sleep(5)\n",
    "    some_element.send_keys(Keys.END)\n",
    "    time.sleep(5)\n",
    "    new_length = len(browser.page_source)\n",
    "    print(new_length)\n",
    "    if new_length==old_length:\n",
    "        break"
   ]
  },
  {
   "cell_type": "code",
   "execution_count": 23,
   "metadata": {},
   "outputs": [],
   "source": [
    "names=[i.text for i in browser.find_elements_by_class_name(\"product--title\")]"
   ]
  },
  {
   "cell_type": "code",
   "execution_count": 24,
   "metadata": {},
   "outputs": [
    {
     "name": "stdout",
     "output_type": "stream",
     "text": [
      "296\n",
      "['Smoothie Orange N24', 'Smoothie Grapefruit N25', 'Smoothie Lemon N26', 'Smoothie Lime N27']\n"
     ]
    }
   ],
   "source": [
    "#checking length\n",
    "print(len(names))\n",
    "print(names[:4])"
   ]
  },
  {
   "cell_type": "code",
   "execution_count": 25,
   "metadata": {},
   "outputs": [],
   "source": [
    "## note the following part you can do part by part. we just clean and get only numbers by float format.\n",
    "prices=[float(re.findall(\"\\d+\",i.text.replace(\",\",\"\"))[0]) for i in browser.find_elements_by_class_name(\"product--price\")]"
   ]
  },
  {
   "cell_type": "code",
   "execution_count": 26,
   "metadata": {},
   "outputs": [
    {
     "name": "stdout",
     "output_type": "stream",
     "text": [
      "296\n",
      "[700.0, 750.0, 600.0, 1100.0]\n"
     ]
    }
   ],
   "source": [
    "#checking length\n",
    "print(len(prices))\n",
    "print(prices[:4])"
   ]
  },
  {
   "cell_type": "code",
   "execution_count": 27,
   "metadata": {},
   "outputs": [
    {
     "name": "stdout",
     "output_type": "stream",
     "text": [
      "              Product_name   Price\n",
      "0      Smoothie Orange N24   700.0\n",
      "1  Smoothie Grapefruit N25   750.0\n",
      "2       Smoothie Lemon N26   600.0\n",
      "3        Smoothie Lime N27  1100.0\n",
      "4        Smoothie Kiwi N28   800.0\n"
     ]
    }
   ],
   "source": [
    "##making dataframe\n",
    "data=pd.DataFrame({\"Product_name\":names,\"Price\":prices})\n",
    "print(data.head())"
   ]
  },
  {
   "cell_type": "code",
   "execution_count": 28,
   "metadata": {},
   "outputs": [
    {
     "name": "stdout",
     "output_type": "stream",
     "text": [
      "1850.0\n"
     ]
    }
   ],
   "source": [
    "# the average price of products that have \"Fresh\" inside\n",
    "\n",
    "print(data[data[\"Product_name\"].str.contains(\"Fresh\")][\"Price\"].mean())"
   ]
  },
  {
   "cell_type": "code",
   "execution_count": 29,
   "metadata": {},
   "outputs": [
    {
     "name": "stdout",
     "output_type": "stream",
     "text": [
      "1239.344262295082\n"
     ]
    }
   ],
   "source": [
    "# the average price of products that have \"Smoothie\" inside\n",
    "print(data[data[\"Product_name\"].str.contains(\"Smoothie\")][\"Price\"].mean())"
   ]
  },
  {
   "cell_type": "code",
   "execution_count": 30,
   "metadata": {},
   "outputs": [
    {
     "name": "stdout",
     "output_type": "stream",
     "text": [
      "2170.8333333333335\n"
     ]
    }
   ],
   "source": [
    "# the average price of products that have \"Cappuccino\" inside\n",
    "print(data[data[\"Product_name\"].str.contains(\"Cappuccino\")][\"Price\"].mean())"
   ]
  },
  {
   "cell_type": "markdown",
   "metadata": {},
   "source": [
    "There are several approaches to solve the last task."
   ]
  },
  {
   "cell_type": "code",
   "execution_count": 31,
   "metadata": {},
   "outputs": [
    {
     "name": "stdout",
     "output_type": "stream",
     "text": [
      "[WordList(['Smoothie', 'Orange', 'N24']), WordList(['Smoothie', 'Grapefruit', 'N25']), WordList(['Smoothie', 'Lemon', 'N26']), WordList(['Smoothie', 'Lime', 'N27']), WordList(['Smoothie', 'Kiwi', 'N28'])]\n"
     ]
    }
   ],
   "source": [
    "names=[TextBlob(i).words for i in names]\n",
    "print(names[:5])"
   ]
  },
  {
   "cell_type": "code",
   "execution_count": 32,
   "metadata": {},
   "outputs": [],
   "source": [
    "##we need all words to be inside one list so we use itertools\n",
    "merged = list(itertools.chain(*names)) "
   ]
  },
  {
   "cell_type": "code",
   "execution_count": 33,
   "metadata": {},
   "outputs": [
    {
     "name": "stdout",
     "output_type": "stream",
     "text": [
      "[('Smoothie', 61), ('tea', 37), ('Coffee', 29), ('0.5', 28), ('l', 28), ('Ice', 27), ('«', 26), ('»', 26), ('Americano', 25), ('Espresso', 24)]\n"
     ]
    }
   ],
   "source": [
    "freq_dict=nltk.FreqDist(merged)\n",
    "print(freq_dict.most_common()[:10])"
   ]
  },
  {
   "cell_type": "code",
   "execution_count": 35,
   "metadata": {},
   "outputs": [],
   "source": [
    "##creating list containing most common words\n",
    "most_common=[]\n",
    "for i in freq_dict.most_common()[:10]:\n",
    "    most_common.append(i[0])"
   ]
  },
  {
   "cell_type": "code",
   "execution_count": 36,
   "metadata": {},
   "outputs": [],
   "source": [
    " ##removing top 10 frequent words\n",
    "words=[i.lower() for i in merged if  i not in most_common and len(i)>2]"
   ]
  },
  {
   "cell_type": "code",
   "execution_count": 38,
   "metadata": {},
   "outputs": [
    {
     "data": {
      "image/png": "[encoded data removed]",
      "text/plain": [
       "<Figure size 432x288 with 1 Axes>"
      ]
     },
     "metadata": {
      "needs_background": "light"
     },
     "output_type": "display_data"
    }
   ],
   "source": [
    "##plotting most top 40 words after cleaning top 10\n",
    "nltk.FreqDist(words).plot(40)"
   ]
  },
  {
   "cell_type": "code",
   "execution_count": null,
   "metadata": {},
   "outputs": [],
   "source": []
  }
 ],
 "metadata": {
  "colab": {
   "collapsed_sections": [],
   "name": "Solution.ipynb",
   "provenance": [],
   "version": "0.3.2"
  },
  "kernelspec": {
   "display_name": "Python 3",
   "language": "python",
   "name": "python3"
  },
  "language_info": {
   "codemirror_mode": {
    "name": "ipython",
    "version": 3
   },
   "file_extension": ".py",
   "mimetype": "text/x-python",
   "name": "python",
   "nbconvert_exporter": "python",
   "pygments_lexer": "ipython3",
   "version": "3.7.3"
  }
 },
 "nbformat": 4,
 "nbformat_minor": 1
}
