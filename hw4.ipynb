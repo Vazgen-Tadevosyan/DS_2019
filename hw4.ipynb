{
 "cells": [
  {
   "cell_type": "markdown",
   "metadata": {},
   "source": [
    "## 1) Using Genius Api search for your favorite 3 artists.\n",
    "- a) Get 5 most popular songs’ lyrics for each of them. ( max_songs = 5)\n",
    "- b) Make dataframe with columns “Artist”,”Song”,”Lyrics”,”Year”,”Sentiment_Score”\n",
    "- c) What are the most positive and negative songs?"
   ]
  },
  {
   "cell_type": "code",
   "execution_count": 11,
   "metadata": {},
   "outputs": [],
   "source": [
    "import lyricsgenius\n",
    "import pandas as pd\n",
    "from textblob import TextBlob, Word\n",
    "from nltk.corpus import stopwords\n",
    "import nltk"
   ]
  },
  {
   "cell_type": "code",
   "execution_count": 2,
   "metadata": {},
   "outputs": [],
   "source": [
    "genius = lyricsgenius.Genius(\"LfYIzAwdChpiPRu3sS1WV0-sp9z_PMEKpVwEAqaqGt-F0esBzHA95IFB_hGU6h2l\")"
   ]
  },
  {
   "cell_type": "code",
   "execution_count": 3,
   "metadata": {},
   "outputs": [
    {
     "name": "stdout",
     "output_type": "stream",
     "text": [
      "Searching for songs by Eminem...\n",
      "\n",
      "Song 1: \"Rap God\"\n",
      "Song 2: \"Killshot\"\n",
      "Song 3: \"The Monster\"\n",
      "Song 4: \"Lose Yourself\"\n",
      "Song 5: \"Lucky You\"\n",
      "\n",
      "Reached user-specified song limit (5).\n",
      "Done. Found 5 songs.\n",
      "Searching for songs by Leonard Cohen...\n",
      "\n",
      "Song 1: \"Hallelujah\"\n",
      "Song 2: \"You Want It Darker\"\n",
      "Song 3: \"Chelsea Hotel No. 2\"\n",
      "Song 4: \"Suzanne\"\n",
      "Song 5: \"Dance Me to the End of Love\"\n",
      "\n",
      "Reached user-specified song limit (5).\n",
      "Done. Found 5 songs.\n",
      "Searching for songs by Lana Del Rey...\n",
      "\n",
      "Song 1: \"Young and Beautiful\"\n",
      "Song 2: \"Love\"\n",
      "Song 3: \"Lust for Life\"\n",
      "Song 4: \"Summertime Sadness\"\n",
      "Song 5: \"High By The Beach\"\n",
      "\n",
      "Reached user-specified song limit (5).\n",
      "Done. Found 5 songs.\n"
     ]
    }
   ],
   "source": [
    "artists=[\"Eminem\",\"Leonard Cohen\",\"Lana Del Rey\"]\n",
    "data = []\n",
    "for artist in artists:\n",
    "    artist = genius.search_artist(artist, max_songs=5, sort=\"popularity\")\n",
    "    for song in artist.songs:\n",
    "        data.append([artist.name, song.title, song.year,song.lyrics,TextBlob(song.lyrics).sentiment[0]])"
   ]
  },
  {
   "cell_type": "code",
   "execution_count": 4,
   "metadata": {},
   "outputs": [
    {
     "name": "stdout",
     "output_type": "stream",
     "text": [
      "   Artist           Song        Year  \\\n",
      "0  Eminem        Rap God  2013-10-15   \n",
      "1  Eminem       Killshot  2018-09-14   \n",
      "2  Eminem    The Monster  2013-10-29   \n",
      "3  Eminem  Lose Yourself  2002-10-28   \n",
      "4  Eminem      Lucky You  2018-08-31   \n",
      "\n",
      "                                              Lyrics  Sentiment_Score  \n",
      "0  [Intro]\\n\"Look, I was gonna go easy on you not...        -0.041437  \n",
      "1  [Intro]\\nYou sound like a bitch, bitch\\nShut t...        -0.012575  \n",
      "2  [Intro: Rihanna]\\nI'm friends with the monster...        -0.122021  \n",
      "3  [Intro]\\nLook, if you had one shot, or one opp...         0.153954  \n",
      "4  [Intro: Joyner Lucas]\\nWhoa, Joyner, Joyner, y...        -0.081981  \n"
     ]
    }
   ],
   "source": [
    "df = pd.DataFrame(data=data, columns=['Artist', 'Song','Year', 'Lyrics',  'Sentiment_Score'])\n",
    "print(df.head())"
   ]
  },
  {
   "cell_type": "code",
   "execution_count": 5,
   "metadata": {},
   "outputs": [
    {
     "name": "stdout",
     "output_type": "stream",
     "text": [
      "           Artist                Song        Year  \\\n",
      "6   Leonard Cohen  You Want It Darker  2016-09-21   \n",
      "2          Eminem         The Monster  2013-10-29   \n",
      "11   Lana Del Rey                Love  2017-02-18   \n",
      "4          Eminem           Lucky You  2018-08-31   \n",
      "0          Eminem             Rap God  2013-10-15   \n",
      "\n",
      "                                               Lyrics  Sentiment_Score  \n",
      "6   [Verse 1: Leonard Cohen]\\nIf you are the deale...        -0.122619  \n",
      "2   [Intro: Rihanna]\\nI'm friends with the monster...        -0.122021  \n",
      "11  [Verse 1]\\nLook at you, kids, with your vintag...        -0.105250  \n",
      "4   [Intro: Joyner Lucas]\\nWhoa, Joyner, Joyner, y...        -0.081981  \n",
      "0   [Intro]\\n\"Look, I was gonna go easy on you not...        -0.041437  \n"
     ]
    }
   ],
   "source": [
    "print(df.sort_values(by='Sentiment_Score').head()) ## negative songs"
   ]
  },
  {
   "cell_type": "code",
   "execution_count": 6,
   "metadata": {},
   "outputs": [
    {
     "name": "stdout",
     "output_type": "stream",
     "text": [
      "           Artist                         Song        Year  \\\n",
      "10   Lana Del Rey          Young and Beautiful  2013-04-22   \n",
      "9   Leonard Cohen  Dance Me to the End of Love  1984-12-11   \n",
      "7   Leonard Cohen          Chelsea Hotel No. 2  1974-08-11   \n",
      "12   Lana Del Rey                Lust for Life  2017-04-19   \n",
      "3          Eminem                Lose Yourself  2002-10-28   \n",
      "\n",
      "                                               Lyrics  Sentiment_Score  \n",
      "10  [Verse 1]\\nI've seen the world, done it all\\nH...         0.461212  \n",
      "9   [Instrumental Intro]\\n\\nDance me to your beaut...         0.333421  \n",
      "7   I remember you well in the Chelsea Hotel\\nYou ...         0.255276  \n",
      "12  [Verse 1: Lana Del Rey]\\nClimb up the H of the...         0.167784  \n",
      "3   [Intro]\\nLook, if you had one shot, or one opp...         0.153954  \n"
     ]
    }
   ],
   "source": [
    "print(df.sort_values(by='Sentiment_Score', ascending=False).head())## positive songs"
   ]
  },
  {
   "cell_type": "markdown",
   "metadata": {},
   "source": [
    "## 2) Using Wikipedia api\n",
    "- a) Get summary of wikipedia pages of the 3 artists above in russian (set language to\n",
    "russian) .\n",
    "- b) What are the most common words in summary for each of them?"
   ]
  },
  {
   "cell_type": "code",
   "execution_count": 7,
   "metadata": {},
   "outputs": [],
   "source": [
    "import wikipedia\n",
    "wikipedia.set_lang(\"ru\")"
   ]
  },
  {
   "cell_type": "code",
   "execution_count": 9,
   "metadata": {},
   "outputs": [],
   "source": [
    "sw=stopwords.words('english')"
   ]
  },
  {
   "cell_type": "code",
   "execution_count": 12,
   "metadata": {},
   "outputs": [
    {
     "name": "stdout",
     "output_type": "stream",
     "text": [
      "{'Eminem': [[('англ', 3), ('более', 3), ('самых', 3), ('альбомов', 3), ('III', 2)]], 'Leonard Cohen': [[('песни', 3), ('Коэн', 3), ('Канады', 3), ('году', 2), ('Коэна', 2)]], 'Lana Del Rey': [[('Дель', 5), ('Рей', 5), ('году', 4), ('англ', 2), ('за', 2)]]}\n"
     ]
    }
   ],
   "source": [
    "artists=[\"Eminem\",\"Leonard Cohen\",\"Lana Del Rey\"]\n",
    "most_common_words={}\n",
    "for name in artists:\n",
    "    summary = TextBlob(wikipedia.summary(name, sentences=20)).words\n",
    "    blob = [i for i in summary if len(i)>1 and i not in sw]\n",
    "    most_common_words[name] = []\n",
    "    most_common_words[name].append(nltk.FreqDist(blob).most_common(5))\n",
    "print(most_common_words)"
   ]
  },
  {
   "cell_type": "markdown",
   "metadata": {},
   "source": [
    "## 3) Create a class of a human that has data attribute \"nationality\" as Armenian (i.e. the general\n",
    "variable).\n",
    "- a) Make sure that the instances of human class have arguments name, surname,\n",
    "profession and salary (inside init).\n",
    "- b) The class defined must have a method that returns an expression in this format: \"Hi, I\n",
    "am \"name\" ,\"surname\". I am a/an \"profession\" and I earn \"salary\" a month.\" (inside the\n",
    "quote values such as name and surname the relevant attributes of that person should be\n",
    "used.\n",
    "- c) Create one or more objects of the class and execute the class method defined on\n",
    "point b)."
   ]
  },
  {
   "cell_type": "code",
   "execution_count": 13,
   "metadata": {},
   "outputs": [],
   "source": [
    "class human:\n",
    "    nationality = 'Armenian'\n",
    "    def __init__(self, name, surname, profession, salary):\n",
    "        self.name = name\n",
    "        self.surname = surname\n",
    "        self.profession = profession\n",
    "        self.salary = salary\n",
    "    def info(self):\n",
    "        return \"Hi, I am \" + self.name + \" \" + self.surname + \". I am a/an \" + self.profession + \" and I earn $\" + self.salary + \" a month.\"        "
   ]
  },
  {
   "cell_type": "code",
   "execution_count": 14,
   "metadata": {},
   "outputs": [],
   "source": [
    "person=human(\"James\",\"McAvoy\",\"actor\",\"2000\")"
   ]
  },
  {
   "cell_type": "code",
   "execution_count": 15,
   "metadata": {},
   "outputs": [
    {
     "name": "stdout",
     "output_type": "stream",
     "text": [
      "Hi, I am James McAvoy. I am a/an actor and I earn $2000 a month. \n",
      " James \n",
      " McAvoy \n",
      " Armenian\n"
     ]
    }
   ],
   "source": [
    "print(person.info(),\"\\n\",person.name,\"\\n\",person.surname,\"\\n\",person.nationality)"
   ]
  }
 ],
 "metadata": {
  "kernelspec": {
   "display_name": "Python 3",
   "language": "python",
   "name": "python3"
  },
  "language_info": {
   "codemirror_mode": {
    "name": "ipython",
    "version": 3
   },
   "file_extension": ".py",
   "mimetype": "text/x-python",
   "name": "python",
   "nbconvert_exporter": "python",
   "pygments_lexer": "ipython3",
   "version": "3.6.8"
  }
 },
 "nbformat": 4,
 "nbformat_minor": 2
}
