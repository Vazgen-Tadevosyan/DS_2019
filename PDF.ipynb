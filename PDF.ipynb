{
 "cells": [
  {
   "cell_type": "markdown",
   "metadata": {
    "colab_type": "text",
    "id": "CwCpJqPAlpA9"
   },
   "source": [
    "# Installations\n",
    "`pip install PyPDF2 pdfminer.six pdfquery tabula-py slate3k pytesseract`<br>\n",
    "tabula-py is a simple Python wrapper of tabula-java, which can read table of PDF. You can read tables from PDF and convert into pandas's DataFrame. tabula-py also enables you to convert a PDF file into CSV/TSV/JSON file."
   ]
  },
  {
   "cell_type": "code",
   "execution_count": 0,
   "metadata": {
    "colab": {},
    "colab_type": "code",
    "id": "H1btEdU3lpA-"
   },
   "outputs": [],
   "source": [
    "import PyPDF2\n",
    "\n",
    "file = open('foo.pdf', 'rb') #open\n",
    "pdf = PyPDF2.PdfFileReader(file) #read\n",
    "print(pdf.numPages) #number of pages\n",
    "\n",
    "p0 = pdf.getPage(0) #page 0\n",
    "print(p0.extractText()) #text in page 0\n",
    "\n",
    "p12 = pdf.getPage(12) #page 12\n",
    "print(p12.extractText())"
   ]
  },
  {
   "cell_type": "markdown",
   "metadata": {
    "colab_type": "text",
    "id": "0oB9-XXhlpB6"
   },
   "source": [
    "# Extracting PDF tables"
   ]
  },
  {
   "cell_type": "code",
   "execution_count": 0,
   "metadata": {
    "colab": {},
    "colab_type": "code",
    "id": "TbUUybJylpB7",
    "scrolled": true
   },
   "outputs": [],
   "source": [
    "df = tabula.read_pdf(\"foo.pdf\", pages='all', multiple_tables=True)"
   ]
  },
  {
   "cell_type": "markdown",
   "metadata": {
    "colab_type": "text",
    "id": "MEAIjqMD9k2n"
   },
   "source": [
    "# PDF (Image) to Text"
   ]
  },
  {
   "cell_type": "code",
   "execution_count": 0,
   "metadata": {
    "colab": {},
    "colab_type": "code",
    "id": "Bmr90jF3lpCI"
   },
   "outputs": [],
   "source": [
    "import pytesseract\n",
    "from PIL import Image"
   ]
  },
  {
   "cell_type": "code",
   "execution_count": 0,
   "metadata": {
    "colab": {},
    "colab_type": "code",
    "id": "uGmFvkNGlpCK"
   },
   "outputs": [],
   "source": [
    "pytesseract.pytesseract.tesseract_cmd = r'C:\\Program Files (x86)\\Tesseract-OCR'\n",
    "print(pytesseract.image_to_string(Image.open('foo.png')))"
   ]
  }
 ],
 "metadata": {
  "colab": {
   "name": "PDF.ipynb",
   "provenance": [],
   "toc_visible": true,
   "version": "0.3.2"
  },
  "kernelspec": {
   "display_name": "Python 3",
   "language": "python",
   "name": "python3"
  },
  "language_info": {
   "codemirror_mode": {
    "name": "ipython",
    "version": 3
   },
   "file_extension": ".py",
   "mimetype": "text/x-python",
   "name": "python",
   "nbconvert_exporter": "python",
   "pygments_lexer": "ipython3",
   "version": "3.7.3"
  }
 },
 "nbformat": 4,
 "nbformat_minor": 1
}
